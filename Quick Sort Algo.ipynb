{
 "cells": [
  {
   "cell_type": "code",
   "execution_count": 31,
   "id": "d178cbee-a268-4e7e-9494-bd03b90b4c07",
   "metadata": {},
   "outputs": [],
   "source": [
    "def partition(arr,low,high):\n",
    "    i=low-1\n",
    "    pivot= arr[high]\n",
    "    for j in range(low,high):\n",
    "        if arr[j]<=pivot:\n",
    "            i +=1\n",
    "            arr[i],arr[j]=arr[j],arr[i]\n",
    "        \n",
    "    arr[i+1],arr[high]=arr[high],arr[i+1]\n",
    "    return (i+1)\n",
    "        \n",
    "\n",
    "def quicksort(arr,low,high):\n",
    "    if len(arr)==1:\n",
    "        return arr\n",
    "    if low<high:\n",
    "        pi= partition(arr,low,high)\n",
    "        quicksort(arr,low,pi-1)\n",
    "        quicksort(arr,pi+1,high)\n",
    "        \n"
   ]
  },
  {
   "cell_type": "code",
   "execution_count": 32,
   "id": "24392fbb-ffac-4ae7-82b7-d6a61f9ef8fa",
   "metadata": {},
   "outputs": [
    {
     "name": "stdout",
     "output_type": "stream",
     "text": [
      "Sorted array is:\n",
      "0\n",
      "2\n",
      "3\n",
      "4\n",
      "6\n",
      "7\n",
      "10\n",
      "23\n",
      "33\n",
      "44\n",
      "45\n",
      "46\n",
      "55\n",
      "56\n",
      "58\n",
      "66\n",
      "66\n",
      "77\n",
      "84\n",
      "86\n",
      "87\n",
      "88\n",
      "88\n",
      "89\n",
      "95\n",
      "98\n",
      "98\n",
      "99\n",
      "122\n",
      "134\n",
      "144\n",
      "231\n",
      "354\n",
      "546\n",
      "785\n",
      "7543\n",
      "8905\n",
      "8954\n"
     ]
    }
   ],
   "source": [
    "# arr = [10, 7, 8, 9, 1, 5]\n",
    "arr=[10,4,6,3,2,7,0,88,77,66,55,144,66,99,88,98,56,46,33,44,23,122,134,231,354,546,785,8905,8954,7543,86,84,45,58,87,89,95,98]\n",
    "n = len(arr)\n",
    "quicksort(arr, 0, n-1)\n",
    "print(\"Sorted array is:\")\n",
    "for i in range(n):\n",
    "    print(\"%d\" % arr[i])\n",
    " "
   ]
  },
  {
   "cell_type": "raw",
   "id": "d981a14d-21eb-41b8-b2aa-59b8dc711c6c",
   "metadata": {},
   "source": []
  },
  {
   "cell_type": "code",
   "execution_count": 23,
   "id": "cf1bb332-793f-47c4-abb9-b51fb8c37254",
   "metadata": {},
   "outputs": [
    {
     "name": "stdout",
     "output_type": "stream",
     "text": [
      "[0, 2, 3, 4, 6, 7, 10, 23, 33, 44, 45, 46, 55, 56, 58, 66, 66, 77, 84, 86, 87, 88, 88, 89, 95, 98, 98, 99, 122, 134, 144, 231, 354, 546, 785, 7543, 8905, 8954]"
     ]
    }
   ],
   "source": [
    "print(arr,end=\"\")"
   ]
  },
  {
   "cell_type": "code",
   "execution_count": 30,
   "id": "3f4f282c-ed30-4074-80eb-5e8236b517fb",
   "metadata": {},
   "outputs": [],
   "source": []
  },
  {
   "cell_type": "code",
   "execution_count": null,
   "id": "256885b7-e15a-4b56-adbe-0eff457dfb9b",
   "metadata": {},
   "outputs": [],
   "source": []
  },
  {
   "cell_type": "code",
   "execution_count": null,
   "id": "f5b62a6d-f6b9-47e7-807c-28dc80569359",
   "metadata": {},
   "outputs": [],
   "source": []
  }
 ],
 "metadata": {
  "kernelspec": {
   "display_name": "Python 3",
   "language": "python",
   "name": "python3"
  },
  "language_info": {
   "codemirror_mode": {
    "name": "ipython",
    "version": 3
   },
   "file_extension": ".py",
   "mimetype": "text/x-python",
   "name": "python",
   "nbconvert_exporter": "python",
   "pygments_lexer": "ipython3",
   "version": "3.8.5"
  }
 },
 "nbformat": 4,
 "nbformat_minor": 5
}

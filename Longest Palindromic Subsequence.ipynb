{
 "cells": [
  {
   "cell_type": "code",
   "execution_count": 151,
   "id": "868a7c6f",
   "metadata": {},
   "outputs": [],
   "source": [
    "arr1 = [\"a\",\"b\",\"c\",\"d\",\"e\"]\n",
    "arr2 = [\"a\",\"b\",\"f\",\"d\",\"e\",\"t\"]\n",
    "\n",
    "res = []\n",
    "\n",
    "n = 5\n",
    "m = 6"
   ]
  },
  {
   "cell_type": "code",
   "execution_count": 152,
   "id": "ef49ad31",
   "metadata": {},
   "outputs": [],
   "source": [
    "table = [[-1 for x in range(n+1)] for y in range(m+1)]"
   ]
  },
  {
   "cell_type": "code",
   "execution_count": 153,
   "id": "9ea3c31c",
   "metadata": {},
   "outputs": [],
   "source": [
    "def afunc(arr1,arr2,m,n,t, res):\n",
    "#     print(n,m)\n",
    "    if n<=0 or m<=0:\n",
    "        return 0\n",
    "    elif arr1[n-1] == arr2[m-1]:\n",
    "#         print(\"Yes\")\n",
    "#         res.append(arr1[n-1])\n",
    "        t[m][n] = 1 + afunc(arr1,arr2,m-1,n-1,t,res)\n",
    "        return t[m][n]\n",
    "    else:\n",
    "        t[m][n] = (max(afunc(arr1,arr2,m-1,n,t,res), afunc(arr1,arr2,m,n-1,t,res)))\n",
    "        \n",
    "        \n",
    "        return t[m][n]\n",
    "    \n",
    "    \n",
    "    print(\"Yes\")\n",
    "    return t[m][n]"
   ]
  },
  {
   "cell_type": "code",
   "execution_count": 154,
   "id": "da374f1a",
   "metadata": {},
   "outputs": [
    {
     "data": {
      "text/plain": [
       "4"
      ]
     },
     "execution_count": 154,
     "metadata": {},
     "output_type": "execute_result"
    }
   ],
   "source": [
    "afunc(arr1,arr2,m,n,table,res)"
   ]
  },
  {
   "cell_type": "code",
   "execution_count": 159,
   "id": "fe6756a0",
   "metadata": {},
   "outputs": [
    {
     "data": {
      "text/plain": [
       "1"
      ]
     },
     "execution_count": 159,
     "metadata": {},
     "output_type": "execute_result"
    }
   ],
   "source": [
    "len(arr1)-table[m][n]"
   ]
  },
  {
   "cell_type": "code",
   "execution_count": 160,
   "id": "21290249",
   "metadata": {},
   "outputs": [
    {
     "data": {
      "text/plain": [
       "2"
      ]
     },
     "execution_count": 160,
     "metadata": {},
     "output_type": "execute_result"
    }
   ],
   "source": [
    "len(arr2)-table[m][n]"
   ]
  },
  {
   "cell_type": "code",
   "execution_count": 148,
   "id": "015b5b38",
   "metadata": {},
   "outputs": [
    {
     "data": {
      "text/plain": [
       "6"
      ]
     },
     "execution_count": 148,
     "metadata": {},
     "output_type": "execute_result"
    }
   ],
   "source": [
    "m"
   ]
  },
  {
   "cell_type": "code",
   "execution_count": 86,
   "id": "03ae2f76",
   "metadata": {},
   "outputs": [
    {
     "data": {
      "text/plain": [
       "5"
      ]
     },
     "execution_count": 86,
     "metadata": {},
     "output_type": "execute_result"
    }
   ],
   "source": [
    "m"
   ]
  },
  {
   "cell_type": "code",
   "execution_count": 87,
   "id": "2e6baed0",
   "metadata": {},
   "outputs": [
    {
     "data": {
      "text/plain": [
       "4"
      ]
     },
     "execution_count": 87,
     "metadata": {},
     "output_type": "execute_result"
    }
   ],
   "source": [
    "table[m][n]"
   ]
  },
  {
   "cell_type": "code",
   "execution_count": 88,
   "id": "e65bd6d0",
   "metadata": {},
   "outputs": [],
   "source": [
    "t = table.copy()"
   ]
  },
  {
   "cell_type": "code",
   "execution_count": 163,
   "id": "ee373bc6",
   "metadata": {},
   "outputs": [],
   "source": [
    "arr1 = [\"a\",\"b\",\"d\",\"a\"]\n",
    "arr2 = arr1[::-1]\n",
    "\n",
    "n = 4\n",
    "m = 4\n",
    "\n",
    "import numpy as np\n",
    "\n",
    "tt = [[0]*(n+1) for y in range(m+1)]\n",
    "\n",
    "s = []\n",
    "\n",
    "for i in range(n+1):\n",
    "    for j in range(m+1):\n",
    "               \n",
    "        if i == 0 or j == 0:\n",
    "\n",
    "            tt[i][j]= 0\n",
    "            \n",
    "        elif arr2[i-1] == arr1[j-1] :\n",
    "\n",
    "            tt[i][j] = tt[i-1][j-1] + 1\n",
    "            s.append(arr2[i-1])\n",
    "\n",
    "        else:\n",
    "\n",
    "            tt[i][j] = max(tt[i-1][j], tt[i][j-1])\n",
    "            "
   ]
  },
  {
   "cell_type": "code",
   "execution_count": 164,
   "id": "4fc8a159",
   "metadata": {},
   "outputs": [
    {
     "data": {
      "text/plain": [
       "[[0, 0, 0, 0, 0],\n",
       " [0, 1, 1, 1, 1],\n",
       " [0, 1, 1, 2, 2],\n",
       " [0, 1, 2, 2, 2],\n",
       " [0, 1, 2, 2, 3]]"
      ]
     },
     "execution_count": 164,
     "metadata": {},
     "output_type": "execute_result"
    }
   ],
   "source": [
    "tt"
   ]
  },
  {
   "cell_type": "code",
   "execution_count": 91,
   "id": "4a2ae019",
   "metadata": {},
   "outputs": [
    {
     "data": {
      "text/plain": [
       "['a', 'b', 'g', 'e']"
      ]
     },
     "execution_count": 91,
     "metadata": {},
     "output_type": "execute_result"
    }
   ],
   "source": [
    "arr1"
   ]
  },
  {
   "cell_type": "code",
   "execution_count": 92,
   "id": "e0e3e0f4",
   "metadata": {},
   "outputs": [
    {
     "data": {
      "text/plain": [
       "['a', 'b', 'd', 'e']"
      ]
     },
     "execution_count": 92,
     "metadata": {},
     "output_type": "execute_result"
    }
   ],
   "source": [
    "arr2"
   ]
  },
  {
   "cell_type": "code",
   "execution_count": 93,
   "id": "2b0b340e",
   "metadata": {},
   "outputs": [
    {
     "data": {
      "text/plain": [
       "['a', 'b', 'e']"
      ]
     },
     "execution_count": 93,
     "metadata": {},
     "output_type": "execute_result"
    }
   ],
   "source": [
    "s"
   ]
  },
  {
   "cell_type": "code",
   "execution_count": 94,
   "id": "2234931d",
   "metadata": {},
   "outputs": [],
   "source": [
    "lcs = \"\".join(s)"
   ]
  },
  {
   "cell_type": "code",
   "execution_count": 95,
   "id": "93528d4b",
   "metadata": {},
   "outputs": [
    {
     "data": {
      "text/plain": [
       "'abe'"
      ]
     },
     "execution_count": 95,
     "metadata": {},
     "output_type": "execute_result"
    }
   ],
   "source": [
    "lcs"
   ]
  },
  {
   "cell_type": "code",
   "execution_count": 96,
   "id": "b4267d01",
   "metadata": {},
   "outputs": [
    {
     "data": {
      "text/plain": [
       "[0, 1, 0, 0, 0]"
      ]
     },
     "execution_count": 96,
     "metadata": {},
     "output_type": "execute_result"
    }
   ],
   "source": [
    "max(tt)"
   ]
  },
  {
   "cell_type": "code",
   "execution_count": null,
   "id": "69e3aec5",
   "metadata": {},
   "outputs": [],
   "source": []
  },
  {
   "cell_type": "code",
   "execution_count": null,
   "id": "2d8159e3",
   "metadata": {},
   "outputs": [],
   "source": []
  },
  {
   "cell_type": "code",
   "execution_count": 53,
   "id": "da54e919",
   "metadata": {},
   "outputs": [
    {
     "data": {
      "text/plain": [
       "2"
      ]
     },
     "execution_count": 53,
     "metadata": {},
     "output_type": "execute_result"
    }
   ],
   "source": [
    "res"
   ]
  },
  {
   "cell_type": "code",
   "execution_count": null,
   "id": "1dbbb058",
   "metadata": {},
   "outputs": [],
   "source": [
    "arr1 = [\"a\",\"b\",\"g\",\"e\"]\n",
    "arr2 = [\"a\",\"b\",\"d\",\"e\"]\n",
    "\n",
    "n = 4\n",
    "m = 4\n",
    "\n",
    "res = 0\n",
    "\n",
    "tt = [[0]*(n+1) for y in range(m+1)]\n",
    "\n",
    "s = []\n",
    "\n",
    "for i in range(n+1):\n",
    "    for j in range(m+1):\n",
    "               \n",
    "        if i == 0 or j == 0:\n",
    "\n",
    "            tt[i][j]= 0\n",
    "            \n",
    "        elif arr2[i-1] == arr1[j-1] :\n",
    "\n",
    "            tt[i][j] = tt[i-1][j-1] + 1\n",
    "            s.append(arr2[i-1])\n",
    "            res = max(res, tt[i][j])\n",
    "\n",
    "        else:\n",
    "\n",
    "            tt[i][j] = 0\n",
    "            "
   ]
  }
 ],
 "metadata": {
  "kernelspec": {
   "display_name": "Python 3",
   "language": "python",
   "name": "python3"
  },
  "language_info": {
   "codemirror_mode": {
    "name": "ipython",
    "version": 3
   },
   "file_extension": ".py",
   "mimetype": "text/x-python",
   "name": "python",
   "nbconvert_exporter": "python",
   "pygments_lexer": "ipython3",
   "version": "3.8.5"
  }
 },
 "nbformat": 4,
 "nbformat_minor": 5
}

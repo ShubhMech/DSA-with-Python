{
 "cells": [
  {
   "cell_type": "code",
   "execution_count": 9,
   "id": "ce1b17e6-2779-4877-9281-1094328c7141",
   "metadata": {},
   "outputs": [],
   "source": [
    "def min_max(arr):\n",
    "    max_= arr[0]\n",
    "    min_= arr[0]\n",
    "    if len(arr)==1:\n",
    "        \n",
    "        return max_,min_\n",
    "    \n",
    "    else:\n",
    "\n",
    "        \n",
    "        for i in range(1,len(arr)):\n",
    "            if arr[i]> max_:\n",
    "                max_ = arr[i]\n",
    "            if arr[i]<min_:\n",
    "                min_ = arr[i]\n",
    "                \n",
    "    return max_,min_\n",
    "            "
   ]
  },
  {
   "cell_type": "code",
   "execution_count": 12,
   "id": "3990fd4e-c4e8-4816-b181-dfaf82a09444",
   "metadata": {},
   "outputs": [
    {
     "data": {
      "text/plain": [
       "(21111, 11)"
      ]
     },
     "execution_count": 12,
     "metadata": {},
     "output_type": "execute_result"
    }
   ],
   "source": [
    "arr=[11,21111,311,411,50]\n",
    "min_max(arr)"
   ]
  },
  {
   "cell_type": "code",
   "execution_count": null,
   "id": "58c3dd97-33cd-4035-96a9-1269d32c0a2f",
   "metadata": {},
   "outputs": [],
   "source": []
  }
 ],
 "metadata": {
  "kernelspec": {
   "display_name": "Python 3",
   "language": "python",
   "name": "python3"
  },
  "language_info": {
   "codemirror_mode": {
    "name": "ipython",
    "version": 3
   },
   "file_extension": ".py",
   "mimetype": "text/x-python",
   "name": "python",
   "nbconvert_exporter": "python",
   "pygments_lexer": "ipython3",
   "version": "3.8.5"
  }
 },
 "nbformat": 4,
 "nbformat_minor": 5
}

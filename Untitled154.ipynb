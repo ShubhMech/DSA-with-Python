{
 "cells": [
  {
   "cell_type": "code",
   "execution_count": 50,
   "id": "9006614e",
   "metadata": {},
   "outputs": [],
   "source": [
    "arr = [1,3,5,7,9,10,11,14,15,17,111,22,34,34,34,543,5,6,3,65,65,76,3,6,7,98,4,67,8,5,7,8,9,5,78,98,6,87,989,5,999,88,77,66,77,88,66,67,76,78,554,54,677,554,89,9,19,float('inf'),float('inf'),float('inf'),float('inf'),float('inf'),float('inf'),float('inf'),float('inf'),float('inf'),float('inf'),float('inf'),float('inf'),float('inf'),float('inf')]"
   ]
  },
  {
   "cell_type": "code",
   "execution_count": 31,
   "id": "06d890ce",
   "metadata": {},
   "outputs": [],
   "source": [
    "def bina(arr,low,high,val):\n",
    "    \n",
    "    print(low,high)\n",
    "    \n",
    "    if low==high:\n",
    "        print(\"Yes\")\n",
    "        if arr[low]==val:\n",
    "            print(\"Mil Gaya\")\n",
    "        else:\n",
    "            print(arr[low],val)\n",
    "            return -1\n",
    "    else:\n",
    "        mid = low + (high-low)//2\n",
    "        if arr[mid]==val:\n",
    "            print(\"Mil Gaya\")\n",
    "        elif val>arr[mid]:\n",
    "            bina(arr,mid+1,high,val)\n",
    "        else:\n",
    "            bina(arr,low,mid,val)"
   ]
  },
  {
   "cell_type": "code",
   "execution_count": 32,
   "id": "d050069c",
   "metadata": {},
   "outputs": [
    {
     "name": "stdout",
     "output_type": "stream",
     "text": [
      "0 70\n",
      "36 70\n",
      "36 53\n",
      "45 53\n",
      "50 53\n",
      "52 53\n",
      "52 52\n",
      "Yes\n",
      "677 110\n"
     ]
    }
   ],
   "source": [
    "aa=bina(arr,0,len(arr)-1,110)"
   ]
  },
  {
   "cell_type": "code",
   "execution_count": 33,
   "id": "f55f25a8",
   "metadata": {},
   "outputs": [
    {
     "data": {
      "text/plain": [
       "70"
      ]
     },
     "execution_count": 33,
     "metadata": {},
     "output_type": "execute_result"
    }
   ],
   "source": [
    "len(arr)-1"
   ]
  },
  {
   "cell_type": "code",
   "execution_count": 34,
   "id": "7c5ce5dc",
   "metadata": {},
   "outputs": [],
   "source": [
    "aa"
   ]
  },
  {
   "cell_type": "code",
   "execution_count": 47,
   "id": "87e733e6",
   "metadata": {},
   "outputs": [],
   "source": [
    "def afunc(arr,low,high):\n",
    "    \n",
    "    if len (arr)== 0 :\n",
    "        print(\"Nikal Laude\")\n",
    "   \n",
    "    elif len(arr) == 1:\n",
    "        if arr[0]== float('inf'):\n",
    "            return 0\n",
    "        else:\n",
    "            print(\"Nikal Laude\")\n",
    "\n",
    "    elif low==high:\n",
    "        \n",
    "        if arr[low]== float('inf'):\n",
    "            return low\n",
    "        \n",
    "        else:\n",
    "            print(\"Bhag\")\n",
    "            return -1\n",
    "    \n",
    "    else:\n",
    "        \n",
    "        mid = low + (high-low)//2\n",
    "        \n",
    "#         print(mid, arr[mid])\n",
    "            \n",
    "        if arr[mid] == float('inf'):\n",
    "            if arr[mid-1] != float('inf'):\n",
    "                print(mid)\n",
    "            \n",
    "            elif arr[mid-1] == float('inf'):\n",
    "                afunc(arr,low,mid-1)\n",
    "        else:\n",
    "            afunc(arr,mid+1,high)\n",
    "\n",
    "                "
   ]
  },
  {
   "cell_type": "code",
   "execution_count": 48,
   "id": "bd67fb39",
   "metadata": {},
   "outputs": [
    {
     "name": "stdout",
     "output_type": "stream",
     "text": [
      "Nikal Laude\n"
     ]
    }
   ],
   "source": [
    "afunc(arr,0,len(arr)-1)"
   ]
  },
  {
   "cell_type": "code",
   "execution_count": 49,
   "id": "673a5413",
   "metadata": {},
   "outputs": [],
   "source": [
    "arr=[11]"
   ]
  },
  {
   "cell_type": "code",
   "execution_count": 46,
   "id": "7a18dca0",
   "metadata": {},
   "outputs": [
    {
     "name": "stdout",
     "output_type": "stream",
     "text": [
      "Laude Laude\n"
     ]
    }
   ],
   "source": [
    "afunc(arr,0,0)"
   ]
  },
  {
   "cell_type": "code",
   "execution_count": null,
   "id": "a382dee9",
   "metadata": {},
   "outputs": [],
   "source": []
  },
  {
   "cell_type": "code",
   "execution_count": 37,
   "id": "5276d2ed",
   "metadata": {},
   "outputs": [
    {
     "data": {
      "text/plain": [
       "True"
      ]
     },
     "execution_count": 37,
     "metadata": {},
     "output_type": "execute_result"
    }
   ],
   "source": [
    "-float('inf')<0"
   ]
  },
  {
   "cell_type": "code",
   "execution_count": 29,
   "id": "c56d4ae1",
   "metadata": {},
   "outputs": [
    {
     "data": {
      "text/plain": [
       "71"
      ]
     },
     "execution_count": 29,
     "metadata": {},
     "output_type": "execute_result"
    }
   ],
   "source": [
    "len(arr)"
   ]
  },
  {
   "cell_type": "code",
   "execution_count": 41,
   "id": "ade8de36",
   "metadata": {},
   "outputs": [
    {
     "name": "stdout",
     "output_type": "stream",
     "text": [
      "57\n"
     ]
    }
   ],
   "source": [
    "for i in range(len(arr)):\n",
    "    if arr[i]==float('inf'):\n",
    "        print(i)\n",
    "        break\n",
    "        "
   ]
  },
  {
   "cell_type": "code",
   "execution_count": 51,
   "id": "b059300d",
   "metadata": {},
   "outputs": [
    {
     "data": {
      "text/plain": [
       "[1,\n",
       " 3,\n",
       " 5,\n",
       " 7,\n",
       " 9,\n",
       " 10,\n",
       " 11,\n",
       " 14,\n",
       " 15,\n",
       " 17,\n",
       " 111,\n",
       " 22,\n",
       " 34,\n",
       " 34,\n",
       " 34,\n",
       " 543,\n",
       " 5,\n",
       " 6,\n",
       " 3,\n",
       " 65,\n",
       " 65,\n",
       " 76,\n",
       " 3,\n",
       " 6,\n",
       " 7,\n",
       " 98,\n",
       " 4,\n",
       " 67,\n",
       " 8,\n",
       " 5,\n",
       " 7,\n",
       " 8,\n",
       " 9,\n",
       " 5,\n",
       " 78,\n",
       " 98,\n",
       " 6,\n",
       " 87,\n",
       " 989,\n",
       " 5,\n",
       " 999,\n",
       " 88,\n",
       " 77,\n",
       " 66,\n",
       " 77,\n",
       " 88,\n",
       " 66,\n",
       " 67,\n",
       " 76,\n",
       " 78,\n",
       " 554,\n",
       " 54,\n",
       " 677,\n",
       " 554,\n",
       " 89,\n",
       " 9,\n",
       " 19,\n",
       " inf,\n",
       " inf,\n",
       " inf,\n",
       " inf,\n",
       " inf,\n",
       " inf,\n",
       " inf,\n",
       " inf,\n",
       " inf,\n",
       " inf,\n",
       " inf,\n",
       " inf,\n",
       " inf,\n",
       " inf]"
      ]
     },
     "execution_count": 51,
     "metadata": {},
     "output_type": "execute_result"
    }
   ],
   "source": [
    "arr"
   ]
  },
  {
   "cell_type": "code",
   "execution_count": 349,
   "id": "a2b0b22a",
   "metadata": {},
   "outputs": [],
   "source": [
    "arr = [1,3,5,7,9,10,11,14,15,17,111,22,34,34,34,543,5,6,3,65,65,76,3,6,7,98,4,67,8,5,7,8,9,5,78,98,6,87,989,5,999,88,77,66,77,88,66,67,76,78,554,54,677,554,89,9,19]"
   ]
  },
  {
   "cell_type": "code",
   "execution_count": 308,
   "id": "c7db54f0",
   "metadata": {},
   "outputs": [],
   "source": [
    "arr.sort()"
   ]
  },
  {
   "cell_type": "code",
   "execution_count": 309,
   "id": "cb94d2dc",
   "metadata": {},
   "outputs": [
    {
     "name": "stdout",
     "output_type": "stream",
     "text": [
      "[1, 3, 3, 3, 4, 5, 5, 5, 5, 5, 6, 6, 6, 7, 7, 7, 8, 8, 9, 9, 9, 10, 11, 14, 15, 17, 19, 22, 34, 34, 34, 54, 65, 65, 66, 66, 67, 67, 76, 76, 77, 77, 78, 78, 87, 88, 88, 89, 98, 98, 111, 543, 554, 554, 677, 989, 999]"
     ]
    }
   ],
   "source": [
    "print(arr, end = \"\")"
   ]
  },
  {
   "cell_type": "code",
   "execution_count": 310,
   "id": "639db1ee",
   "metadata": {},
   "outputs": [],
   "source": [
    "vals = []\n",
    "diff = float('inf')\n",
    "val =300"
   ]
  },
  {
   "cell_type": "code",
   "execution_count": 311,
   "id": "258fe6ad",
   "metadata": {},
   "outputs": [],
   "source": [
    "def recursive(arr, low, high, curr_i, val):\n",
    "    \n",
    "    global vals\n",
    "    global diff\n",
    "    \n",
    "    print(\" Diff and Vals are :\", diff,vals)\n",
    "    \n",
    "    if low < high:\n",
    "\n",
    "        ii = curr_i\n",
    "        mid = low + (-low + high)//2\n",
    "        \n",
    "        print(arr[ii], arr[mid])\n",
    "        \n",
    "#         print(low,mid,high)\n",
    "        \n",
    "        if mid == low:\n",
    "            return \n",
    "        \n",
    "        sum1 = arr[ii] + arr[mid]\n",
    "        \n",
    "        if sum1<val:\n",
    "            recursive(arr, mid+1, high, ii, val)\n",
    "            \n",
    "        elif sum1>val:          \n",
    "            recursive(arr, low, mid, ii, val)\n",
    "            \n",
    "        if abs(val-sum1) < diff:\n",
    "            diff = abs(val-sum1)\n",
    "            vals = []\n",
    "            vals.append(arr[ii])\n",
    "            vals.append(arr[mid])\n",
    "            \n",
    "    return"
   ]
  },
  {
   "cell_type": "code",
   "execution_count": 312,
   "id": "fa56a48c",
   "metadata": {},
   "outputs": [],
   "source": [
    "# for loop lagao, aage i+1 ke liye mid value nikalo, phir diff check akro, vals update karo. Itna karne ke baad recursive loop\n",
    "# chala do, tab tak jab tak low chhota ho high se, yaha se return karke jao for loop me.  "
   ]
  },
  {
   "cell_type": "code",
   "execution_count": 313,
   "id": "bb8b8c73",
   "metadata": {},
   "outputs": [
    {
     "name": "stdout",
     "output_type": "stream",
     "text": [
      "[1, 3, 3, 3, 4, 5, 5, 5, 5, 5, 6, 6, 6, 7, 7, 7, 8, 8, 9, 9, 9, 10, 11, 14, 15, 17, 19, 22, 34, 34, 34, 54, 65, 65, 66, 66, 67, 67, 76, 76, 77, 77, 78, 78, 87, 88, 88, 89, 98, 98, 111, 543, 554, 554, 677, 989, 999]"
     ]
    }
   ],
   "source": [
    "print(arr, end = \"\")"
   ]
  },
  {
   "cell_type": "code",
   "execution_count": 314,
   "id": "5b3d60df",
   "metadata": {},
   "outputs": [
    {
     "name": "stdout",
     "output_type": "stream",
     "text": [
      "i is : 0\n",
      " Diff and Vals are : inf []\n",
      "1 34\n",
      " Diff and Vals are : inf []\n",
      "1 78\n",
      " Diff and Vals are : inf []\n",
      "1 98\n",
      " Diff and Vals are : inf []\n",
      "1 554\n",
      " Diff and Vals are : inf []\n",
      "1 543\n",
      " Diff and Vals are : inf []\n",
      "1 111\n",
      "i is : 1\n",
      " Diff and Vals are : 201 [1, 98]\n",
      "3 34\n",
      " Diff and Vals are : 201 [1, 98]\n",
      "3 78\n",
      " Diff and Vals are : 201 [1, 98]\n",
      "3 111\n",
      " Diff and Vals are : 201 [1, 98]\n",
      "3 554\n",
      " Diff and Vals are : 201 [1, 98]\n",
      "3 554\n",
      " Diff and Vals are : 201 [1, 98]\n",
      "3 543\n",
      "i is : 2\n",
      " Diff and Vals are : 186 [3, 111]\n",
      "3 34\n",
      " Diff and Vals are : 186 [3, 111]\n",
      "3 78\n",
      " Diff and Vals are : 186 [3, 111]\n",
      "3 111\n",
      " Diff and Vals are : 186 [3, 111]\n",
      "3 554\n",
      " Diff and Vals are : 186 [3, 111]\n",
      "3 554\n",
      " Diff and Vals are : 186 [3, 111]\n",
      "3 543\n",
      "i is : 3\n",
      " Diff and Vals are : 186 [3, 111]\n",
      "3 34\n",
      " Diff and Vals are : 186 [3, 111]\n",
      "3 78\n",
      " Diff and Vals are : 186 [3, 111]\n",
      "3 111\n",
      " Diff and Vals are : 186 [3, 111]\n",
      "3 554\n",
      " Diff and Vals are : 186 [3, 111]\n",
      "3 554\n",
      " Diff and Vals are : 186 [3, 111]\n",
      "3 543\n",
      "i is : 4\n",
      " Diff and Vals are : 186 [3, 111]\n",
      "4 34\n",
      " Diff and Vals are : 186 [3, 111]\n",
      "4 78\n",
      " Diff and Vals are : 186 [3, 111]\n",
      "4 111\n",
      " Diff and Vals are : 186 [3, 111]\n",
      "4 554\n",
      " Diff and Vals are : 186 [3, 111]\n",
      "4 554\n",
      " Diff and Vals are : 186 [3, 111]\n",
      "4 543\n",
      "i is : 5\n",
      " Diff and Vals are : 185 [4, 111]\n",
      "5 54\n",
      " Diff and Vals are : 185 [4, 111]\n",
      "5 87\n",
      " Diff and Vals are : 185 [4, 111]\n",
      "5 111\n",
      " Diff and Vals are : 185 [4, 111]\n",
      "5 554\n",
      " Diff and Vals are : 185 [4, 111]\n",
      "5 554\n",
      " Diff and Vals are : 185 [4, 111]\n",
      "5 543\n",
      "i is : 6\n",
      " Diff and Vals are : 184 [5, 111]\n",
      "5 54\n",
      " Diff and Vals are : 184 [5, 111]\n",
      "5 87\n",
      " Diff and Vals are : 184 [5, 111]\n",
      "5 111\n",
      " Diff and Vals are : 184 [5, 111]\n",
      "5 554\n",
      " Diff and Vals are : 184 [5, 111]\n",
      "5 554\n",
      " Diff and Vals are : 184 [5, 111]\n",
      "5 543\n",
      "i is : 7\n",
      " Diff and Vals are : 184 [5, 111]\n",
      "5 65\n",
      " Diff and Vals are : 184 [5, 111]\n",
      "5 87\n",
      " Diff and Vals are : 184 [5, 111]\n",
      "5 111\n",
      " Diff and Vals are : 184 [5, 111]\n",
      "5 554\n",
      " Diff and Vals are : 184 [5, 111]\n",
      "5 554\n",
      " Diff and Vals are : 184 [5, 111]\n",
      "5 543\n",
      "i is : 8\n",
      " Diff and Vals are : 184 [5, 111]\n",
      "5 65\n",
      " Diff and Vals are : 184 [5, 111]\n",
      "5 87\n",
      " Diff and Vals are : 184 [5, 111]\n",
      "5 111\n",
      " Diff and Vals are : 184 [5, 111]\n",
      "5 554\n",
      " Diff and Vals are : 184 [5, 111]\n",
      "5 554\n",
      " Diff and Vals are : 184 [5, 111]\n",
      "5 543\n",
      "i is : 9\n",
      " Diff and Vals are : 184 [5, 111]\n",
      "5 65\n",
      " Diff and Vals are : 184 [5, 111]\n",
      "5 88\n",
      " Diff and Vals are : 184 [5, 111]\n",
      "5 543\n",
      " Diff and Vals are : 184 [5, 111]\n",
      "5 98\n",
      " Diff and Vals are : 184 [5, 111]\n",
      "5 111\n",
      " Diff and Vals are : 184 [5, 111]\n",
      "i is : 10\n",
      " Diff and Vals are : 184 [5, 111]\n",
      "6 65\n",
      " Diff and Vals are : 184 [5, 111]\n",
      "6 88\n",
      " Diff and Vals are : 184 [5, 111]\n",
      "6 543\n",
      " Diff and Vals are : 184 [5, 111]\n",
      "6 98\n",
      " Diff and Vals are : 184 [5, 111]\n",
      "6 111\n",
      " Diff and Vals are : 184 [5, 111]\n",
      "i is : 11\n",
      " Diff and Vals are : 183 [6, 111]\n",
      "6 66\n",
      " Diff and Vals are : 183 [6, 111]\n",
      "6 88\n",
      " Diff and Vals are : 183 [6, 111]\n",
      "6 543\n",
      " Diff and Vals are : 183 [6, 111]\n",
      "6 98\n",
      " Diff and Vals are : 183 [6, 111]\n",
      "6 111\n",
      " Diff and Vals are : 183 [6, 111]\n",
      "i is : 12\n",
      " Diff and Vals are : 183 [6, 111]\n",
      "6 66\n",
      " Diff and Vals are : 183 [6, 111]\n",
      "6 88\n",
      " Diff and Vals are : 183 [6, 111]\n",
      "6 543\n",
      " Diff and Vals are : 183 [6, 111]\n",
      "6 98\n",
      " Diff and Vals are : 183 [6, 111]\n",
      "6 111\n",
      " Diff and Vals are : 183 [6, 111]\n",
      "i is : 13\n",
      " Diff and Vals are : 183 [6, 111]\n",
      "7 66\n",
      " Diff and Vals are : 183 [6, 111]\n",
      "7 88\n",
      " Diff and Vals are : 183 [6, 111]\n",
      "7 543\n",
      " Diff and Vals are : 183 [6, 111]\n",
      "7 98\n",
      " Diff and Vals are : 183 [6, 111]\n",
      "7 111\n",
      "i is : 14\n",
      " Diff and Vals are : 183 [6, 111]\n",
      "7 66\n",
      " Diff and Vals are : 183 [6, 111]\n",
      "7 88\n",
      " Diff and Vals are : 183 [6, 111]\n",
      "7 543\n",
      " Diff and Vals are : 183 [6, 111]\n",
      "7 98\n",
      " Diff and Vals are : 183 [6, 111]\n",
      "7 111\n",
      "i is : 15\n",
      " Diff and Vals are : 183 [6, 111]\n",
      "7 67\n",
      " Diff and Vals are : 183 [6, 111]\n",
      "7 88\n",
      " Diff and Vals are : 183 [6, 111]\n",
      "7 543\n",
      " Diff and Vals are : 183 [6, 111]\n",
      "7 98\n",
      " Diff and Vals are : 183 [6, 111]\n",
      "7 111\n",
      "i is : 16\n",
      " Diff and Vals are : 183 [6, 111]\n",
      "8 67\n",
      " Diff and Vals are : 183 [6, 111]\n",
      "8 88\n",
      " Diff and Vals are : 183 [6, 111]\n",
      "8 543\n",
      " Diff and Vals are : 183 [6, 111]\n",
      "8 98\n",
      " Diff and Vals are : 183 [6, 111]\n",
      "8 111\n",
      "i is : 17\n",
      " Diff and Vals are : 183 [6, 111]\n",
      "8 67\n",
      " Diff and Vals are : 183 [6, 111]\n",
      "8 89\n",
      " Diff and Vals are : 183 [6, 111]\n",
      "8 554\n",
      " Diff and Vals are : 183 [6, 111]\n",
      "8 111\n",
      " Diff and Vals are : 183 [6, 111]\n",
      "8 543\n",
      "i is : 18\n",
      " Diff and Vals are : 181 [8, 111]\n",
      "9 67\n",
      " Diff and Vals are : 181 [8, 111]\n",
      "9 89\n",
      " Diff and Vals are : 181 [8, 111]\n",
      "9 554\n",
      " Diff and Vals are : 181 [8, 111]\n",
      "9 111\n",
      " Diff and Vals are : 181 [8, 111]\n",
      "9 543\n",
      "i is : 19\n",
      " Diff and Vals are : 180 [9, 111]\n",
      "9 76\n",
      " Diff and Vals are : 180 [9, 111]\n",
      "9 89\n",
      " Diff and Vals are : 180 [9, 111]\n",
      "9 554\n",
      " Diff and Vals are : 180 [9, 111]\n",
      "9 111\n",
      " Diff and Vals are : 180 [9, 111]\n",
      "9 543\n",
      "i is : 20\n",
      " Diff and Vals are : 180 [9, 111]\n",
      "9 76\n",
      " Diff and Vals are : 180 [9, 111]\n",
      "9 89\n",
      " Diff and Vals are : 180 [9, 111]\n",
      "9 554\n",
      " Diff and Vals are : 180 [9, 111]\n",
      "9 111\n",
      " Diff and Vals are : 180 [9, 111]\n",
      "9 543\n",
      "i is : 21\n",
      " Diff and Vals are : 180 [9, 111]\n",
      "10 76\n",
      " Diff and Vals are : 180 [9, 111]\n",
      "10 98\n",
      " Diff and Vals are : 180 [9, 111]\n",
      "10 554\n",
      " Diff and Vals are : 180 [9, 111]\n",
      "10 111\n",
      " Diff and Vals are : 180 [9, 111]\n",
      "10 543\n",
      "i is : 22\n",
      " Diff and Vals are : 179 [10, 111]\n",
      "11 76\n",
      " Diff and Vals are : 179 [10, 111]\n",
      "11 98\n",
      " Diff and Vals are : 179 [10, 111]\n",
      "11 554\n",
      " Diff and Vals are : 179 [10, 111]\n",
      "11 111\n",
      " Diff and Vals are : 179 [10, 111]\n",
      "11 543\n",
      "i is : 23\n",
      " Diff and Vals are : 178 [11, 111]\n",
      "14 77\n",
      " Diff and Vals are : 178 [11, 111]\n",
      "14 98\n",
      " Diff and Vals are : 178 [11, 111]\n",
      "14 554\n",
      " Diff and Vals are : 178 [11, 111]\n",
      "14 111\n",
      " Diff and Vals are : 178 [11, 111]\n",
      "14 543\n",
      "i is : 24\n",
      " Diff and Vals are : 175 [14, 111]\n",
      "15 77\n",
      " Diff and Vals are : 175 [14, 111]\n",
      "15 98\n",
      " Diff and Vals are : 175 [14, 111]\n",
      "15 554\n",
      " Diff and Vals are : 175 [14, 111]\n",
      "15 111\n",
      " Diff and Vals are : 175 [14, 111]\n",
      "15 543\n",
      "i is : 25\n",
      " Diff and Vals are : 174 [15, 111]\n",
      "17 77\n",
      " Diff and Vals are : 174 [15, 111]\n",
      "17 98\n",
      " Diff and Vals are : 174 [15, 111]\n",
      "17 554\n",
      " Diff and Vals are : 174 [15, 111]\n",
      "17 543\n",
      " Diff and Vals are : 174 [15, 111]\n",
      "17 111\n",
      "i is : 26\n",
      " Diff and Vals are : 174 [15, 111]\n",
      "19 77\n",
      " Diff and Vals are : 174 [15, 111]\n",
      "19 98\n",
      " Diff and Vals are : 174 [15, 111]\n",
      "19 554\n",
      " Diff and Vals are : 174 [15, 111]\n",
      "19 543\n",
      " Diff and Vals are : 174 [15, 111]\n",
      "19 111\n",
      "i is : 27\n",
      " Diff and Vals are : 174 [15, 111]\n",
      "22 78\n",
      " Diff and Vals are : 174 [15, 111]\n",
      "22 98\n",
      " Diff and Vals are : 174 [15, 111]\n",
      "22 554\n",
      " Diff and Vals are : 174 [15, 111]\n",
      "22 543\n",
      " Diff and Vals are : 174 [15, 111]\n",
      "22 111\n",
      "i is : 28\n",
      " Diff and Vals are : 174 [15, 111]\n",
      "34 78\n",
      " Diff and Vals are : 174 [15, 111]\n",
      "34 98\n",
      " Diff and Vals are : 174 [15, 111]\n",
      "34 554\n",
      " Diff and Vals are : 174 [15, 111]\n",
      "34 543\n",
      " Diff and Vals are : 174 [15, 111]\n",
      "34 111\n",
      "i is : 29\n",
      " Diff and Vals are : 168 [34, 98]\n",
      "34 78\n",
      " Diff and Vals are : 168 [34, 98]\n",
      "34 111\n",
      " Diff and Vals are : 168 [34, 98]\n",
      "34 554\n",
      " Diff and Vals are : 168 [34, 98]\n",
      "34 554\n",
      " Diff and Vals are : 168 [34, 98]\n",
      "34 543\n",
      "i is : 30\n",
      " Diff and Vals are : 155 [34, 111]\n",
      "34 78\n",
      " Diff and Vals are : 155 [34, 111]\n",
      "34 111\n",
      " Diff and Vals are : 155 [34, 111]\n",
      "34 554\n",
      " Diff and Vals are : 155 [34, 111]\n",
      "34 554\n",
      " Diff and Vals are : 155 [34, 111]\n",
      "34 543\n",
      "i is : 31\n",
      " Diff and Vals are : 155 [34, 111]\n",
      "54 87\n",
      " Diff and Vals are : 155 [34, 111]\n",
      "54 111\n",
      " Diff and Vals are : 155 [34, 111]\n",
      "54 554\n",
      " Diff and Vals are : 155 [34, 111]\n",
      "54 554\n",
      " Diff and Vals are : 155 [34, 111]\n",
      "54 543\n",
      "i is : 32\n",
      " Diff and Vals are : 135 [54, 111]\n",
      "65 87\n",
      " Diff and Vals are : 135 [54, 111]\n",
      "65 111\n",
      " Diff and Vals are : 135 [54, 111]\n",
      "65 554\n",
      " Diff and Vals are : 135 [54, 111]\n",
      "65 554\n",
      " Diff and Vals are : 135 [54, 111]\n",
      "65 543\n",
      "i is : 33\n",
      " Diff and Vals are : 124 [65, 111]\n",
      "65 88\n",
      " Diff and Vals are : 124 [65, 111]\n",
      "65 543\n",
      " Diff and Vals are : 124 [65, 111]\n",
      "65 98\n",
      " Diff and Vals are : 124 [65, 111]\n",
      "65 111\n",
      " Diff and Vals are : 124 [65, 111]\n",
      "i is : 34\n",
      " Diff and Vals are : 124 [65, 111]\n",
      "66 88\n",
      " Diff and Vals are : 124 [65, 111]\n",
      "66 543\n",
      " Diff and Vals are : 124 [65, 111]\n",
      "66 98\n",
      " Diff and Vals are : 124 [65, 111]\n",
      "66 111\n",
      " Diff and Vals are : 124 [65, 111]\n",
      "i is : 35\n",
      " Diff and Vals are : 123 [66, 111]\n",
      "66 88\n",
      " Diff and Vals are : 123 [66, 111]\n",
      "66 543\n",
      " Diff and Vals are : 123 [66, 111]\n",
      "66 98\n",
      " Diff and Vals are : 123 [66, 111]\n",
      "66 111\n",
      "i is : 36\n",
      " Diff and Vals are : 123 [66, 111]\n",
      "67 88\n",
      " Diff and Vals are : 123 [66, 111]\n",
      "67 543\n",
      " Diff and Vals are : 123 [66, 111]\n",
      "67 98\n",
      " Diff and Vals are : 123 [66, 111]\n",
      "67 111\n",
      "i is : 37\n",
      " Diff and Vals are : 123 [66, 111]\n",
      "67 89\n",
      " Diff and Vals are : 123 [66, 111]\n",
      "67 554\n",
      " Diff and Vals are : 123 [66, 111]\n",
      "67 111\n",
      " Diff and Vals are : 123 [66, 111]\n",
      "67 543\n",
      "i is : 38\n",
      " Diff and Vals are : 122 [67, 111]\n",
      "76 89\n",
      " Diff and Vals are : 122 [67, 111]\n",
      "76 554\n",
      " Diff and Vals are : 122 [67, 111]\n",
      "76 111\n",
      " Diff and Vals are : 122 [67, 111]\n",
      "76 543\n",
      "i is : 39\n",
      " Diff and Vals are : 113 [76, 111]\n",
      "76 98\n",
      " Diff and Vals are : 113 [76, 111]\n",
      "76 554\n",
      " Diff and Vals are : 113 [76, 111]\n",
      "76 111\n",
      " Diff and Vals are : 113 [76, 111]\n",
      "76 543\n",
      "i is : 40\n",
      " Diff and Vals are : 113 [76, 111]\n",
      "77 98\n",
      " Diff and Vals are : 113 [76, 111]\n",
      "77 554\n",
      " Diff and Vals are : 113 [76, 111]\n",
      "77 111\n",
      " Diff and Vals are : 113 [76, 111]\n",
      "77 543\n",
      "i is : 41\n",
      " Diff and Vals are : 112 [77, 111]\n",
      "77 98\n",
      " Diff and Vals are : 112 [77, 111]\n",
      "77 554\n",
      " Diff and Vals are : 112 [77, 111]\n",
      "77 543\n",
      " Diff and Vals are : 112 [77, 111]\n",
      "77 111\n",
      "i is : 42\n",
      " Diff and Vals are : 112 [77, 111]\n",
      "78 98\n",
      " Diff and Vals are : 112 [77, 111]\n",
      "78 554\n",
      " Diff and Vals are : 112 [77, 111]\n",
      "78 543\n",
      " Diff and Vals are : 112 [77, 111]\n",
      "78 111\n",
      "i is : 43\n",
      " Diff and Vals are : 112 [77, 111]\n",
      "78 111\n",
      " Diff and Vals are : 112 [77, 111]\n",
      "78 554\n",
      " Diff and Vals are : 112 [77, 111]\n",
      "78 554\n",
      " Diff and Vals are : 112 [77, 111]\n",
      "78 543\n",
      "i is : 44\n",
      " Diff and Vals are : 111 [78, 111]\n",
      "87 111\n",
      " Diff and Vals are : 111 [78, 111]\n",
      "87 554\n",
      " Diff and Vals are : 111 [78, 111]\n",
      "87 554\n",
      " Diff and Vals are : 111 [78, 111]\n",
      "87 543\n",
      "i is : 45\n",
      " Diff and Vals are : 102 [87, 111]\n",
      "88 543\n",
      " Diff and Vals are : 102 [87, 111]\n",
      "88 98\n",
      " Diff and Vals are : 102 [87, 111]\n",
      "88 111\n",
      " Diff and Vals are : 102 [87, 111]\n",
      "i is : 46\n",
      " Diff and Vals are : 101 [88, 111]\n",
      "88 543\n",
      " Diff and Vals are : 101 [88, 111]\n",
      "88 98\n",
      " Diff and Vals are : 101 [88, 111]\n",
      "88 111\n",
      "i is : 47\n",
      " Diff and Vals are : 101 [88, 111]\n",
      "89 554\n",
      " Diff and Vals are : 101 [88, 111]\n",
      "89 111\n",
      " Diff and Vals are : 101 [88, 111]\n",
      "89 543\n",
      "i is : 48\n",
      " Diff and Vals are : 100 [89, 111]\n",
      "98 554\n",
      " Diff and Vals are : 100 [89, 111]\n",
      "98 111\n",
      " Diff and Vals are : 100 [89, 111]\n",
      "98 543\n",
      "i is : 49\n",
      " Diff and Vals are : 91 [98, 111]\n",
      "98 554\n",
      " Diff and Vals are : 91 [98, 111]\n",
      "98 543\n",
      " Diff and Vals are : 91 [98, 111]\n",
      "98 111\n",
      "i is : 50\n",
      " Diff and Vals are : 91 [98, 111]\n",
      "111 554\n",
      " Diff and Vals are : 91 [98, 111]\n",
      "111 554\n",
      " Diff and Vals are : 91 [98, 111]\n",
      "111 543\n",
      "i is : 51\n",
      " Diff and Vals are : 91 [98, 111]\n",
      "543 677\n",
      " Diff and Vals are : 91 [98, 111]\n",
      "543 554\n",
      " Diff and Vals are : 91 [98, 111]\n",
      "543 554\n",
      "i is : 52\n",
      " Diff and Vals are : 91 [98, 111]\n",
      "554 677\n",
      " Diff and Vals are : 91 [98, 111]\n",
      "554 554\n",
      "i is : 53\n",
      " Diff and Vals are : 91 [98, 111]\n",
      "554 989\n",
      " Diff and Vals are : 91 [98, 111]\n",
      "554 677\n",
      "i is : 54\n",
      " Diff and Vals are : 91 [98, 111]\n",
      "677 989\n",
      "i is : 55\n",
      " Diff and Vals are : 91 [98, 111]\n",
      "i is : 56\n",
      " Diff and Vals are : 91 [98, 111]\n"
     ]
    }
   ],
   "source": [
    "for i in range(0,len(arr)):\n",
    "    print(\"i is :\",i)\n",
    "    recursive(arr,i+1, len(arr)-1, i, val)\n",
    "    "
   ]
  },
  {
   "cell_type": "code",
   "execution_count": 128,
   "id": "e203c7e5",
   "metadata": {},
   "outputs": [
    {
     "data": {
      "text/plain": [
       "57"
      ]
     },
     "execution_count": 128,
     "metadata": {},
     "output_type": "execute_result"
    }
   ],
   "source": [
    "len(arr)"
   ]
  },
  {
   "cell_type": "code",
   "execution_count": 315,
   "id": "93d0b8e1",
   "metadata": {},
   "outputs": [
    {
     "data": {
      "text/plain": [
       "[98, 111]"
      ]
     },
     "execution_count": 315,
     "metadata": {},
     "output_type": "execute_result"
    }
   ],
   "source": [
    "vals"
   ]
  },
  {
   "cell_type": "code",
   "execution_count": 316,
   "id": "ca9f81d8",
   "metadata": {},
   "outputs": [
    {
     "data": {
      "text/plain": [
       "300"
      ]
     },
     "execution_count": 316,
     "metadata": {},
     "output_type": "execute_result"
    }
   ],
   "source": [
    "val"
   ]
  },
  {
   "cell_type": "code",
   "execution_count": 131,
   "id": "b96abc72",
   "metadata": {},
   "outputs": [
    {
     "data": {
      "text/plain": [
       "46"
      ]
     },
     "execution_count": 131,
     "metadata": {},
     "output_type": "execute_result"
    }
   ],
   "source": [
    "diff"
   ]
  },
  {
   "cell_type": "code",
   "execution_count": null,
   "id": "9dcfc4d7",
   "metadata": {},
   "outputs": [],
   "source": [
    "arr[mid]"
   ]
  },
  {
   "cell_type": "code",
   "execution_count": null,
   "id": "98e9f9ca",
   "metadata": {},
   "outputs": [],
   "source": [
    "arr[0]"
   ]
  },
  {
   "cell_type": "code",
   "execution_count": 147,
   "id": "400d630e",
   "metadata": {},
   "outputs": [],
   "source": [
    "def two_pointer(arr, p1, p2, val) :\n",
    "    \n",
    "    global diff\n",
    "    \n",
    "    if p1<p2:\n",
    "        \n",
    "        print(arr[p1], arr[p2])\n",
    "        \n",
    "        sum1 = arr[p1]+arr[p2]\n",
    "        \n",
    "        if abs(val-sum1)< diff:\n",
    "            diff = abs(val-sum1)\n",
    "            \n",
    "        if sum1 > val:\n",
    "            \n",
    "            p2 -= 1\n",
    "            two_pointer(arr,p1,p2,val)\n",
    "\n",
    "        elif sum1<val:\n",
    "            \n",
    "            p1 +=1\n",
    "            two_pointer(arr,p1,p2,val)\n",
    "        \n",
    "    \n",
    "    \n",
    "    "
   ]
  },
  {
   "cell_type": "code",
   "execution_count": 148,
   "id": "99af9dcf",
   "metadata": {},
   "outputs": [],
   "source": [
    "diff =0"
   ]
  },
  {
   "cell_type": "code",
   "execution_count": 161,
   "id": "6335e6dc",
   "metadata": {},
   "outputs": [
    {
     "name": "stdout",
     "output_type": "stream",
     "text": [
      "1 999\n",
      "1 989\n",
      "1 677\n",
      "1 554\n",
      "1 554\n",
      "1 543\n",
      "1 111\n",
      "3 111\n",
      "3 111\n",
      "3 111\n",
      "4 111\n",
      "5 111\n",
      "5 111\n",
      "5 111\n",
      "5 111\n",
      "5 111\n",
      "6 111\n",
      "6 111\n",
      "6 111\n",
      "7 111\n",
      "7 111\n",
      "7 111\n",
      "8 111\n",
      "8 111\n",
      "9 111\n",
      "9 111\n",
      "9 111\n",
      "10 111\n",
      "11 111\n",
      "14 111\n",
      "15 111\n",
      "17 111\n",
      "19 111\n",
      "22 111\n",
      "34 111\n",
      "34 111\n",
      "34 111\n",
      "54 111\n",
      "54 98\n",
      "54 98\n",
      "54 89\n",
      "65 89\n",
      "65 88\n",
      "65 88\n",
      "65 87\n",
      "65 78\n",
      "65 78\n",
      "66 78\n",
      "66 78\n",
      "67 78\n",
      "67 78\n",
      "76 78\n",
      "76 78\n",
      "76 77\n",
      "76 77\n",
      "76 76\n"
     ]
    }
   ],
   "source": [
    "two_pointer(arr,0,len(arr)-1,148)"
   ]
  },
  {
   "cell_type": "code",
   "execution_count": 162,
   "id": "effb35e5",
   "metadata": {},
   "outputs": [
    {
     "data": {
      "text/plain": [
       "0"
      ]
     },
     "execution_count": 162,
     "metadata": {},
     "output_type": "execute_result"
    }
   ],
   "source": [
    "diff"
   ]
  },
  {
   "cell_type": "code",
   "execution_count": 155,
   "id": "3f1f1339",
   "metadata": {},
   "outputs": [
    {
     "name": "stdout",
     "output_type": "stream",
     "text": [
      "[1, 3, 3, 3, 4, 5, 5, 5, 5, 5, 6, 6, 6, 7, 7, 7, 8, 8, 9, 9, 9, 10, 11, 14, 15, 17, 19, 22, 34, 34, 34, 54, 65, 65, 66, 66, 67, 67, 76, 76, 77, 77, 78, 78, 87, 88, 88, 89, 98, 98, 111, 543, 554, 554, 677, 989, 999]"
     ]
    }
   ],
   "source": [
    "print(arr, end = \"\")"
   ]
  },
  {
   "cell_type": "code",
   "execution_count": 203,
   "id": "ec603cfc",
   "metadata": {},
   "outputs": [],
   "source": [
    "arr= [None]*3"
   ]
  },
  {
   "cell_type": "code",
   "execution_count": 204,
   "id": "5401a552",
   "metadata": {},
   "outputs": [],
   "source": [
    "def bits(arr, i):\n",
    "    \n",
    "    if None not in arr:\n",
    "        print(arr)\n",
    "        \n",
    "    arr[i] = 1\n",
    "    bits(arr,i+1)\n",
    "\n",
    "    arr[i] = 0\n",
    "    bits(arr,i+1)"
   ]
  },
  {
   "cell_type": "code",
   "execution_count": 205,
   "id": "fa63ea71",
   "metadata": {},
   "outputs": [],
   "source": [
    "bits(arr,0)"
   ]
  },
  {
   "cell_type": "code",
   "execution_count": 208,
   "id": "795b375f",
   "metadata": {},
   "outputs": [
    {
     "name": "stdout",
     "output_type": "stream",
     "text": [
      "[1, 1, 1, 1]\n",
      "[1, 1, 1, 0]\n",
      "[1, 1, 0, 1]\n",
      "[1, 1, 0, 0]\n",
      "[1, 0, 1, 1]\n",
      "[1, 0, 1, 0]\n",
      "[1, 0, 0, 1]\n",
      "[1, 0, 0, 0]\n",
      "[0, 1, 1, 1]\n",
      "[0, 1, 1, 0]\n",
      "[0, 1, 0, 1]\n",
      "[0, 1, 0, 0]\n",
      "[0, 0, 1, 1]\n",
      "[0, 0, 1, 0]\n",
      "[0, 0, 0, 1]\n",
      "[0, 0, 0, 0]\n"
     ]
    }
   ],
   "source": [
    "def Bit_Generation(A,n):\n",
    "    # global B\n",
    "    if n==len(A):\n",
    "        print(A) \n",
    "    else:\n",
    "        # print(n+1)\n",
    "        A[n]=1 \n",
    "        # B.append(A)\n",
    "        # count += 1\n",
    "        # print(A)\n",
    "        Bit_Generation(A,n+1)\n",
    "        A[n]=0\n",
    "        # B.append(A)\n",
    "        # count +=1\n",
    "        # print(A)\n",
    "        Bit_Generation(A,n+1)\n",
    "    \n",
    "n1=4\n",
    "\n",
    "\n",
    "A= [None]*n1\n",
    "Bit_Generation(A,0)"
   ]
  },
  {
   "cell_type": "code",
   "execution_count": null,
   "id": "9646567e",
   "metadata": {},
   "outputs": [],
   "source": []
  },
  {
   "cell_type": "code",
   "execution_count": 226,
   "id": "3939c057",
   "metadata": {},
   "outputs": [],
   "source": [
    "arr= [1,2,3]"
   ]
  },
  {
   "cell_type": "code",
   "execution_count": 229,
   "id": "02b3fff9",
   "metadata": {},
   "outputs": [],
   "source": [
    "def subs(arr):\n",
    "    \n",
    "    global powersets\n",
    "    powersets = [[]]\n",
    "   \n",
    "    for i in arr:\n",
    "        ss = powersets.copy()\n",
    "        kk = powersets.copy()\n",
    "        for j in ss:\n",
    "            j.append(i)\n",
    "            print(j)\n",
    "        \n",
    "        powersets = [kk,ss]\n",
    "\n",
    "        \n",
    "        \n",
    "        \n",
    "        "
   ]
  },
  {
   "cell_type": "code",
   "execution_count": 230,
   "id": "56f6b3cb",
   "metadata": {},
   "outputs": [
    {
     "name": "stdout",
     "output_type": "stream",
     "text": [
      "[1]\n",
      "[[1], 2]\n",
      "[[1], 2]\n",
      "[[[1], 2], [[1], 2], 3]\n",
      "[[[1], 2], [[1], 2], 3]\n"
     ]
    }
   ],
   "source": [
    "subs(arr)"
   ]
  },
  {
   "cell_type": "code",
   "execution_count": 222,
   "id": "7ff2028f",
   "metadata": {},
   "outputs": [
    {
     "data": {
      "text/plain": [
       "[[], [], []]"
      ]
     },
     "execution_count": 222,
     "metadata": {},
     "output_type": "execute_result"
    }
   ],
   "source": [
    "powersets"
   ]
  },
  {
   "cell_type": "code",
   "execution_count": 249,
   "id": "e6e67032",
   "metadata": {},
   "outputs": [
    {
     "data": {
      "text/plain": [
       "[1, 2, 3]"
      ]
     },
     "execution_count": 249,
     "metadata": {},
     "output_type": "execute_result"
    }
   ],
   "source": [
    "arr"
   ]
  },
  {
   "cell_type": "code",
   "execution_count": 267,
   "id": "844eed2f",
   "metadata": {},
   "outputs": [],
   "source": [
    "def subs(arr):\n",
    "    \n",
    "    global powersets\n",
    "    powersets = []\n",
    "   \n",
    "    for i in arr:\n",
    "        ss = powersets.copy()\n",
    "        kk = ss.copy()\n",
    "        \n",
    "        if len(ss) != 0:\n",
    "            for j in ss:\n",
    "                j.append(i)\n",
    "#                 print(j)\n",
    "        else:\n",
    "            ss=[i]\n",
    "            print(ss)\n",
    "            \n",
    "        supersets = ss.copy()\n",
    "        \n",
    "        if len(kk)!= 0:\n",
    "            for sets in kk:\n",
    "                supersets.append(sets)\n",
    "        else:\n",
    "            supersets.append([])\n",
    "            \n",
    "        print(powersets)\n",
    "\n",
    "        \n",
    "        \n",
    "        \n",
    "        "
   ]
  },
  {
   "cell_type": "code",
   "execution_count": 268,
   "id": "2fcbced8",
   "metadata": {},
   "outputs": [
    {
     "name": "stdout",
     "output_type": "stream",
     "text": [
      "[1]\n",
      "[]\n",
      "[2]\n",
      "[]\n",
      "[3]\n",
      "[]\n"
     ]
    }
   ],
   "source": [
    "subs(arr)"
   ]
  },
  {
   "cell_type": "code",
   "execution_count": 269,
   "id": "0c146a3f",
   "metadata": {},
   "outputs": [
    {
     "data": {
      "text/plain": [
       "[]"
      ]
     },
     "execution_count": 269,
     "metadata": {},
     "output_type": "execute_result"
    }
   ],
   "source": [
    "powersets"
   ]
  },
  {
   "cell_type": "code",
   "execution_count": 299,
   "id": "6659a99f",
   "metadata": {},
   "outputs": [],
   "source": [
    "def subs(arr):\n",
    "\n",
    "    global superset\n",
    "    superset = []\n",
    "    copy = superset.copy()\n",
    "\n",
    "    if len(superset)==0:\n",
    "        superset.append(arr[0])\n",
    "        superset = [copy,superset]\n",
    "\n",
    "        print(superset)\n",
    "        used_ind =0\n",
    "\n",
    "        \n",
    "    while len(superset)<=8 and used_ind<=2:\n",
    "\n",
    "        copy = superset.copy()\n",
    "        print(len(superset), copy,used_ind)\n",
    "\n",
    "        for i in superset:\n",
    "            print(i)\n",
    "            \n",
    "            i.append(arr[used_ind])\n",
    "            used_ind += 1\n",
    "            \n",
    "            \n",
    "            \n",
    "            for k in copy:\n",
    "                superset.append(k)\n",
    "\n",
    "\n"
   ]
  },
  {
   "cell_type": "code",
   "execution_count": 300,
   "id": "764043d6",
   "metadata": {},
   "outputs": [
    {
     "name": "stdout",
     "output_type": "stream",
     "text": [
      "[[], [1]]\n",
      "2 [[], [1]] 0\n",
      "[]\n",
      "[1]\n",
      "[1]\n",
      "[1, 2]\n"
     ]
    },
    {
     "ename": "IndexError",
     "evalue": "list index out of range",
     "output_type": "error",
     "traceback": [
      "\u001b[1;31m---------------------------------------------------------------------------\u001b[0m",
      "\u001b[1;31mIndexError\u001b[0m                                Traceback (most recent call last)",
      "\u001b[1;32m<ipython-input-300-baf328812934>\u001b[0m in \u001b[0;36m<module>\u001b[1;34m\u001b[0m\n\u001b[1;32m----> 1\u001b[1;33m \u001b[0msubs\u001b[0m\u001b[1;33m(\u001b[0m\u001b[0marr\u001b[0m\u001b[1;33m)\u001b[0m\u001b[1;33m\u001b[0m\u001b[1;33m\u001b[0m\u001b[0m\n\u001b[0m",
      "\u001b[1;32m<ipython-input-299-27077d32ee4f>\u001b[0m in \u001b[0;36msubs\u001b[1;34m(arr)\u001b[0m\n\u001b[0;32m     21\u001b[0m             \u001b[0mprint\u001b[0m\u001b[1;33m(\u001b[0m\u001b[0mi\u001b[0m\u001b[1;33m)\u001b[0m\u001b[1;33m\u001b[0m\u001b[1;33m\u001b[0m\u001b[0m\n\u001b[0;32m     22\u001b[0m \u001b[1;33m\u001b[0m\u001b[0m\n\u001b[1;32m---> 23\u001b[1;33m             \u001b[0mi\u001b[0m\u001b[1;33m.\u001b[0m\u001b[0mappend\u001b[0m\u001b[1;33m(\u001b[0m\u001b[0marr\u001b[0m\u001b[1;33m[\u001b[0m\u001b[0mused_ind\u001b[0m\u001b[1;33m]\u001b[0m\u001b[1;33m)\u001b[0m\u001b[1;33m\u001b[0m\u001b[1;33m\u001b[0m\u001b[0m\n\u001b[0m\u001b[0;32m     24\u001b[0m             \u001b[0mused_ind\u001b[0m \u001b[1;33m+=\u001b[0m \u001b[1;36m1\u001b[0m\u001b[1;33m\u001b[0m\u001b[1;33m\u001b[0m\u001b[0m\n\u001b[0;32m     25\u001b[0m \u001b[1;33m\u001b[0m\u001b[0m\n",
      "\u001b[1;31mIndexError\u001b[0m: list index out of range"
     ]
    }
   ],
   "source": [
    "subs(arr)"
   ]
  },
  {
   "cell_type": "code",
   "execution_count": 301,
   "id": "2ac669ac",
   "metadata": {},
   "outputs": [
    {
     "data": {
      "text/plain": [
       "8"
      ]
     },
     "execution_count": 301,
     "metadata": {},
     "output_type": "execute_result"
    }
   ],
   "source": [
    "len(superset)"
   ]
  },
  {
   "cell_type": "code",
   "execution_count": 302,
   "id": "08ab1d12",
   "metadata": {},
   "outputs": [
    {
     "data": {
      "text/plain": [
       "[[1, 3], [1, 2], [1, 3], [1, 2], [1, 3], [1, 2], [1, 3], [1, 2]]"
      ]
     },
     "execution_count": 302,
     "metadata": {},
     "output_type": "execute_result"
    }
   ],
   "source": [
    "superset"
   ]
  },
  {
   "cell_type": "code",
   "execution_count": null,
   "id": "9daa4e98",
   "metadata": {},
   "outputs": [],
   "source": []
  },
  {
   "cell_type": "code",
   "execution_count": 303,
   "id": "3286bd33",
   "metadata": {},
   "outputs": [],
   "source": [
    "def backtracking(arr,index,subsets):\n",
    "    print(subsets)\n",
    "    for i in range(index, len(arr)):\n",
    "        subsets.append(arr[i])\n",
    "        \n",
    "        backtracking(arr, index +1, subsets)\n",
    "        \n",
    "        subsets.pop(-1)\n",
    "    "
   ]
  },
  {
   "cell_type": "code",
   "execution_count": 304,
   "id": "534a7057",
   "metadata": {},
   "outputs": [],
   "source": [
    "def func(arr):\n",
    "    index = 0\n",
    "    subsets = []\n",
    "    backtracking(arr,index,subsets)\n"
   ]
  },
  {
   "cell_type": "code",
   "execution_count": 305,
   "id": "16f3da35",
   "metadata": {},
   "outputs": [
    {
     "name": "stdout",
     "output_type": "stream",
     "text": [
      "[]\n",
      "[1]\n",
      "[1, 2]\n",
      "[1, 2, 3]\n",
      "[1, 3]\n",
      "[1, 3, 3]\n",
      "[2]\n",
      "[2, 2]\n",
      "[2, 2, 3]\n",
      "[2, 3]\n",
      "[2, 3, 3]\n",
      "[3]\n",
      "[3, 2]\n",
      "[3, 2, 3]\n",
      "[3, 3]\n",
      "[3, 3, 3]\n"
     ]
    }
   ],
   "source": [
    "func(arr)"
   ]
  },
  {
   "cell_type": "code",
   "execution_count": 318,
   "id": "75cc9000",
   "metadata": {},
   "outputs": [],
   "source": [
    "string = \"aabbdd\"\n",
    "dict= {}"
   ]
  },
  {
   "cell_type": "code",
   "execution_count": 319,
   "id": "9a138698",
   "metadata": {},
   "outputs": [],
   "source": [
    "for i in string:\n",
    "    if i not in dict:\n",
    "        dict[i] = 1\n",
    "    else:\n",
    "        dict[i] += 1\n",
    "    "
   ]
  },
  {
   "cell_type": "code",
   "execution_count": 320,
   "id": "29d5d0da",
   "metadata": {},
   "outputs": [
    {
     "data": {
      "text/plain": [
       "{'a': 2, 'b': 2, 'd': 2}"
      ]
     },
     "execution_count": 320,
     "metadata": {},
     "output_type": "execute_result"
    }
   ],
   "source": [
    "dict"
   ]
  },
  {
   "cell_type": "code",
   "execution_count": 322,
   "id": "2c150c65",
   "metadata": {},
   "outputs": [],
   "source": [
    "class Node:\n",
    " \n",
    "    # Constructor to create a new node\n",
    "    def __init__(self, data):\n",
    "        self.data = data\n",
    "        self.left = None\n",
    "        self.right = None\n",
    " \n",
    "# Compute the \"maxDepth\" of a tree -- the number of nodes\n",
    "# along the longest path from the root node down to the\n",
    "# farthest leaf node\n",
    "def maxDepth(node):\n",
    "    if node is None:\n",
    "        return 0 ;\n",
    " \n",
    "    else :\n",
    " \n",
    "        # Compute the depth of each subtree\n",
    "        lDepth = maxDepth(node.left)\n",
    "        rDepth = maxDepth(node.right)\n",
    " \n",
    "        return max(1+lDepth,1+rDepth)\n",
    " \n",
    " \n",
    "# Driver program to test above function\n",
    "root = Node(1)\n",
    "root.left = Node(2)\n",
    "root.right = Node(3)\n",
    "root.left.left = Node(4)\n",
    "root.left.right = Node(5)"
   ]
  },
  {
   "cell_type": "code",
   "execution_count": 323,
   "id": "4acf80ca",
   "metadata": {},
   "outputs": [
    {
     "data": {
      "text/plain": [
       "3"
      ]
     },
     "execution_count": 323,
     "metadata": {},
     "output_type": "execute_result"
    }
   ],
   "source": [
    "maxDepth(root)"
   ]
  },
  {
   "cell_type": "code",
   "execution_count": 347,
   "id": "3aeffc68",
   "metadata": {},
   "outputs": [],
   "source": [
    "arr= arr[::-1]"
   ]
  },
  {
   "cell_type": "code",
   "execution_count": 333,
   "id": "61d6ab86",
   "metadata": {},
   "outputs": [],
   "source": [
    "# arr"
   ]
  },
  {
   "cell_type": "code",
   "execution_count": 328,
   "id": "e136fabb",
   "metadata": {},
   "outputs": [],
   "source": [
    "def reverse(arr):\n",
    "    for i in range(0,len(arr)//2):\n",
    "        arr[i],arr[len(arr)-1-i]= arr[len(arr)-1-i],arr[i]\n",
    "    \n"
   ]
  },
  {
   "cell_type": "code",
   "execution_count": 335,
   "id": "a9bf2581",
   "metadata": {},
   "outputs": [],
   "source": [
    "reverse(arr)"
   ]
  },
  {
   "cell_type": "code",
   "execution_count": 27,
   "id": "22a1aa56",
   "metadata": {},
   "outputs": [],
   "source": [
    "arr = [1,3,5,7,9,10,11,14,15,17,111,22,34,34,34,543,5,6,3,65,65,76,3,6,7,98,4,67,8,5,7,8,9,5,78,98,6,87,989,5,999,88,77,66,77,88,66,67,76,78,554,54,677,554,89,9,19]"
   ]
  },
  {
   "cell_type": "code",
   "execution_count": 28,
   "id": "bb189725",
   "metadata": {},
   "outputs": [],
   "source": [
    "count= 0\n",
    "def reverse(arr):\n",
    "    global count\n",
    "    if count<len(arr):\n",
    "        last_element = arr[-1]\n",
    "        arr.pop()\n",
    "        arr.insert(count,last_element)\n",
    "#         print(len(arr))\n",
    "        count = count + 1\n",
    "        print(count)\n",
    "#         print(len(arr)-count-1)\n",
    "        reverse(arr)"
   ]
  },
  {
   "cell_type": "code",
   "execution_count": 29,
   "id": "67c82028",
   "metadata": {},
   "outputs": [
    {
     "name": "stdout",
     "output_type": "stream",
     "text": [
      "1\n",
      "2\n",
      "3\n",
      "4\n",
      "5\n",
      "6\n",
      "7\n",
      "8\n",
      "9\n",
      "10\n",
      "11\n",
      "12\n",
      "13\n",
      "14\n",
      "15\n",
      "16\n",
      "17\n",
      "18\n",
      "19\n",
      "20\n",
      "21\n",
      "22\n",
      "23\n",
      "24\n",
      "25\n",
      "26\n",
      "27\n",
      "28\n",
      "29\n",
      "30\n",
      "31\n",
      "32\n",
      "33\n",
      "34\n",
      "35\n",
      "36\n",
      "37\n",
      "38\n",
      "39\n",
      "40\n",
      "41\n",
      "42\n",
      "43\n",
      "44\n",
      "45\n",
      "46\n",
      "47\n",
      "48\n",
      "49\n",
      "50\n",
      "51\n",
      "52\n",
      "53\n",
      "54\n",
      "55\n",
      "56\n",
      "57\n"
     ]
    }
   ],
   "source": [
    "reverse(arr)"
   ]
  },
  {
   "cell_type": "code",
   "execution_count": 30,
   "id": "a7f82e8b",
   "metadata": {},
   "outputs": [
    {
     "data": {
      "text/plain": [
       "57"
      ]
     },
     "execution_count": 30,
     "metadata": {},
     "output_type": "execute_result"
    }
   ],
   "source": [
    "count"
   ]
  },
  {
   "cell_type": "code",
   "execution_count": 31,
   "id": "b6bb053f",
   "metadata": {},
   "outputs": [
    {
     "data": {
      "text/plain": [
       "57"
      ]
     },
     "execution_count": 31,
     "metadata": {},
     "output_type": "execute_result"
    }
   ],
   "source": [
    "len(arr)"
   ]
  },
  {
   "cell_type": "code",
   "execution_count": 32,
   "id": "a00b4ffe",
   "metadata": {},
   "outputs": [
    {
     "name": "stdout",
     "output_type": "stream",
     "text": [
      "[19, 9, 89, 554, 677, 54, 554, 78, 76, 67, 66, 88, 77, 66, 77, 88, 999, 5, 989, 87, 6, 98, 78, 5, 9, 8, 7, 5, 8, 67, 4, 98, 7, 6, 3, 76, 65, 65, 3, 6, 5, 543, 34, 34, 34, 22, 111, 17, 15, 14, 11, 10, 9, 7, 5, 3, 1]"
     ]
    }
   ],
   "source": [
    "print(arr, end= \"\")"
   ]
  },
  {
   "cell_type": "code",
   "execution_count": 401,
   "id": "4d64eac4",
   "metadata": {},
   "outputs": [
    {
     "name": "stdout",
     "output_type": "stream",
     "text": [
      "[9, 19, 1, 3, 5, 7, 9, 10, 11, 14, 15, 17, 111, 22, 34, 34, 34, 543, 5, 6, 3, 65, 65, 76, 3, 6, 7, 98, 4, 67, 8, 5, 7, 8, 9, 5, 78, 98, 6, 87, 989, 5, 999, 88, 77, 66, 77, 88, 66, 67, 76, 78, 554, 54, 677, 554, 89]"
     ]
    }
   ],
   "source": [
    "print(arr, end= \"\")"
   ]
  },
  {
   "cell_type": "code",
   "execution_count": 406,
   "id": "b0a8cc14",
   "metadata": {},
   "outputs": [
    {
     "data": {
      "text/plain": [
       "554"
      ]
     },
     "execution_count": 406,
     "metadata": {},
     "output_type": "execute_result"
    }
   ],
   "source": [
    "arr.pop()"
   ]
  },
  {
   "cell_type": "code",
   "execution_count": 409,
   "id": "cf87c42a",
   "metadata": {},
   "outputs": [
    {
     "name": "stdout",
     "output_type": "stream",
     "text": [
      "[89, 9, 19, 1, 3, 5, 7, 9, 10, 11, 14, 15, 17, 111, 22, 34, 34, 34, 543, 5, 6, 3, 65, 65, 76, 3, 6, 7, 98, 4, 67, 8, 5, 7, 8, 9, 5, 78, 98, 6, 87, 989, 5, 999, 88, 77, 66, 77, 88, 66, 67, 76, 78, 554, 54]"
     ]
    }
   ],
   "source": [
    "print(arr, end= \"\")"
   ]
  },
  {
   "cell_type": "code",
   "execution_count": 408,
   "id": "2c2ee420",
   "metadata": {},
   "outputs": [
    {
     "data": {
      "text/plain": [
       "677"
      ]
     },
     "execution_count": 408,
     "metadata": {},
     "output_type": "execute_result"
    }
   ],
   "source": [
    "arr.pop()"
   ]
  },
  {
   "cell_type": "code",
   "execution_count": null,
   "id": "d733b8b9",
   "metadata": {},
   "outputs": [],
   "source": []
  }
 ],
 "metadata": {
  "kernelspec": {
   "display_name": "Python 3",
   "language": "python",
   "name": "python3"
  },
  "language_info": {
   "codemirror_mode": {
    "name": "ipython",
    "version": 3
   },
   "file_extension": ".py",
   "mimetype": "text/x-python",
   "name": "python",
   "nbconvert_exporter": "python",
   "pygments_lexer": "ipython3",
   "version": "3.8.5"
  }
 },
 "nbformat": 4,
 "nbformat_minor": 5
}

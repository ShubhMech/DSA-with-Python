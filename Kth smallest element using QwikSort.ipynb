{
 "cells": [
  {
   "cell_type": "code",
   "execution_count": 23,
   "id": "2bd1989f",
   "metadata": {},
   "outputs": [],
   "source": [
    "def merge_sort(arr):\n",
    "    \n",
    "    print(\"called with arr, \", arr)\n",
    "    \n",
    "    while len(arr)>=1:\n",
    "        \n",
    "        if len(arr)==1:\n",
    "            return arr\n",
    "    \n",
    "        mid = len(arr)//2\n",
    "        \n",
    "        l = arr[0:mid]\n",
    "        \n",
    "        r = arr[mid:]\n",
    "\n",
    "        l = merge_sort(l)\n",
    "        print(\"The array returned in l is:\", l)\n",
    "        r = merge_sort(r)\n",
    "        print(\"The array returned in r is:\", r)\n",
    "        \n",
    "        \n",
    "        i,j,k = 0,0,0\n",
    "        arr = [None]*(len(l)+len(r))\n",
    "\n",
    "        while i<len(l) and j<len(r):\n",
    "\n",
    "            if l[i]<= r[j]:\n",
    "                arr[k] = l[i]\n",
    "                i += 1\n",
    "                k += 1\n",
    "            else:\n",
    "                arr[k] = r[j]\n",
    "                j += 1\n",
    "                k +=1\n",
    "\n",
    "        while i<len(l):\n",
    "                arr[k] = l[i]\n",
    "                i += 1\n",
    "                k += 1\n",
    "\n",
    "        while j<len(r):\n",
    "                arr[k] = r[j]\n",
    "                j += 1\n",
    "                k +=1\n",
    "                \n",
    "        print(\"The array after merging looks like: \", arr)\n",
    "\n",
    "        return arr"
   ]
  },
  {
   "cell_type": "code",
   "execution_count": 31,
   "id": "a56ba7b3",
   "metadata": {},
   "outputs": [],
   "source": [
    "arr = [11,211,13,4,15,6,17,8,19,10,0]"
   ]
  },
  {
   "cell_type": "code",
   "execution_count": 25,
   "id": "ab0c8ac8",
   "metadata": {
    "scrolled": false
   },
   "outputs": [
    {
     "name": "stdout",
     "output_type": "stream",
     "text": [
      "called with arr,  [11, 211, 13, 4, 15, 6, 17, 8, 19, 10, 0]\n",
      "called with arr,  [11, 211, 13, 4, 15]\n",
      "called with arr,  [11, 211]\n",
      "called with arr,  [11]\n",
      "The array returned in l is: [11]\n",
      "called with arr,  [211]\n",
      "The array returned in r is: [211]\n",
      "The array after merging looks like:  [11, 211]\n",
      "The array returned in l is: [11, 211]\n",
      "called with arr,  [13, 4, 15]\n",
      "called with arr,  [13]\n",
      "The array returned in l is: [13]\n",
      "called with arr,  [4, 15]\n",
      "called with arr,  [4]\n",
      "The array returned in l is: [4]\n",
      "called with arr,  [15]\n",
      "The array returned in r is: [15]\n",
      "The array after merging looks like:  [4, 15]\n",
      "The array returned in r is: [4, 15]\n",
      "The array after merging looks like:  [4, 13, 15]\n",
      "The array returned in r is: [4, 13, 15]\n",
      "The array after merging looks like:  [4, 11, 13, 15, 211]\n",
      "The array returned in l is: [4, 11, 13, 15, 211]\n",
      "called with arr,  [6, 17, 8, 19, 10, 0]\n",
      "called with arr,  [6, 17, 8]\n",
      "called with arr,  [6]\n",
      "The array returned in l is: [6]\n",
      "called with arr,  [17, 8]\n",
      "called with arr,  [17]\n",
      "The array returned in l is: [17]\n",
      "called with arr,  [8]\n",
      "The array returned in r is: [8]\n",
      "The array after merging looks like:  [8, 17]\n",
      "The array returned in r is: [8, 17]\n",
      "The array after merging looks like:  [6, 8, 17]\n",
      "The array returned in l is: [6, 8, 17]\n",
      "called with arr,  [19, 10, 0]\n",
      "called with arr,  [19]\n",
      "The array returned in l is: [19]\n",
      "called with arr,  [10, 0]\n",
      "called with arr,  [10]\n",
      "The array returned in l is: [10]\n",
      "called with arr,  [0]\n",
      "The array returned in r is: [0]\n",
      "The array after merging looks like:  [0, 10]\n",
      "The array returned in r is: [0, 10]\n",
      "The array after merging looks like:  [0, 10, 19]\n",
      "The array returned in r is: [0, 10, 19]\n",
      "The array after merging looks like:  [0, 6, 8, 10, 17, 19]\n",
      "The array returned in r is: [0, 6, 8, 10, 17, 19]\n",
      "The array after merging looks like:  [0, 4, 6, 8, 10, 11, 13, 15, 17, 19, 211]\n"
     ]
    },
    {
     "data": {
      "text/plain": [
       "[0, 4, 6, 8, 10, 11, 13, 15, 17, 19, 211]"
      ]
     },
     "execution_count": 25,
     "metadata": {},
     "output_type": "execute_result"
    }
   ],
   "source": [
    "merge_sort(arr)"
   ]
  },
  {
   "cell_type": "code",
   "execution_count": 32,
   "id": "c8d1146f",
   "metadata": {},
   "outputs": [
    {
     "data": {
      "text/plain": [
       "11"
      ]
     },
     "execution_count": 32,
     "metadata": {},
     "output_type": "execute_result"
    }
   ],
   "source": [
    "len(arr)"
   ]
  },
  {
   "cell_type": "code",
   "execution_count": 86,
   "id": "9a26c3e3",
   "metadata": {},
   "outputs": [
    {
     "data": {
      "text/plain": [
       "[0, 4, 6, 8, 10, 11, 13, 15, 17, 19, 211]"
      ]
     },
     "execution_count": 86,
     "metadata": {},
     "output_type": "execute_result"
    }
   ],
   "source": [
    "arr"
   ]
  },
  {
   "cell_type": "code",
   "execution_count": 6,
   "id": "84e708a2",
   "metadata": {},
   "outputs": [],
   "source": [
    "def partition(arr,low,high):\n",
    "    i = low-1\n",
    "    pivot = arr[high]\n",
    "    \n",
    "    for j in range(low,high):\n",
    "        if arr[j] <= pivot:\n",
    "            i += 1\n",
    "            arr[j],arr[i] = arr[i], arr[j]\n",
    "        \n",
    "    arr[i+1], arr[high] = arr[high], arr[i+1]\n",
    "    return i +1\n",
    "        "
   ]
  },
  {
   "cell_type": "code",
   "execution_count": 7,
   "id": "2f287fa0",
   "metadata": {},
   "outputs": [],
   "source": [
    "import numpy as np"
   ]
  },
  {
   "cell_type": "code",
   "execution_count": 8,
   "id": "1e5b188e",
   "metadata": {},
   "outputs": [],
   "source": [
    "# def partition_random(arr,low,high):\n",
    "#     rand =np.random.randint(low,high)\n",
    "#     arr[rand], arr[high] = arr[high], arr[rand]\n",
    "#     return partition(arr,low,high)"
   ]
  },
  {
   "cell_type": "code",
   "execution_count": 16,
   "id": "0b34dd60",
   "metadata": {},
   "outputs": [],
   "source": [
    "def quicksort(arr,low,high,k):\n",
    "    \n",
    "    if low==high:\n",
    "        return\n",
    "    elif low<high:\n",
    "        pi =partition(arr,low,high)\n",
    "#         print(pi-low+1)\n",
    "        if pi-low+1 == k:\n",
    "            print(\"Yes\")\n",
    "            print(arr[pi])\n",
    "            return arr[pi]\n",
    "            \n",
    "        elif pi-low+1 > k:\n",
    "            quicksort(arr,low,pi-1,k)\n",
    "        else:\n",
    "            quicksort(arr,pi+1,high,k-pi+low-1)"
   ]
  },
  {
   "cell_type": "code",
   "execution_count": 17,
   "id": "0293d18d",
   "metadata": {},
   "outputs": [],
   "source": [
    "arr = [11,211,13,4,15,6,17,8,19,10,0]"
   ]
  },
  {
   "cell_type": "code",
   "execution_count": 19,
   "id": "baa32ddf",
   "metadata": {},
   "outputs": [
    {
     "name": "stdout",
     "output_type": "stream",
     "text": [
      "Yes\n",
      "4\n"
     ]
    }
   ],
   "source": [
    "ans = quicksort(arr,0,len(arr)-1,2)"
   ]
  },
  {
   "cell_type": "code",
   "execution_count": 20,
   "id": "4452f0cc",
   "metadata": {},
   "outputs": [],
   "source": [
    "ans"
   ]
  },
  {
   "cell_type": "code",
   "execution_count": 21,
   "id": "78bbc92e",
   "metadata": {},
   "outputs": [
    {
     "data": {
      "text/plain": [
       "[0, 4, 6, 8, 10, 11, 13, 15, 17, 19, 211]"
      ]
     },
     "execution_count": 21,
     "metadata": {},
     "output_type": "execute_result"
    }
   ],
   "source": [
    "arr"
   ]
  },
  {
   "cell_type": "code",
   "execution_count": 22,
   "id": "4a84abd8",
   "metadata": {},
   "outputs": [],
   "source": [
    "arr.sort()"
   ]
  },
  {
   "cell_type": "code",
   "execution_count": 23,
   "id": "90d4a40d",
   "metadata": {},
   "outputs": [
    {
     "data": {
      "text/plain": [
       "[0, 4, 6, 8, 10, 11, 13, 15, 17, 19, 211]"
      ]
     },
     "execution_count": 23,
     "metadata": {},
     "output_type": "execute_result"
    }
   ],
   "source": [
    "arr"
   ]
  },
  {
   "cell_type": "code",
   "execution_count": 82,
   "id": "25157495",
   "metadata": {},
   "outputs": [
    {
     "data": {
      "text/plain": [
       "11"
      ]
     },
     "execution_count": 82,
     "metadata": {},
     "output_type": "execute_result"
    }
   ],
   "source": [
    "len(arr)"
   ]
  },
  {
   "cell_type": "code",
   "execution_count": null,
   "id": "fc93e722",
   "metadata": {},
   "outputs": [],
   "source": []
  }
 ],
 "metadata": {
  "kernelspec": {
   "display_name": "Python 3",
   "language": "python",
   "name": "python3"
  },
  "language_info": {
   "codemirror_mode": {
    "name": "ipython",
    "version": 3
   },
   "file_extension": ".py",
   "mimetype": "text/x-python",
   "name": "python",
   "nbconvert_exporter": "python",
   "pygments_lexer": "ipython3",
   "version": "3.8.5"
  }
 },
 "nbformat": 4,
 "nbformat_minor": 5
}

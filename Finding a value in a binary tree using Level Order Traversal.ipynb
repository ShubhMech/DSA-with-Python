{
 "cells": [
  {
   "cell_type": "raw",
   "id": "7be9ce67-db39-42c2-aa49-59d06e3c4413",
   "metadata": {},
   "source": []
  },
  {
   "cell_type": "code",
   "execution_count": 102,
   "id": "bdeedad5-5c70-4cac-916c-a92613943910",
   "metadata": {},
   "outputs": [],
   "source": [
    "class Tree:\n",
    "    def __init__(self,data):\n",
    "        self.data=data\n",
    "        self.left=None\n",
    "        self.right=None\n",
    "\n",
    "node1= Tree(\"Drinks\")\n",
    "node2= Tree(\"Hot\")\n",
    "node3= Tree(\"Cold\")\n",
    "node4= Tree(\"Tea\")\n",
    "node5= Tree(\"Coffee\")\n",
    "node6= Tree(\"Thanda\")\n",
    "node7= Tree(\"Sharbat\")\n",
    "\n",
    "\n",
    "node1.left, node1.right= node2,node3\n",
    "node2.left,node2.right= node4,node5\n",
    "node3.left,node3.right = node6,node7\n",
    "        "
   ]
  },
  {
   "cell_type": "code",
   "execution_count": 104,
   "id": "d5b405f9-1ace-4466-b375-e88fb38ea719",
   "metadata": {},
   "outputs": [
    {
     "data": {
      "text/plain": [
       "'Coffee'"
      ]
     },
     "execution_count": 104,
     "metadata": {},
     "output_type": "execute_result"
    }
   ],
   "source": [
    "node1.left.right.data"
   ]
  },
  {
   "cell_type": "code",
   "execution_count": null,
   "id": "66e52045-f1d2-428e-a0cc-7db6607bbac3",
   "metadata": {},
   "outputs": [],
   "source": []
  },
  {
   "cell_type": "code",
   "execution_count": 105,
   "id": "e2bdea76-5e27-4e98-9683-c1bd3be5831e",
   "metadata": {},
   "outputs": [],
   "source": [
    "class Nodes:\n",
    "    def __init__(self,value):\n",
    "        self.value=value\n",
    "        self.next=None\n",
    "        \n",
    "class Linked_List:\n",
    "    def __init__(self):\n",
    "        self.head=None\n",
    "        self.tail=None\n",
    "\n",
    "class Queue:\n",
    "    def __init__(self):\n",
    "        self.items=Linked_List()\n",
    "        \n",
    "    def enqueue(self,value):\n",
    "        node=Nodes(value)\n",
    "        if self.items.head is not None:\n",
    "        \n",
    "            self.items.tail.next=node\n",
    "            self.items.tail=node\n",
    "            \n",
    "        else:\n",
    "            self.items.head=node\n",
    "            self.items.tail=node\n",
    "            \n",
    "    def is_empty(self):\n",
    "        if self.items.head is None:\n",
    "            return True\n",
    "        else:\n",
    "            return False\n",
    "    \n",
    "    \n",
    "    def dequeue(self):\n",
    "        if self.is_empty():\n",
    "            return \"Can't dequeue, dumbass!\"\n",
    "        else:\n",
    "            temp=self.items.head\n",
    "#             temp1=temp\n",
    "            \n",
    "            if self.items.head==self.items.tail:\n",
    "                \n",
    "                self.items.tail=None\n",
    "                self.items.head=None\n",
    "                \n",
    "            else:\n",
    "                self.items.head=self.items.head.next\n",
    "                \n",
    "            return temp\n",
    "    \n",
    "    def peep(self):\n",
    "        if self.is_empty():\n",
    "            return \"Can't peep, dumbass!\"\n",
    "        else:\n",
    "            return self.items.head.value\n",
    "            \n",
    "    def delete(self):\n",
    "        if self.is_empty():\n",
    "            return \"Can't delete, dumbass!\"\n",
    "        else:\n",
    "            self.items.head, self.items.tail=None\n",
    "            return self.items.head.value"
   ]
  },
  {
   "cell_type": "code",
   "execution_count": 119,
   "id": "9ffb12b3-1bd8-4ff2-8f06-13884424b938",
   "metadata": {},
   "outputs": [],
   "source": [
    "def finding_val(root,value_given):\n",
    "    \n",
    "        \n",
    "    if not root:\n",
    "        return\n",
    "    else:\n",
    "        q=Queue()\n",
    "        q.enqueue(root)\n",
    "        while not q.is_empty():\n",
    "            root= q.dequeue()\n",
    "#             print(root.value.data)\n",
    "            \n",
    "            if root.value.data == value_given:\n",
    "                print(\"Mil gaya\")\n",
    "                print(root.value.data)\n",
    "                break\n",
    "                \n",
    "            else:\n",
    "            \n",
    "                if root.value.left is not None:\n",
    "                    q.enqueue(root.value.left)\n",
    "                if root.value.right is not None:\n",
    "                    q.enqueue(root.value.right)\n",
    "                    \n",
    "        if q.is_empty():\n",
    "            print(\"Nahi Mila\")\n",
    "            \n",
    "\n",
    "    "
   ]
  },
  {
   "cell_type": "code",
   "execution_count": 120,
   "id": "d7628d39-34d8-4a75-af87-47fc90e402f1",
   "metadata": {},
   "outputs": [
    {
     "name": "stdout",
     "output_type": "stream",
     "text": [
      "Nahi Mila\n"
     ]
    }
   ],
   "source": [
    "finding_val(node1,\"Hottie\")"
   ]
  },
  {
   "cell_type": "code",
   "execution_count": 121,
   "id": "fdb57700-692f-464c-864c-8c9a3eeb0755",
   "metadata": {},
   "outputs": [
    {
     "name": "stdout",
     "output_type": "stream",
     "text": [
      "Mil gaya\n",
      "Hot\n"
     ]
    }
   ],
   "source": [
    "finding_val(node1,\"Hot\")"
   ]
  },
  {
   "cell_type": "code",
   "execution_count": 58,
   "id": "a3508ab2-3cbb-4cc7-ab94-3317904b989d",
   "metadata": {},
   "outputs": [],
   "source": [
    "q.items.head"
   ]
  },
  {
   "cell_type": "code",
   "execution_count": null,
   "id": "e470480c-224e-40df-9a52-41679f232f8b",
   "metadata": {},
   "outputs": [],
   "source": []
  }
 ],
 "metadata": {
  "kernelspec": {
   "display_name": "Python 3",
   "language": "python",
   "name": "python3"
  },
  "language_info": {
   "codemirror_mode": {
    "name": "ipython",
    "version": 3
   },
   "file_extension": ".py",
   "mimetype": "text/x-python",
   "name": "python",
   "nbconvert_exporter": "python",
   "pygments_lexer": "ipython3",
   "version": "3.8.5"
  }
 },
 "nbformat": 4,
 "nbformat_minor": 5
}

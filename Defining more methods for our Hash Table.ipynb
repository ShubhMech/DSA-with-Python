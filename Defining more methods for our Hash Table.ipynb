{
 "cells": [
  {
   "cell_type": "code",
   "execution_count": 11,
   "id": "74d9b66d-7d99-46da-9f5a-0ccd525824e7",
   "metadata": {},
   "outputs": [],
   "source": [
    "class Hash():\n",
    "    def __init__(self):\n",
    "        self.MAX = 100\n",
    "        self.arr= [None]*self.MAX\n",
    "        \n",
    "    def get_Hash(self, key):\n",
    "        self.hash = 0\n",
    "        for char in key:\n",
    "            \n",
    "            self.hash += ord(char) % self.MAX\n",
    "            \n",
    "        return self.hash\n",
    "    \n",
    "    def __getitem__(self, key):\n",
    "        h = self.get_Hash(key)\n",
    "        return self.arr[h]\n",
    "    \n",
    "    def __setitem__(self,key,val):\n",
    "        h = self.get_Hash(key)\n",
    "        arr[h]= val\n",
    "        \n",
    "    def __delitem__(self,key):\n",
    "        h= self.get_Hash(key)\n",
    "        arr[h]= None\n",
    "        "
   ]
  },
  {
   "cell_type": "code",
   "execution_count": 4,
   "id": "27f33e96-17b2-4a91-8fdf-b55a4b1affe4",
   "metadata": {},
   "outputs": [],
   "source": [
    "h= Hash()"
   ]
  },
  {
   "cell_type": "code",
   "execution_count": 5,
   "id": "dc28af75-bcc9-425d-a7a3-ce4a94743d36",
   "metadata": {},
   "outputs": [
    {
     "data": {
      "text/plain": [
       "312"
      ]
     },
     "execution_count": 5,
     "metadata": {},
     "output_type": "execute_result"
    }
   ],
   "source": [
    "h.get_Hash(\"Shubham\")"
   ]
  },
  {
   "cell_type": "code",
   "execution_count": 6,
   "id": "26db4778-5b50-4365-854b-1acaacf455e9",
   "metadata": {},
   "outputs": [
    {
     "data": {
      "text/plain": [
       "331"
      ]
     },
     "execution_count": 6,
     "metadata": {},
     "output_type": "execute_result"
    }
   ],
   "source": [
    "h.get_Hash(\"Priyanka\")"
   ]
  },
  {
   "cell_type": "code",
   "execution_count": 7,
   "id": "9257fcc7-bc61-4805-abd4-d1d1d38d537e",
   "metadata": {},
   "outputs": [
    {
     "data": {
      "text/plain": [
       "105"
      ]
     },
     "execution_count": 7,
     "metadata": {},
     "output_type": "execute_result"
    }
   ],
   "source": [
    "h.get_Hash(\"Singh\")"
   ]
  },
  {
   "cell_type": "code",
   "execution_count": 8,
   "id": "2aa8194f-7b5a-43e1-8965-9c2d3c6b33dd",
   "metadata": {},
   "outputs": [
    {
     "data": {
      "text/plain": [
       "212"
      ]
     },
     "execution_count": 8,
     "metadata": {},
     "output_type": "execute_result"
    }
   ],
   "source": [
    "h.get_Hash(\"Mishra\")"
   ]
  },
  {
   "cell_type": "code",
   "execution_count": 9,
   "id": "e0072ac4-9d01-4c17-9c28-8fc43b2318e1",
   "metadata": {},
   "outputs": [
    {
     "data": {
      "text/plain": [
       "415"
      ]
     },
     "execution_count": 9,
     "metadata": {},
     "output_type": "execute_result"
    }
   ],
   "source": [
    "h.get_Hash(\"Kumar Bal\")"
   ]
  },
  {
   "cell_type": "code",
   "execution_count": 10,
   "id": "289ee621-3768-4920-b866-3debfbe55024",
   "metadata": {},
   "outputs": [
    {
     "data": {
      "text/plain": [
       "318"
      ]
     },
     "execution_count": 10,
     "metadata": {},
     "output_type": "execute_result"
    }
   ],
   "source": [
    "h.get_Hash(\"Sarthak\")"
   ]
  },
  {
   "cell_type": "code",
   "execution_count": null,
   "id": "d52cc00d-85cb-44c0-bea2-20ae25401ffe",
   "metadata": {},
   "outputs": [],
   "source": []
  }
 ],
 "metadata": {
  "kernelspec": {
   "display_name": "Python 3",
   "language": "python",
   "name": "python3"
  },
  "language_info": {
   "codemirror_mode": {
    "name": "ipython",
    "version": 3
   },
   "file_extension": ".py",
   "mimetype": "text/x-python",
   "name": "python",
   "nbconvert_exporter": "python",
   "pygments_lexer": "ipython3",
   "version": "3.8.5"
  }
 },
 "nbformat": 4,
 "nbformat_minor": 5
}

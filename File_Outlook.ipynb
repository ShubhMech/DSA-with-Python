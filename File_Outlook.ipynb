{
 "cells": [
  {
   "cell_type": "code",
   "execution_count": 1,
   "id": "9443cbe5",
   "metadata": {},
   "outputs": [],
   "source": [
    "import datetime\n",
    "import os\n",
    "import win32com.client\n",
    "import pandas as pd\n",
    "import win32com.client as win32"
   ]
  },
  {
   "cell_type": "code",
   "execution_count": 2,
   "id": "592de053",
   "metadata": {},
   "outputs": [],
   "source": [
    "def saveattachments(subject):     \n",
    "    while True:\n",
    "        try:\n",
    "            today = datetime.date.today()\n",
    "\n",
    "            outlook = win32com.client.Dispatch(\"Outlook.Application\").GetNamespace(\"MAPI\")\n",
    "            inbox = outlook.GetDefaultFolder(6) \n",
    "            messages = inbox.Items\n",
    "            print(\"Successfully captured all messages.\")\n",
    "            for message in messages:\n",
    "                if message.Subject == subject and message.UnRead :\n",
    "                    message.UnRead = False\n",
    "                    attachments = message.Attachments\n",
    "                    attachment = attachments.Item(1)\n",
    "                    for attachment in message.Attachments:\n",
    "                        attachment.SaveAsFile(r\"C:\\Users\\Asus\\Downloads\\kaddu.csv\")\n",
    "                        print(\"Captured the attachment!\")\n",
    "                        global path\n",
    "                        path= r\"C:\\Users\\Asus\\Downloads\\kaddu.csv\"\n",
    "                    df = pd.read_csv(path)\n",
    "                    from datetime import date\n",
    "                    to_email = 'shubhamatiet841@gmail.com'\n",
    "                    df = pd.read_csv(r\"C:\\Users\\Asus\\Downloads\\kaddu.csv\")\n",
    "                    print(\"Successfully read the csv file\")\n",
    "                    outlook = win32.gencache.EnsureDispatch('Outlook.Application')\n",
    "                    print(\"Succesfully ensured dispatch.\")\n",
    "                    new_mail = outlook.CreateItem(0)\n",
    "#                     new_mail.Subject = \"{:%m/%d} Report Update\".format(date.today())\n",
    "                    new_mail.Subject = datetime.datetime.today().strftime('%Y-%m-%d %H:%M:%S') + \" Report Update\"\n",
    "                    print(\"Created the subject line!\")\n",
    "                    new_mail.To = to_email\n",
    "                    new_mail.CC = 'shubhamatiet@gmail.com'\n",
    "                    new_mail.BCC = 'shubhamatiitb@gmail.com'\n",
    "                    print(\"Copied all\")\n",
    "                    attachment1 = r\"C:\\Users\\Asus\\Downloads\\kaddu.csv\"\n",
    "                    new_mail.Attachments.Add(Source=str(attachment1))\n",
    "                    new_mail.Display(True)\n",
    "                    print(\"Succesfully created a draft!\")\n",
    "        except :\n",
    "            print(\"No new unread mail as of now\")\n",
    "            continue"
   ]
  },
  {
   "cell_type": "code",
   "execution_count": null,
   "id": "e5b167bb",
   "metadata": {},
   "outputs": [
    {
     "name": "stdout",
     "output_type": "stream",
     "text": [
      "Successfully captured all messages.\n"
     ]
    }
   ],
   "source": [
    "saveattachments('Kaddu, Step 1')"
   ]
  },
  {
   "cell_type": "code",
   "execution_count": null,
   "id": "f03a790a",
   "metadata": {},
   "outputs": [],
   "source": []
  }
 ],
 "metadata": {
  "kernelspec": {
   "display_name": "Python 3",
   "language": "python",
   "name": "python3"
  },
  "language_info": {
   "codemirror_mode": {
    "name": "ipython",
    "version": 3
   },
   "file_extension": ".py",
   "mimetype": "text/x-python",
   "name": "python",
   "nbconvert_exporter": "python",
   "pygments_lexer": "ipython3",
   "version": "3.8.5"
  }
 },
 "nbformat": 4,
 "nbformat_minor": 5
}

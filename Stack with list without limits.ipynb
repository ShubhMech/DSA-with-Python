{
 "cells": [
  {
   "cell_type": "code",
   "execution_count": 13,
   "id": "6b28202b-4cb9-446f-96bd-2ec0117c0697",
   "metadata": {},
   "outputs": [],
   "source": [
    "class Stack:\n",
    "    def __init__(self):\n",
    "        self.list=[]\n",
    "        \n",
    "    def __str__(self):\n",
    "        values=self.list.reverse()\n",
    "        values= [str(i) for i in self.list]\n",
    "        return \"\\n\".join(values)\n",
    "    \n",
    "    def is_empty(self):\n",
    "        if len(self.list)==0:\n",
    "            return True\n",
    "        else:\n",
    "            return False\n",
    "    def push(self,value):\n",
    "        self.list.append(value)\n",
    "        return \"The push method has run successfully\"\n",
    "    \n",
    "    def pop(self):\n",
    "        if self.is_empty():\n",
    "            return \"Nothing to pop, sire!\"\n",
    "        else:\n",
    "            return self.list.pop()\n",
    "    def peek(self):\n",
    "         if self.is_empty():\n",
    "            return \"Nothing to pop, sire!\"\n",
    "         else:\n",
    "            return self.list[-1]\n",
    "        \n",
    "        \n",
    "        "
   ]
  },
  {
   "cell_type": "code",
   "execution_count": 14,
   "id": "de815c88-7951-4cbc-8ac6-ec286c5a92aa",
   "metadata": {},
   "outputs": [],
   "source": [
    "ob1=Stack()"
   ]
  },
  {
   "cell_type": "code",
   "execution_count": 15,
   "id": "3883012b-0e16-4a3e-a175-18885b95bce3",
   "metadata": {},
   "outputs": [
    {
     "data": {
      "text/plain": [
       "[]"
      ]
     },
     "execution_count": 15,
     "metadata": {},
     "output_type": "execute_result"
    }
   ],
   "source": [
    "ob1.list"
   ]
  },
  {
   "cell_type": "code",
   "execution_count": 16,
   "id": "9d3358a1-1eef-4f8f-8b9c-2abb5ec329cd",
   "metadata": {},
   "outputs": [
    {
     "name": "stdout",
     "output_type": "stream",
     "text": [
      "\n"
     ]
    }
   ],
   "source": [
    "print(ob1)"
   ]
  },
  {
   "cell_type": "code",
   "execution_count": 17,
   "id": "44254665-fba3-4a99-9a53-85dbdf745529",
   "metadata": {},
   "outputs": [
    {
     "data": {
      "text/plain": [
       "True"
      ]
     },
     "execution_count": 17,
     "metadata": {},
     "output_type": "execute_result"
    }
   ],
   "source": [
    "ob1.is_empty()"
   ]
  },
  {
   "cell_type": "code",
   "execution_count": 18,
   "id": "5077e9b8-ad72-4bad-af6f-49bd5962e3a1",
   "metadata": {},
   "outputs": [
    {
     "data": {
      "text/plain": [
       "'Nothing to pop, sire!'"
      ]
     },
     "execution_count": 18,
     "metadata": {},
     "output_type": "execute_result"
    }
   ],
   "source": [
    "ob1.pop()"
   ]
  },
  {
   "cell_type": "code",
   "execution_count": 19,
   "id": "37a54741-1855-47c9-b73f-f822ee24585c",
   "metadata": {},
   "outputs": [
    {
     "data": {
      "text/plain": [
       "'The push method has run successfully'"
      ]
     },
     "execution_count": 19,
     "metadata": {},
     "output_type": "execute_result"
    }
   ],
   "source": [
    "ob1.push(4)"
   ]
  },
  {
   "cell_type": "code",
   "execution_count": 21,
   "id": "28a5f181-f057-4826-ab86-8a9b3025a657",
   "metadata": {},
   "outputs": [
    {
     "data": {
      "text/plain": [
       "4"
      ]
     },
     "execution_count": 21,
     "metadata": {},
     "output_type": "execute_result"
    }
   ],
   "source": [
    "ob1.peek()"
   ]
  },
  {
   "cell_type": "code",
   "execution_count": 23,
   "id": "2b8d550e-7ba3-4592-99f1-08b4ab54cd4a",
   "metadata": {},
   "outputs": [
    {
     "data": {
      "text/plain": [
       "['The push method has run successfully',\n",
       " 'The push method has run successfully',\n",
       " 'The push method has run successfully',\n",
       " 'The push method has run successfully',\n",
       " 'The push method has run successfully',\n",
       " 'The push method has run successfully',\n",
       " 'The push method has run successfully',\n",
       " 'The push method has run successfully',\n",
       " 'The push method has run successfully',\n",
       " 'The push method has run successfully',\n",
       " 'The push method has run successfully',\n",
       " 'The push method has run successfully',\n",
       " 'The push method has run successfully',\n",
       " 'The push method has run successfully',\n",
       " 'The push method has run successfully',\n",
       " 'The push method has run successfully',\n",
       " 'The push method has run successfully',\n",
       " 'The push method has run successfully',\n",
       " 'The push method has run successfully',\n",
       " 'The push method has run successfully',\n",
       " 'The push method has run successfully',\n",
       " 'The push method has run successfully',\n",
       " 'The push method has run successfully',\n",
       " 'The push method has run successfully',\n",
       " 'The push method has run successfully',\n",
       " 'The push method has run successfully',\n",
       " 'The push method has run successfully',\n",
       " 'The push method has run successfully',\n",
       " 'The push method has run successfully',\n",
       " 'The push method has run successfully',\n",
       " 'The push method has run successfully',\n",
       " 'The push method has run successfully',\n",
       " 'The push method has run successfully',\n",
       " 'The push method has run successfully',\n",
       " 'The push method has run successfully',\n",
       " 'The push method has run successfully',\n",
       " 'The push method has run successfully',\n",
       " 'The push method has run successfully',\n",
       " 'The push method has run successfully',\n",
       " 'The push method has run successfully',\n",
       " 'The push method has run successfully',\n",
       " 'The push method has run successfully',\n",
       " 'The push method has run successfully',\n",
       " 'The push method has run successfully',\n",
       " 'The push method has run successfully',\n",
       " 'The push method has run successfully',\n",
       " 'The push method has run successfully',\n",
       " 'The push method has run successfully',\n",
       " 'The push method has run successfully',\n",
       " 'The push method has run successfully']"
      ]
     },
     "execution_count": 23,
     "metadata": {},
     "output_type": "execute_result"
    }
   ],
   "source": [
    "[ob1.push(i) for i in range(0,100,2)]"
   ]
  },
  {
   "cell_type": "code",
   "execution_count": 25,
   "id": "e2f53aa9-3a91-4196-991c-7a2508e79b73",
   "metadata": {},
   "outputs": [
    {
     "name": "stdout",
     "output_type": "stream",
     "text": [
      "[4, 0, 2, 4, 6, 8, 10, 12, 14, 16, 18, 20, 22, 24, 26, 28, 30, 32, 34, 36, 38, 40, 42, 44, 46, 48, 50, 52, 54, 56, 58, 60, 62, 64, 66, 68, 70, 72, 74, 76, 78, 80, 82, 84, 86, 88, 90, 92, 94, 96, 98]"
     ]
    }
   ],
   "source": [
    "print(ob1.list, end=\"\")"
   ]
  },
  {
   "cell_type": "code",
   "execution_count": null,
   "id": "63d494c6-9105-4a18-b4e6-4c0d8ae9f570",
   "metadata": {},
   "outputs": [],
   "source": []
  }
 ],
 "metadata": {
  "kernelspec": {
   "display_name": "Python 3",
   "language": "python",
   "name": "python3"
  },
  "language_info": {
   "codemirror_mode": {
    "name": "ipython",
    "version": 3
   },
   "file_extension": ".py",
   "mimetype": "text/x-python",
   "name": "python",
   "nbconvert_exporter": "python",
   "pygments_lexer": "ipython3",
   "version": "3.8.5"
  }
 },
 "nbformat": 4,
 "nbformat_minor": 5
}

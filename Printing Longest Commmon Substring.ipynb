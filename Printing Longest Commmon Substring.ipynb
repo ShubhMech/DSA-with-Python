{
 "cells": [
  {
   "cell_type": "code",
   "execution_count": 100,
   "id": "d90b1922",
   "metadata": {},
   "outputs": [],
   "source": [
    "arr1 = [\"a\",\"b\",\"c\",\"d\",\"e\"]\n",
    "arr2 = [\"a\",\"b\",\"c\",\"d\",\"e\"]\n",
    "\n",
    "n = 5\n",
    "m = 5"
   ]
  },
  {
   "cell_type": "code",
   "execution_count": 101,
   "id": "921d01f9",
   "metadata": {},
   "outputs": [],
   "source": [
    "table = [[-1 for x in range(n+1)] for y in range(m+1)]"
   ]
  },
  {
   "cell_type": "code",
   "execution_count": 102,
   "id": "3f04c7d4",
   "metadata": {},
   "outputs": [],
   "source": [
    "def afunc(arr1,arr2,m,n,t):\n",
    "#     print(n,m)\n",
    "    if n<=0 or m<=0:\n",
    "        return 0\n",
    "    elif arr1[n-1] == arr2[m-1]:\n",
    "        print(\"Yes\")\n",
    "        t[m][n] = 1 + afunc(arr1,arr2,m-1,n-1,t)\n",
    "        return t[m][n]\n",
    "    else:\n",
    "        t[m][n] = (max(afunc(arr1,arr2,m-1,n,t), afunc(arr1,arr2,m,n-1,t)))\n",
    "        return t[m][n]"
   ]
  },
  {
   "cell_type": "code",
   "execution_count": 103,
   "id": "e03f1b0f",
   "metadata": {},
   "outputs": [
    {
     "name": "stdout",
     "output_type": "stream",
     "text": [
      "Yes\n",
      "Yes\n",
      "Yes\n",
      "Yes\n",
      "Yes\n"
     ]
    },
    {
     "data": {
      "text/plain": [
       "5"
      ]
     },
     "execution_count": 103,
     "metadata": {},
     "output_type": "execute_result"
    }
   ],
   "source": [
    "afunc(arr1,arr2,m,n,table)"
   ]
  },
  {
   "cell_type": "code",
   "execution_count": 104,
   "id": "beac2a0f",
   "metadata": {},
   "outputs": [
    {
     "data": {
      "text/plain": [
       "[[-1, -1, -1, -1, -1, -1],\n",
       " [-1, 1, -1, -1, -1, -1],\n",
       " [-1, -1, 2, -1, -1, -1],\n",
       " [-1, -1, -1, 3, -1, -1],\n",
       " [-1, -1, -1, -1, 4, -1],\n",
       " [-1, -1, -1, -1, -1, 5]]"
      ]
     },
     "execution_count": 104,
     "metadata": {},
     "output_type": "execute_result"
    }
   ],
   "source": [
    "table"
   ]
  },
  {
   "cell_type": "code",
   "execution_count": 82,
   "id": "b8027de5",
   "metadata": {},
   "outputs": [
    {
     "data": {
      "text/plain": [
       "5"
      ]
     },
     "execution_count": 82,
     "metadata": {},
     "output_type": "execute_result"
    }
   ],
   "source": [
    "n"
   ]
  },
  {
   "cell_type": "code",
   "execution_count": 43,
   "id": "938a5b91",
   "metadata": {},
   "outputs": [
    {
     "data": {
      "text/plain": [
       "2"
      ]
     },
     "execution_count": 43,
     "metadata": {},
     "output_type": "execute_result"
    }
   ],
   "source": [
    "m"
   ]
  },
  {
   "cell_type": "code",
   "execution_count": 26,
   "id": "ce22ea7a",
   "metadata": {},
   "outputs": [
    {
     "data": {
      "text/plain": [
       "-1"
      ]
     },
     "execution_count": 26,
     "metadata": {},
     "output_type": "execute_result"
    }
   ],
   "source": [
    "table[m][n]"
   ]
  },
  {
   "cell_type": "code",
   "execution_count": 83,
   "id": "737db059",
   "metadata": {},
   "outputs": [],
   "source": [
    "t = table.copy()"
   ]
  },
  {
   "cell_type": "code",
   "execution_count": 26,
   "id": "4fbceaa2",
   "metadata": {},
   "outputs": [],
   "source": [
    "arr1 = [\"a\",\"b\",\"d\",\"e\"]\n",
    "arr2 = [\"a\",\"b\",\"d\",\"e\"]\n",
    "\n",
    "n = 4\n",
    "m = 4\n",
    "\n",
    "import numpy as np\n",
    "\n",
    "tt = [[0]*(n+1) for y in range(m+1)]\n",
    "\n",
    "s = []\n",
    "\n",
    "for i in range(n+1):\n",
    "    for j in range(m+1):\n",
    "               \n",
    "        if i == 0 or j == 0:\n",
    "\n",
    "            tt[i][j]= 0\n",
    "            \n",
    "        elif arr2[i-1] == arr1[j-1] :\n",
    "\n",
    "            tt[i][j] = tt[i-1][j-1] + 1\n",
    "            s.append(arr2[i-1])\n",
    "\n",
    "        else:\n",
    "\n",
    "            tt[i][j] = max(tt[i-1][j], tt[i][j-1])\n",
    "            "
   ]
  },
  {
   "cell_type": "code",
   "execution_count": 27,
   "id": "762d922a",
   "metadata": {},
   "outputs": [
    {
     "data": {
      "text/plain": [
       "[[0, 0, 0, 0, 0],\n",
       " [0, 1, 1, 1, 1],\n",
       " [0, 1, 2, 2, 2],\n",
       " [0, 1, 2, 3, 3],\n",
       " [0, 1, 2, 3, 4]]"
      ]
     },
     "execution_count": 27,
     "metadata": {},
     "output_type": "execute_result"
    }
   ],
   "source": [
    "tt"
   ]
  },
  {
   "cell_type": "code",
   "execution_count": 28,
   "id": "aa8c3019",
   "metadata": {},
   "outputs": [
    {
     "data": {
      "text/plain": [
       "['a', 'b', 'd', 'e']"
      ]
     },
     "execution_count": 28,
     "metadata": {},
     "output_type": "execute_result"
    }
   ],
   "source": [
    "arr1"
   ]
  },
  {
   "cell_type": "code",
   "execution_count": 87,
   "id": "cd026853",
   "metadata": {},
   "outputs": [
    {
     "data": {
      "text/plain": [
       "['a', 'b', 'd', 'e']"
      ]
     },
     "execution_count": 87,
     "metadata": {},
     "output_type": "execute_result"
    }
   ],
   "source": [
    "arr2"
   ]
  },
  {
   "cell_type": "code",
   "execution_count": 29,
   "id": "bf8efa44",
   "metadata": {},
   "outputs": [
    {
     "data": {
      "text/plain": [
       "['a', 'b', 'd', 'e']"
      ]
     },
     "execution_count": 29,
     "metadata": {},
     "output_type": "execute_result"
    }
   ],
   "source": [
    "s"
   ]
  },
  {
   "cell_type": "code",
   "execution_count": 32,
   "id": "ca0bba40",
   "metadata": {},
   "outputs": [],
   "source": [
    "lcs = \"\".join(s)"
   ]
  },
  {
   "cell_type": "code",
   "execution_count": 33,
   "id": "e6d1e325",
   "metadata": {},
   "outputs": [
    {
     "data": {
      "text/plain": [
       "'abde'"
      ]
     },
     "execution_count": 33,
     "metadata": {},
     "output_type": "execute_result"
    }
   ],
   "source": [
    "lcs"
   ]
  },
  {
   "cell_type": "code",
   "execution_count": null,
   "id": "6e87fe22",
   "metadata": {},
   "outputs": [],
   "source": []
  }
 ],
 "metadata": {
  "kernelspec": {
   "display_name": "Python 3",
   "language": "python",
   "name": "python3"
  },
  "language_info": {
   "codemirror_mode": {
    "name": "ipython",
    "version": 3
   },
   "file_extension": ".py",
   "mimetype": "text/x-python",
   "name": "python",
   "nbconvert_exporter": "python",
   "pygments_lexer": "ipython3",
   "version": "3.8.5"
  }
 },
 "nbformat": 4,
 "nbformat_minor": 5
}

{
 "cells": [
  {
   "cell_type": "code",
   "execution_count": 244,
   "id": "686b26d0-c15b-41d3-b5da-3e5e74298712",
   "metadata": {},
   "outputs": [],
   "source": [
    "class Node:\n",
    "    def __init__(self, new_data):\n",
    "        self.data = new_data\n",
    "        self.next = None\n",
    "     \n",
    "class LinkedList:\n",
    "    def __init__(self):\n",
    "        self.head = None\n",
    " \n",
    "    # createNode and make linked list\n",
    "    def push(self, new_data):\n",
    "        new_node = Node(new_data)\n",
    "        new_node.next = self.head\n",
    "        self.head = new_node\n",
    " \n",
    "    # Function to get the nth node from\n",
    "    # the last of a linked list\n",
    "    def afunc(self,f=3):\n",
    "        if self.head== None:\n",
    "            print(\"Bhak bc\")\n",
    "        else:\n",
    "            temp= self.head\n",
    "            c=0\n",
    "            while temp.next:\n",
    "                c +=1 \n",
    "                print(\"Inside\", temp.next.data ,c)\n",
    "                temp= temp.next\n",
    "            if temp.next==None and c ==f:\n",
    "                print(self.head.data)\n",
    "                return self.head\n",
    "            else:\n",
    "#             print(temp.data, temp.next)\n",
    "                temp= self.head\n",
    "                while(temp.next):\n",
    "                    temp,temp1= temp.next, temp.next\n",
    "                    count= 0\n",
    "    #                 temp1= temp\n",
    "    #                 if temp1:\n",
    "    #                     count +=1\n",
    "                    while (temp1):\n",
    "                        temp1= temp1.next\n",
    "                        count+=1\n",
    "                        print(\"hahaha\")\n",
    "                        print(temp.data,count)\n",
    "                    if temp1==None and count-1 ==f:\n",
    "                        return temp\n",
    "                        "
   ]
  },
  {
   "cell_type": "code",
   "execution_count": 245,
   "id": "c34480b8-0594-4ea2-a362-ab41b7fe7c16",
   "metadata": {},
   "outputs": [],
   "source": [
    "llist = LinkedList()\n",
    "llist.push(20)\n",
    "llist.push(4)\n",
    "llist.push(15)\n",
    "llist.push(0.35)\n",
    "# llist.printNthFromLast(4)"
   ]
  },
  {
   "cell_type": "code",
   "execution_count": 246,
   "id": "fa110075-0e45-430f-8773-67a90836d691",
   "metadata": {},
   "outputs": [],
   "source": [
    "llist.push(135)\n",
    "llist.push(235)\n",
    "llist.push(335)\n",
    "llist.push(535)\n",
    "llist.push(435)"
   ]
  },
  {
   "cell_type": "code",
   "execution_count": 247,
   "id": "49affbb2-4e26-4231-9507-0a67e4e4eabc",
   "metadata": {},
   "outputs": [
    {
     "name": "stdout",
     "output_type": "stream",
     "text": [
      "Inside 535 1\n",
      "Inside 335 2\n",
      "Inside 235 3\n",
      "Inside 135 4\n",
      "Inside 0.35 5\n",
      "Inside 15 6\n",
      "Inside 4 7\n",
      "Inside 20 8\n",
      "hahaha\n",
      "535 1\n",
      "hahaha\n",
      "535 2\n",
      "hahaha\n",
      "535 3\n",
      "hahaha\n",
      "535 4\n",
      "hahaha\n",
      "535 5\n",
      "hahaha\n",
      "535 6\n",
      "hahaha\n",
      "535 7\n",
      "hahaha\n",
      "535 8\n"
     ]
    }
   ],
   "source": [
    "dd=llist.afunc(7)"
   ]
  },
  {
   "cell_type": "code",
   "execution_count": 248,
   "id": "7299047e-3278-4a55-a023-cbda48be39d4",
   "metadata": {},
   "outputs": [
    {
     "data": {
      "text/plain": [
       "535"
      ]
     },
     "execution_count": 248,
     "metadata": {},
     "output_type": "execute_result"
    }
   ],
   "source": [
    "dd.data"
   ]
  },
  {
   "cell_type": "code",
   "execution_count": null,
   "id": "0b1634d7-ee45-43a4-9f02-232fab570d0f",
   "metadata": {},
   "outputs": [],
   "source": []
  },
  {
   "cell_type": "code",
   "execution_count": null,
   "id": "d71a2fee-b928-42ff-a1e5-96979718fe8c",
   "metadata": {},
   "outputs": [],
   "source": []
  },
  {
   "cell_type": "code",
   "execution_count": null,
   "id": "cc21d16c-6135-438b-b071-87027a5eed59",
   "metadata": {},
   "outputs": [],
   "source": []
  }
 ],
 "metadata": {
  "kernelspec": {
   "display_name": "Python 3",
   "language": "python",
   "name": "python3"
  },
  "language_info": {
   "codemirror_mode": {
    "name": "ipython",
    "version": 3
   },
   "file_extension": ".py",
   "mimetype": "text/x-python",
   "name": "python",
   "nbconvert_exporter": "python",
   "pygments_lexer": "ipython3",
   "version": "3.8.5"
  }
 },
 "nbformat": 4,
 "nbformat_minor": 5
}

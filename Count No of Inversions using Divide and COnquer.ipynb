{
 "cells": [
  {
   "cell_type": "code",
   "execution_count": 131,
   "id": "3c8934e3",
   "metadata": {},
   "outputs": [],
   "source": [
    "count = 0"
   ]
  },
  {
   "cell_type": "code",
   "execution_count": 132,
   "id": "bf8c4c2c",
   "metadata": {},
   "outputs": [],
   "source": [
    "def merge_sort(arr):\n",
    "    \n",
    "    global count\n",
    "\n",
    "#     print(\"called with arr, \", arr)\n",
    "\n",
    "    while len(arr)>=1:\n",
    "        \n",
    "        if len(arr)==1:\n",
    "            return arr\n",
    "    \n",
    "        mid = len(arr)//2\n",
    "        \n",
    "        l = arr[0:mid]\n",
    "        \n",
    "        r = arr[mid:]\n",
    "#         print(count)\n",
    "\n",
    "        l = merge_sort(l)\n",
    "\n",
    "#         print(count)\n",
    "        r= merge_sort(r)\n",
    "\n",
    "        \n",
    "        \n",
    "        i,j,k = 0,0,0\n",
    "        arr = [None]*(len(l)+len(r))\n",
    "\n",
    "        while i<len(l) and j<len(r):\n",
    "\n",
    "            if l[i]<= r[j]:\n",
    "                arr[k] = l[i]\n",
    "                i += 1\n",
    "                k += 1\n",
    "            else:\n",
    "                count += mid-i\n",
    "                arr[k] = r[j]\n",
    "                j += 1\n",
    "                k +=1\n",
    "\n",
    "        while i<len(l):\n",
    "                arr[k] = l[i]\n",
    "                i += 1\n",
    "                k += 1\n",
    "\n",
    "        while j<len(r):\n",
    "                arr[k] = r[j]\n",
    "                j += 1\n",
    "                k +=1\n",
    "                \n",
    "\n",
    "        return arr\n",
    "\n"
   ]
  },
  {
   "cell_type": "code",
   "execution_count": 133,
   "id": "c666770c",
   "metadata": {},
   "outputs": [],
   "source": [
    "# arr = [11,211,13,4,15,6,17,8,19,10,0]\n",
    "arr = [1,3,2]\n",
    "# # arr = [8,4,2,1]\n",
    "arr = [1, 20, 6, 4, 5]\n",
    "# arr = [1,2,3,5,4]"
   ]
  },
  {
   "cell_type": "code",
   "execution_count": 134,
   "id": "c2b61bd5",
   "metadata": {},
   "outputs": [
    {
     "data": {
      "text/plain": [
       "[1, 4, 5, 6, 20]"
      ]
     },
     "execution_count": 134,
     "metadata": {},
     "output_type": "execute_result"
    }
   ],
   "source": [
    "merge_sort(arr)"
   ]
  },
  {
   "cell_type": "code",
   "execution_count": 135,
   "id": "3a19b34b",
   "metadata": {
    "scrolled": false
   },
   "outputs": [],
   "source": [
    "# ans = merge_sort(arr)"
   ]
  },
  {
   "cell_type": "code",
   "execution_count": 136,
   "id": "20d4f556",
   "metadata": {},
   "outputs": [
    {
     "data": {
      "text/plain": [
       "5"
      ]
     },
     "execution_count": 136,
     "metadata": {},
     "output_type": "execute_result"
    }
   ],
   "source": [
    "count"
   ]
  },
  {
   "cell_type": "code",
   "execution_count": 78,
   "id": "78edb14a",
   "metadata": {},
   "outputs": [],
   "source": [
    "arr = [11,211,13,4,15,6,17,8,19,10,0]"
   ]
  },
  {
   "cell_type": "code",
   "execution_count": 25,
   "id": "b8ee55a8",
   "metadata": {},
   "outputs": [],
   "source": [
    "def partition(arr,low,high):\n",
    "    i = low-1\n",
    "    pivot = arr[high]\n",
    "    \n",
    "    for j in range(low,high):\n",
    "        if arr[j] <= pivot:\n",
    "            i += 1\n",
    "            arr[j],arr[i] = arr[i], arr[j]\n",
    "        \n",
    "    arr[i+1], arr[high] = arr[high], arr[i+1]\n",
    "    return i +1\n",
    "        "
   ]
  },
  {
   "cell_type": "code",
   "execution_count": 26,
   "id": "e22b6f83",
   "metadata": {},
   "outputs": [],
   "source": [
    "import numpy as np"
   ]
  },
  {
   "cell_type": "code",
   "execution_count": 27,
   "id": "e06ebd6c",
   "metadata": {},
   "outputs": [],
   "source": [
    "# def partition_random(arr,low,high):\n",
    "#     rand =np.random.randint(low,high)\n",
    "#     arr[rand], arr[high] = arr[high], arr[rand]\n",
    "#     return partition(arr,low,high)"
   ]
  },
  {
   "cell_type": "code",
   "execution_count": 28,
   "id": "a51ddfbe",
   "metadata": {},
   "outputs": [],
   "source": [
    "def quicksort(arr,low,high,k):\n",
    "    \n",
    "    if low==high:\n",
    "        return\n",
    "    elif low<high:\n",
    "        pi =partition(arr,low,high)\n",
    "#         print(pi-low+1)\n",
    "        if pi-low+1 == k:\n",
    "            print(\"Yes\")\n",
    "            print(arr[pi])\n",
    "            return arr[pi]\n",
    "            \n",
    "        elif pi-low+1 > k:\n",
    "            quicksort(arr,low,pi-1,k)\n",
    "        else:\n",
    "            quicksort(arr,pi+1,high,k-pi+low-1)"
   ]
  },
  {
   "cell_type": "code",
   "execution_count": 29,
   "id": "3e0a50e6",
   "metadata": {},
   "outputs": [],
   "source": [
    "arr = [11,211,13,4,15,6,17,8,19,10,0]"
   ]
  },
  {
   "cell_type": "code",
   "execution_count": 30,
   "id": "a21ad62e",
   "metadata": {},
   "outputs": [],
   "source": [
    "ans = quicksort(arr,0,len(arr)-1,2)"
   ]
  },
  {
   "cell_type": "code",
   "execution_count": 31,
   "id": "64155b7d",
   "metadata": {},
   "outputs": [],
   "source": [
    "ans"
   ]
  },
  {
   "cell_type": "code",
   "execution_count": 32,
   "id": "960a37ed",
   "metadata": {},
   "outputs": [
    {
     "data": {
      "text/plain": [
       "[0, 4, 6, 8, 10, 11, 17, 211, 19, 15, 13]"
      ]
     },
     "execution_count": 32,
     "metadata": {},
     "output_type": "execute_result"
    }
   ],
   "source": [
    "arr"
   ]
  },
  {
   "cell_type": "code",
   "execution_count": 33,
   "id": "80c84333",
   "metadata": {},
   "outputs": [],
   "source": [
    "arr.sort()"
   ]
  },
  {
   "cell_type": "code",
   "execution_count": 34,
   "id": "f2cd3d8f",
   "metadata": {},
   "outputs": [
    {
     "data": {
      "text/plain": [
       "[0, 4, 6, 8, 10, 11, 13, 15, 17, 19, 211]"
      ]
     },
     "execution_count": 34,
     "metadata": {},
     "output_type": "execute_result"
    }
   ],
   "source": [
    "arr"
   ]
  },
  {
   "cell_type": "code",
   "execution_count": 35,
   "id": "1239fb1b",
   "metadata": {},
   "outputs": [
    {
     "data": {
      "text/plain": [
       "11"
      ]
     },
     "execution_count": 35,
     "metadata": {},
     "output_type": "execute_result"
    }
   ],
   "source": [
    "len(arr)"
   ]
  },
  {
   "cell_type": "code",
   "execution_count": null,
   "id": "b44023d6",
   "metadata": {},
   "outputs": [],
   "source": []
  },
  {
   "cell_type": "code",
   "execution_count": null,
   "id": "a2943f7c",
   "metadata": {},
   "outputs": [],
   "source": []
  },
  {
   "cell_type": "code",
   "execution_count": null,
   "id": "d67fba02",
   "metadata": {},
   "outputs": [],
   "source": []
  }
 ],
 "metadata": {
  "kernelspec": {
   "display_name": "Python 3",
   "language": "python",
   "name": "python3"
  },
  "language_info": {
   "codemirror_mode": {
    "name": "ipython",
    "version": 3
   },
   "file_extension": ".py",
   "mimetype": "text/x-python",
   "name": "python",
   "nbconvert_exporter": "python",
   "pygments_lexer": "ipython3",
   "version": "3.8.5"
  }
 },
 "nbformat": 4,
 "nbformat_minor": 5
}

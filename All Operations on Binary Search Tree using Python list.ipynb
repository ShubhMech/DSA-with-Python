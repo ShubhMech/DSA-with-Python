{
 "cells": [
  {
   "cell_type": "code",
   "execution_count": 6,
   "id": "de01c2f2-36a3-4715-acf0-ee890e5fdedb",
   "metadata": {},
   "outputs": [],
   "source": [
    "class binTree:\n",
    "    def __init__(self,size):\n",
    "        self.size= size\n",
    "        self.list = [None]*self.size\n",
    "        self.last_used_index=0\n",
    "        \n",
    "    def insertion(self,val):\n",
    "        if self.last_used_index == self.size-1:\n",
    "            return \"Bhag BC\"\n",
    "        else:\n",
    "            self.list[self.last_used_index+1]= val\n",
    "            self.last_used_index += 1\n",
    "    \n",
    "    def search(self,val):\n",
    "        if not self.is_empty():\n",
    "            for i in range(1,self.last_used_index+1):\n",
    "                if self.list[i]== val:\n",
    "                    print(\"Found the val \", val)\n",
    "                    return i\n",
    "            if i==self.last_used_index and self.list[self.last_used_index] != val:\n",
    "                return \"Nahi Mila\"\n",
    "        \n",
    "    def traversal(self):\n",
    "        if not self.is_empty():\n",
    "            if self.last_used_index==0:\n",
    "                print(\"Nothing to traverse !\")\n",
    "            else:\n",
    "                for i in range(1,self.last_used_index+1):\n",
    "                    print(self.list[i])\n",
    "            \n",
    "    def is_empty(self):\n",
    "        if self.last_used_index==0:\n",
    "            return True\n",
    "        else:\n",
    "            return False\n",
    "        \n",
    "    \n",
    "    def deletion(self,val):\n",
    "        if not self.is_empty():\n",
    "            \n",
    "            to_be_deleted= self.search(val)\n",
    "            self.list[to_be_deleted]=self.list[self.last_used_index] \n",
    "            self.list[self.last_used_index]=None\n",
    "            self.last_used_index -=1 "
   ]
  },
  {
   "cell_type": "code",
   "execution_count": 7,
   "id": "232e5e1e-d7db-4332-a0b2-474ddc026572",
   "metadata": {},
   "outputs": [],
   "source": [
    "b= binTree(11)"
   ]
  },
  {
   "cell_type": "code",
   "execution_count": 8,
   "id": "77e52394-bd53-4bd9-84c4-53c7682f56f2",
   "metadata": {},
   "outputs": [
    {
     "data": {
      "text/plain": [
       "11"
      ]
     },
     "execution_count": 8,
     "metadata": {},
     "output_type": "execute_result"
    }
   ],
   "source": [
    "b.size"
   ]
  },
  {
   "cell_type": "code",
   "execution_count": 9,
   "id": "54c8a3f1-875d-4a64-88a0-b8ca1a9de80a",
   "metadata": {},
   "outputs": [
    {
     "data": {
      "text/plain": [
       "[None, None, None, None, None, None, None, None, None, None, None]"
      ]
     },
     "execution_count": 9,
     "metadata": {},
     "output_type": "execute_result"
    }
   ],
   "source": [
    "b.list"
   ]
  },
  {
   "cell_type": "code",
   "execution_count": 10,
   "id": "becdc8f0-dffc-4c83-a81e-255aafa9e349",
   "metadata": {},
   "outputs": [],
   "source": [
    "b.insertion(12)"
   ]
  },
  {
   "cell_type": "code",
   "execution_count": 11,
   "id": "ddeaae59-6211-47cb-9351-61c778617687",
   "metadata": {},
   "outputs": [
    {
     "data": {
      "text/plain": [
       "1"
      ]
     },
     "execution_count": 11,
     "metadata": {},
     "output_type": "execute_result"
    }
   ],
   "source": [
    "b.last_used_index"
   ]
  },
  {
   "cell_type": "code",
   "execution_count": 12,
   "id": "1766f3e0-dc1b-449d-ba74-b81f6418c414",
   "metadata": {},
   "outputs": [],
   "source": [
    "b.insertion(11)"
   ]
  },
  {
   "cell_type": "code",
   "execution_count": 13,
   "id": "caf51c2d-9171-473e-9c68-9cffd990b6f7",
   "metadata": {},
   "outputs": [],
   "source": [
    "b.insertion(10)"
   ]
  },
  {
   "cell_type": "code",
   "execution_count": 14,
   "id": "5f08e9a3-ecc8-4e32-bc73-1b9e73d79f89",
   "metadata": {},
   "outputs": [],
   "source": [
    "b.insertion(9)"
   ]
  },
  {
   "cell_type": "code",
   "execution_count": 15,
   "id": "eb997e64-cf10-4e3e-8109-a3aecbe501ae",
   "metadata": {},
   "outputs": [],
   "source": [
    "b.insertion(8)"
   ]
  },
  {
   "cell_type": "code",
   "execution_count": 16,
   "id": "4f1c1996-0b91-438c-9523-909cbaf8e9b1",
   "metadata": {},
   "outputs": [],
   "source": [
    "b.insertion(7)"
   ]
  },
  {
   "cell_type": "code",
   "execution_count": 17,
   "id": "9068ce41-6ed8-458f-9a9a-a44af3013a53",
   "metadata": {},
   "outputs": [],
   "source": [
    "b.insertion(6)"
   ]
  },
  {
   "cell_type": "code",
   "execution_count": 18,
   "id": "f3222ad7-064c-4c1f-8eb0-1497fc72d880",
   "metadata": {},
   "outputs": [],
   "source": [
    "b.insertion(5)"
   ]
  },
  {
   "cell_type": "code",
   "execution_count": 19,
   "id": "20e38a00-5dd8-4e50-88ff-a8016e2decc8",
   "metadata": {},
   "outputs": [],
   "source": [
    "b.insertion(4\n",
    "           )"
   ]
  },
  {
   "cell_type": "code",
   "execution_count": 20,
   "id": "b3fbfd88-a61b-441b-9884-7ecd1a28ff34",
   "metadata": {},
   "outputs": [],
   "source": [
    "b.insertion(3)"
   ]
  },
  {
   "cell_type": "code",
   "execution_count": 21,
   "id": "abdc4dd4-5fbc-49fa-99c3-1ee4cb61c025",
   "metadata": {},
   "outputs": [
    {
     "data": {
      "text/plain": [
       "'Bhag BC'"
      ]
     },
     "execution_count": 21,
     "metadata": {},
     "output_type": "execute_result"
    }
   ],
   "source": [
    "b.insertion(2)"
   ]
  },
  {
   "cell_type": "code",
   "execution_count": 22,
   "id": "21d94e56-211c-48c2-9dbd-d6964cc7697e",
   "metadata": {},
   "outputs": [
    {
     "data": {
      "text/plain": [
       "10"
      ]
     },
     "execution_count": 22,
     "metadata": {},
     "output_type": "execute_result"
    }
   ],
   "source": [
    "b.last_used_index"
   ]
  },
  {
   "cell_type": "code",
   "execution_count": 23,
   "id": "a64ff6aa-ae84-4f2f-b3f4-2de38a2e996d",
   "metadata": {},
   "outputs": [
    {
     "data": {
      "text/plain": [
       "[None, 12, 11, 10, 9, 8, 7, 6, 5, 4, 3]"
      ]
     },
     "execution_count": 23,
     "metadata": {},
     "output_type": "execute_result"
    }
   ],
   "source": [
    "b.list"
   ]
  },
  {
   "cell_type": "code",
   "execution_count": 24,
   "id": "8b19f64d-6fee-4060-a85f-f7a2f4bcb6ce",
   "metadata": {},
   "outputs": [
    {
     "name": "stdout",
     "output_type": "stream",
     "text": [
      "Found the val  10\n"
     ]
    },
    {
     "data": {
      "text/plain": [
       "3"
      ]
     },
     "execution_count": 24,
     "metadata": {},
     "output_type": "execute_result"
    }
   ],
   "source": [
    "b.search(10)"
   ]
  },
  {
   "cell_type": "code",
   "execution_count": 25,
   "id": "ffa7d2aa-b249-497e-90dc-a1c98d1aca40",
   "metadata": {},
   "outputs": [
    {
     "name": "stdout",
     "output_type": "stream",
     "text": [
      "Found the val  3\n"
     ]
    }
   ],
   "source": [
    "b.deletion(3)"
   ]
  },
  {
   "cell_type": "code",
   "execution_count": 26,
   "id": "7df8eef5-823e-4801-900c-139c70cd5f2c",
   "metadata": {},
   "outputs": [
    {
     "data": {
      "text/plain": [
       "[None, 12, 11, 10, 9, 8, 7, 6, 5, 4, None]"
      ]
     },
     "execution_count": 26,
     "metadata": {},
     "output_type": "execute_result"
    }
   ],
   "source": [
    "b.list"
   ]
  },
  {
   "cell_type": "code",
   "execution_count": 27,
   "id": "58457cb5-eeba-4089-840e-3ec22cb776c2",
   "metadata": {},
   "outputs": [
    {
     "name": "stdout",
     "output_type": "stream",
     "text": [
      "Found the val  11\n"
     ]
    }
   ],
   "source": [
    "b.deletion(11)"
   ]
  },
  {
   "cell_type": "code",
   "execution_count": 28,
   "id": "02ca1329-5d1b-410b-a078-154a34a20543",
   "metadata": {},
   "outputs": [
    {
     "data": {
      "text/plain": [
       "[None, 12, 4, 10, 9, 8, 7, 6, 5, None, None]"
      ]
     },
     "execution_count": 28,
     "metadata": {},
     "output_type": "execute_result"
    }
   ],
   "source": [
    "b.list"
   ]
  },
  {
   "cell_type": "code",
   "execution_count": null,
   "id": "5c8d92e5-06d7-4585-8c0c-8648215345ca",
   "metadata": {},
   "outputs": [],
   "source": []
  }
 ],
 "metadata": {
  "kernelspec": {
   "display_name": "Python 3",
   "language": "python",
   "name": "python3"
  },
  "language_info": {
   "codemirror_mode": {
    "name": "ipython",
    "version": 3
   },
   "file_extension": ".py",
   "mimetype": "text/x-python",
   "name": "python",
   "nbconvert_exporter": "python",
   "pygments_lexer": "ipython3",
   "version": "3.8.5"
  }
 },
 "nbformat": 4,
 "nbformat_minor": 5
}

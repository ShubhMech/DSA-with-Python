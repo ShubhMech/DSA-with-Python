{
 "cells": [
  {
   "cell_type": "code",
   "execution_count": 76,
   "id": "d0d67aa9-f996-47f2-9003-56b4cc70dd00",
   "metadata": {},
   "outputs": [],
   "source": [
    "class Heap:\n",
    "    def __init__(self,size):\n",
    "        self.size= size+1\n",
    "        self.heap= [None]*self.size\n",
    "        self.last_index=0\n",
    "        \n",
    "    def peek(self):\n",
    "        if self.last_index !=0:\n",
    "            return self.heap[1]\n",
    "        \n",
    "    def size_of_heap(self):\n",
    "        return self.last_index\n",
    "    \n",
    "    def level_order(self):\n",
    "        for i in range(1,self.last_index):\n",
    "            print(self.heap[i])\n",
    "            \n",
    "    def heapify_insertion(self,heaptype,index):\n",
    "        print(self.heap)\n",
    "        if index <=1:\n",
    "            return\n",
    "        elif index>1 and heaptype==\"Min\":\n",
    "            p_index= index//2\n",
    "            if self.heap[p_index]> self.heap[index]:\n",
    "                self.heap[p_index], self.heap[index]= self.heap[index],self.heap[p_index]\n",
    "            self.heapify_insertion(heaptype,p_index)\n",
    "        elif heaptype==\"Max\":\n",
    "            p_index= index//2\n",
    "            if self.heap[p_index]< self.heap[index]:\n",
    "                self.heap[p_index], self.heap[index]= self.heap[index],self.heap[p_index]\n",
    "            self.heapify_insertion(heaptype,p_index)\n",
    "            \n",
    "    def insert(self,val,heaptype):\n",
    "        if self.last_index +1 == self.size:\n",
    "            return \"Bhak\"\n",
    "        else:\n",
    "            self.heap[self.last_index+1] = val\n",
    "            self.last_index += 1\n",
    "            self.heapify_insertion(heaptype,self.last_index)\n",
    "            \n",
    "    def del_heap(self):\n",
    "        self.heap= [None]*self.size\n",
    "        self.last_index= 0\n",
    "        \n",
    "    \n",
    "    def heap_extract(self,index,heap_type):\n",
    "        if self.size== 0:\n",
    "            return \"bhak\"\n",
    "        else:\n",
    "            node= self.heap[index]\n",
    "            self.heap[index],self.heap[self.last_index]= self.heap[self.last_index], self.heap[index]\n",
    "            self.heap[self.last_index]= None\n",
    "            \n",
    "            root.heap_size -= 1\n",
    "        \n",
    "        heapifyTreeExtract(root, 1, heap_type)\n",
    "        \n",
    "        return node\n",
    "    \n",
    "    \n",
    "    \n",
    "    \n",
    "    \n",
    "    \n",
    "    \n",
    "    def heapifyTreeExtract(self, index, heap_type):\n",
    "        left= 2*index\n",
    "        right=2*index+1\n",
    "\n",
    "        if root.heap_size<left:\n",
    "            return\n",
    "        elif root.heap_size==left:\n",
    "            if heap_type==\"Min\":\n",
    "                if root.heap[index] > root.heap[left]:\n",
    "                    temp= root.heap[left]\n",
    "\n",
    "                    root.heap[left]= root.heap[index]\n",
    "                    root.heap[index]= temp\n",
    "                    return\n",
    "            else:\n",
    "                if root.heap[index] < root.heap[left]:\n",
    "                    temp= root.heap[left]\n",
    "\n",
    "                    root.heap[left]= root.heap[index]\n",
    "                    root.heap[index]= temp\n",
    "                    return\n",
    "        else:\n",
    "            if heap_type== \"Min\":\n",
    "\n",
    "                if root.heap[left]< root.heap[right]:\n",
    "                    swap= left\n",
    "\n",
    "                else:\n",
    "                    swap=right\n",
    "\n",
    "                if root.heap[swap]< root.heap[index]:\n",
    "                    temp= root.heap[swap]\n",
    "\n",
    "                    root.heap[swap]= root.heap[index]\n",
    "                    root.heap[index]= temp\n",
    "                    return\n",
    "\n",
    "\n",
    "            else:\n",
    "                if root.heap[left]> root.heap[right]:\n",
    "                    swap= left\n",
    "\n",
    "                else:swap=right\n",
    "\n",
    "                if root.heap[swap]> root.heap[index]:\n",
    "                    temp= root.heap[swap]\n",
    "\n",
    "                    root.heap[swap]= root.heap[index]\n",
    "                    root.heap[index]= temp\n",
    "                    return\n",
    "\n",
    "\n",
    "\n",
    "\n",
    "        self.heapifyTreeExtract(swap, heapType)\n",
    "\n",
    "    \n",
    "    \n",
    "    \n",
    "    \n",
    "    \n",
    "    \n",
    "    \n",
    "    \n",
    "        "
   ]
  },
  {
   "cell_type": "code",
   "execution_count": 77,
   "id": "09d2ce20-bbd2-4cf8-b0a2-15ccdd782c08",
   "metadata": {},
   "outputs": [],
   "source": [
    "h=Heap(5)"
   ]
  },
  {
   "cell_type": "code",
   "execution_count": 78,
   "id": "86d3f1d7-e6bf-4a0b-acbb-04115881fc5c",
   "metadata": {},
   "outputs": [
    {
     "data": {
      "text/plain": [
       "6"
      ]
     },
     "execution_count": 78,
     "metadata": {},
     "output_type": "execute_result"
    }
   ],
   "source": [
    "h.size"
   ]
  },
  {
   "cell_type": "code",
   "execution_count": 79,
   "id": "b162370d-eddb-4359-b0bc-ea49c3976c12",
   "metadata": {},
   "outputs": [
    {
     "data": {
      "text/plain": [
       "[None, None, None, None, None, None]"
      ]
     },
     "execution_count": 79,
     "metadata": {},
     "output_type": "execute_result"
    }
   ],
   "source": [
    "h.heap"
   ]
  },
  {
   "cell_type": "code",
   "execution_count": 80,
   "id": "f48d6550-b585-4498-bb89-d25a26b3a55a",
   "metadata": {},
   "outputs": [],
   "source": [
    "h.peek()"
   ]
  },
  {
   "cell_type": "code",
   "execution_count": 81,
   "id": "3babbc38-0de6-4bdf-a084-3da551e3064a",
   "metadata": {},
   "outputs": [
    {
     "data": {
      "text/plain": [
       "0"
      ]
     },
     "execution_count": 81,
     "metadata": {},
     "output_type": "execute_result"
    }
   ],
   "source": [
    "h.size_of_heap()"
   ]
  },
  {
   "cell_type": "code",
   "execution_count": 82,
   "id": "1dcf833a-3977-427a-8df3-8853db9246b1",
   "metadata": {},
   "outputs": [],
   "source": [
    "h.level_order()"
   ]
  },
  {
   "cell_type": "code",
   "execution_count": 83,
   "id": "0f7a6e3f-6bdb-4f4d-ba52-678d37214010",
   "metadata": {},
   "outputs": [
    {
     "name": "stdout",
     "output_type": "stream",
     "text": [
      "[None, 5, None, None, None, None]\n"
     ]
    }
   ],
   "source": [
    "h.insert(5,\"Max\")"
   ]
  },
  {
   "cell_type": "code",
   "execution_count": 84,
   "id": "f4c7fe12-a4dc-4a92-8ed8-782ee4014181",
   "metadata": {},
   "outputs": [
    {
     "data": {
      "text/plain": [
       "1"
      ]
     },
     "execution_count": 84,
     "metadata": {},
     "output_type": "execute_result"
    }
   ],
   "source": [
    "h.size_of_heap()"
   ]
  },
  {
   "cell_type": "code",
   "execution_count": 85,
   "id": "f6d6d29c-d2bd-4ec5-9bea-2b5b2e0044c7",
   "metadata": {},
   "outputs": [
    {
     "data": {
      "text/plain": [
       "[None, 5, None, None, None, None]"
      ]
     },
     "execution_count": 85,
     "metadata": {},
     "output_type": "execute_result"
    }
   ],
   "source": [
    "h.heap"
   ]
  },
  {
   "cell_type": "code",
   "execution_count": 86,
   "id": "fef8b197-4a29-4e2b-9ccc-b43b90053a2a",
   "metadata": {},
   "outputs": [
    {
     "name": "stdout",
     "output_type": "stream",
     "text": [
      "[None, 5, 4, None, None, None]\n",
      "[None, 5, 4, None, None, None]\n"
     ]
    }
   ],
   "source": [
    "h.insert(4,\"Max\")"
   ]
  },
  {
   "cell_type": "code",
   "execution_count": 87,
   "id": "f0fec494-0023-4e35-b0c1-8bd575bc922b",
   "metadata": {},
   "outputs": [
    {
     "data": {
      "text/plain": [
       "[None, 5, 4, None, None, None]"
      ]
     },
     "execution_count": 87,
     "metadata": {},
     "output_type": "execute_result"
    }
   ],
   "source": [
    "h.heap"
   ]
  },
  {
   "cell_type": "code",
   "execution_count": 88,
   "id": "b48ffa95-8280-46e3-a384-f018f5e248fe",
   "metadata": {},
   "outputs": [
    {
     "name": "stdout",
     "output_type": "stream",
     "text": [
      "[None, 5, 4, 14, None, None]\n",
      "[None, 14, 4, 5, None, None]\n"
     ]
    }
   ],
   "source": [
    "h.insert(14,\"Max\")"
   ]
  },
  {
   "cell_type": "code",
   "execution_count": 75,
   "id": "3311ed03-678e-4ea9-916b-ba34cb89d685",
   "metadata": {},
   "outputs": [
    {
     "data": {
      "text/plain": [
       "[None, 14, 4, 5, None, None]"
      ]
     },
     "execution_count": 75,
     "metadata": {},
     "output_type": "execute_result"
    }
   ],
   "source": [
    "h.heap"
   ]
  },
  {
   "cell_type": "code",
   "execution_count": 91,
   "id": "a95ae5d0-0048-49e9-84e6-5e2e77e60414",
   "metadata": {},
   "outputs": [
    {
     "name": "stdout",
     "output_type": "stream",
     "text": [
      "[None, 14, 4, 5, 25, None]\n",
      "[None, 14, 25, 5, 4, None]\n",
      "[None, 25, 14, 5, 4, None]\n"
     ]
    }
   ],
   "source": [
    "h.insert(25,\"Max\")"
   ]
  },
  {
   "cell_type": "code",
   "execution_count": 92,
   "id": "ab06696f-8974-4462-8217-ad2e83b6fd7a",
   "metadata": {},
   "outputs": [
    {
     "name": "stdout",
     "output_type": "stream",
     "text": [
      "[None, 25, 14, 5, 4, 1]\n",
      "[None, 25, 14, 5, 4, 1]\n",
      "[None, 25, 14, 5, 4, 1]\n"
     ]
    }
   ],
   "source": [
    "h.insert(1,\"Max\")\n"
   ]
  },
  {
   "cell_type": "code",
   "execution_count": 93,
   "id": "4d6a2ca3-799b-44ed-8c18-54f93d2814ba",
   "metadata": {},
   "outputs": [
    {
     "data": {
      "text/plain": [
       "'Bhak'"
      ]
     },
     "execution_count": 93,
     "metadata": {},
     "output_type": "execute_result"
    }
   ],
   "source": [
    "h.insert(33,\"Max\")"
   ]
  },
  {
   "cell_type": "code",
   "execution_count": null,
   "id": "dfb3760f-5d1d-4229-ad5b-db0104effff0",
   "metadata": {},
   "outputs": [],
   "source": []
  }
 ],
 "metadata": {
  "kernelspec": {
   "display_name": "Python 3",
   "language": "python",
   "name": "python3"
  },
  "language_info": {
   "codemirror_mode": {
    "name": "ipython",
    "version": 3
   },
   "file_extension": ".py",
   "mimetype": "text/x-python",
   "name": "python",
   "nbconvert_exporter": "python",
   "pygments_lexer": "ipython3",
   "version": "3.8.5"
  }
 },
 "nbformat": 4,
 "nbformat_minor": 5
}

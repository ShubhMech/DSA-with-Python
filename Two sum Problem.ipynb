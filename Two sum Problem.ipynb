{
 "cells": [
  {
   "cell_type": "code",
   "execution_count": 15,
   "id": "10f7cb19-5205-440d-bd29-f5e4a908328d",
   "metadata": {},
   "outputs": [],
   "source": [
    "def twosum(arr,val):\n",
    "    diff= 10**9\n",
    "    if len(arr)==1:\n",
    "        return \n",
    "    elif len(arr)==2:\n",
    "        return list(0,1)\n",
    "    else:\n",
    "        for i in range(len(arr)):\n",
    "            num= arr[i]\n",
    "            \n",
    "            for j in range(i+1,len(arr)):\n",
    "                sum = num+ arr[j]\n",
    "                \n",
    "                if abs(val-sum)< diff:\n",
    "                    diff=val- sum\n",
    "                    list_= [diff,i,j]\n",
    "                    print(i,j,diff,sum)\n",
    "    return list_[1:]\n",
    "                    \n",
    "                "
   ]
  },
  {
   "cell_type": "code",
   "execution_count": 16,
   "id": "e058f5b2-e322-45d9-9580-041d3f424d03",
   "metadata": {},
   "outputs": [
    {
     "name": "stdout",
     "output_type": "stream",
     "text": [
      "0 1 14 3\n",
      "0 2 13 4\n",
      "0 3 12 5\n",
      "0 4 11 6\n",
      "0 5 10 7\n",
      "0 6 9 8\n",
      "0 7 8 9\n",
      "0 8 7 10\n",
      "1 8 6 11\n",
      "2 8 5 12\n",
      "3 8 4 13\n",
      "4 8 3 14\n",
      "5 8 2 15\n",
      "6 8 1 16\n",
      "7 8 0 17\n"
     ]
    },
    {
     "data": {
      "text/plain": [
       "[7, 8]"
      ]
     },
     "execution_count": 16,
     "metadata": {},
     "output_type": "execute_result"
    }
   ],
   "source": [
    "twosum([1,2,3,4,5,6,7,8,9],17)"
   ]
  },
  {
   "cell_type": "code",
   "execution_count": 17,
   "id": "84c9fa76-34d2-4f47-8cb9-8b2219947ec1",
   "metadata": {},
   "outputs": [
    {
     "name": "stdout",
     "output_type": "stream",
     "text": [
      "0 1 4 23\n",
      "0 5 0 27\n"
     ]
    },
    {
     "data": {
      "text/plain": [
       "[0, 5]"
      ]
     },
     "execution_count": 17,
     "metadata": {},
     "output_type": "execute_result"
    }
   ],
   "source": [
    "twosum([11,12,3,24,5,16,7,38,9],27)"
   ]
  },
  {
   "cell_type": "code",
   "execution_count": 18,
   "id": "ad2e8bba-e2d3-4c61-864d-0427c62662ab",
   "metadata": {},
   "outputs": [
    {
     "name": "stdout",
     "output_type": "stream",
     "text": [
      "0 1 14 23\n",
      "0 3 2 35\n",
      "1 3 1 36\n"
     ]
    },
    {
     "data": {
      "text/plain": [
       "[1, 3]"
      ]
     },
     "execution_count": 18,
     "metadata": {},
     "output_type": "execute_result"
    }
   ],
   "source": [
    "twosum([11,12,3,24,5,16,7,38,9],37)"
   ]
  },
  {
   "cell_type": "code",
   "execution_count": null,
   "id": "d032b7f5-24bf-4d2f-86b2-e3dac9c3320e",
   "metadata": {},
   "outputs": [],
   "source": []
  }
 ],
 "metadata": {
  "kernelspec": {
   "display_name": "Python 3",
   "language": "python",
   "name": "python3"
  },
  "language_info": {
   "codemirror_mode": {
    "name": "ipython",
    "version": 3
   },
   "file_extension": ".py",
   "mimetype": "text/x-python",
   "name": "python",
   "nbconvert_exporter": "python",
   "pygments_lexer": "ipython3",
   "version": "3.8.5"
  }
 },
 "nbformat": 4,
 "nbformat_minor": 5
}

{
 "cells": [
  {
   "cell_type": "code",
   "execution_count": 112,
   "id": "d0d67aa9-f996-47f2-9003-56b4cc70dd00",
   "metadata": {},
   "outputs": [],
   "source": [
    "class Heap:\n",
    "    def __init__(self,size):\n",
    "        self.size= size+1\n",
    "        self.heap= [None]*self.size\n",
    "        self.last_index=0\n",
    "        \n",
    "    def peek(self):\n",
    "        if self.last_index !=0:\n",
    "            return self.heap[1]\n",
    "        \n",
    "    def size_of_heap(self):\n",
    "        return self.last_index\n",
    "    \n",
    "    def level_order(self):\n",
    "        for i in range(1,self.last_index):\n",
    "            print(self.heap[i])\n",
    "            \n",
    "    def heapify_insertion(self,heaptype,index):\n",
    "        print(self.heap)\n",
    "        if index <=1:\n",
    "            return\n",
    "        elif index>1 and heaptype==\"Min\":\n",
    "            p_index= index//2\n",
    "            if self.heap[p_index]> self.heap[index]:\n",
    "                self.heap[p_index], self.heap[index]= self.heap[index],self.heap[p_index]\n",
    "            self.heapify_insertion(heaptype,p_index)\n",
    "        elif heaptype==\"Max\":\n",
    "            p_index= index//2\n",
    "            if self.heap[p_index]< self.heap[index]:\n",
    "                self.heap[p_index], self.heap[index]= self.heap[index],self.heap[p_index]\n",
    "            self.heapify_insertion(heaptype,p_index)\n",
    "            \n",
    "    def insert(self,val,heaptype):\n",
    "        if self.last_index +1 == self.size:\n",
    "            return \"Bhak\"\n",
    "        else:\n",
    "            self.heap[self.last_index+1] = val\n",
    "            self.last_index += 1\n",
    "            self.heapify_insertion(heaptype,self.last_index)\n",
    "            \n",
    "    def del_heap(self):\n",
    "        self.heap= [None]*self.size\n",
    "        self.last_index= 0\n",
    "        \n",
    "    \n",
    "    def heap_extract(self,index,heap_type):\n",
    "        if self.size== 0:\n",
    "            return \"bhak\"\n",
    "        else:\n",
    "            node= self.heap[index]\n",
    "            self.heap[index],self.heap[self.last_index]= self.heap[self.last_index], self.heap[index]\n",
    "            self.heap[self.last_index]= None\n",
    "            \n",
    "            self.last_index -= 1\n",
    "        \n",
    "        self.heapifyTreeExtract(1, heap_type)\n",
    "        \n",
    "        return node\n",
    "    \n",
    "    \n",
    "    \n",
    "    \n",
    "    \n",
    "    \n",
    "    \n",
    "    def heapifyTreeExtract(self, index, heaptype):\n",
    "        print(index)\n",
    "        heap_type=heaptype\n",
    "        left= 2*index\n",
    "        right=2*index+1\n",
    "\n",
    "        if self.last_index<left:\n",
    "            return\n",
    "        elif self.last_index==left:\n",
    "            if heap_type==\"Min\":\n",
    "                if self.heap[index] > self.heap[left]:\n",
    "                    temp= self.heap[left]\n",
    "\n",
    "                    self.heap[left]= self.heap[index]\n",
    "                    self.heap[index]= temp\n",
    "                    return\n",
    "            else:\n",
    "                if self.heap[index] < self.heap[left]:\n",
    "                    temp= self.heap[left]\n",
    "\n",
    "                    self.heap[left]= self.heap[index]\n",
    "                    self.heap[index]= temp\n",
    "                    return\n",
    "        else:\n",
    "            if heap_type== \"Min\":\n",
    "\n",
    "                if self.heap[left]< self.heap[right]:\n",
    "                    swap= left\n",
    "\n",
    "                else:\n",
    "                    swap=right\n",
    "\n",
    "                if self.heap[swap]< self.heap[index]:\n",
    "                    temp= self.heap[swap]\n",
    "\n",
    "                    self.heap[swap]= self.heap[index]\n",
    "                    self.heap[index]= temp\n",
    "                    return\n",
    "\n",
    "\n",
    "            else:\n",
    "                if self.heap[left]> self.heap[right]:\n",
    "                    swap= left\n",
    "\n",
    "                else:swap=right\n",
    "\n",
    "                if self.heap[swap]> self.heap[index]:\n",
    "                    temp= self.heap[swap]\n",
    "\n",
    "                    self.heap[swap]= self.heap[index]\n",
    "                    self.heap[index]= temp\n",
    "                    return\n",
    "\n",
    "\n",
    "\n",
    "\n",
    "        self.heapifyTreeExtract(swap, heaptype)\n",
    "\n",
    "    \n",
    "    \n",
    "    \n",
    "    def heap_sort(self,heaptype):\n",
    "        hp =heaptype\n",
    "        self.sorted_list= [None]\n",
    "        print(self.last_index)\n",
    "        while self.last_index >0:\n",
    "            \n",
    "            self.sorted_list.append(self.heap[1])\n",
    "            self.heap[1]=self.heap[self.last_index]\n",
    "            self.last_index -= 1\n",
    "\n",
    "            self.heapifyTreeExtract(1,hp)\n",
    "            \n",
    "        return self.sorted_list\n",
    "    \n",
    "    \n",
    "    \n",
    "    \n",
    "        "
   ]
  },
  {
   "cell_type": "code",
   "execution_count": 136,
   "id": "09d2ce20-bbd2-4cf8-b0a2-15ccdd782c08",
   "metadata": {},
   "outputs": [],
   "source": [
    "h=Heap(10)"
   ]
  },
  {
   "cell_type": "code",
   "execution_count": 137,
   "id": "86d3f1d7-e6bf-4a0b-acbb-04115881fc5c",
   "metadata": {},
   "outputs": [
    {
     "data": {
      "text/plain": [
       "11"
      ]
     },
     "execution_count": 137,
     "metadata": {},
     "output_type": "execute_result"
    }
   ],
   "source": [
    "h.size"
   ]
  },
  {
   "cell_type": "code",
   "execution_count": 138,
   "id": "b162370d-eddb-4359-b0bc-ea49c3976c12",
   "metadata": {},
   "outputs": [
    {
     "data": {
      "text/plain": [
       "[None, None, None, None, None, None, None, None, None, None, None]"
      ]
     },
     "execution_count": 138,
     "metadata": {},
     "output_type": "execute_result"
    }
   ],
   "source": [
    "h.heap"
   ]
  },
  {
   "cell_type": "code",
   "execution_count": 139,
   "id": "f48d6550-b585-4498-bb89-d25a26b3a55a",
   "metadata": {},
   "outputs": [],
   "source": [
    "h.peek()"
   ]
  },
  {
   "cell_type": "code",
   "execution_count": 140,
   "id": "3babbc38-0de6-4bdf-a084-3da551e3064a",
   "metadata": {},
   "outputs": [
    {
     "data": {
      "text/plain": [
       "0"
      ]
     },
     "execution_count": 140,
     "metadata": {},
     "output_type": "execute_result"
    }
   ],
   "source": [
    "h.size_of_heap()"
   ]
  },
  {
   "cell_type": "code",
   "execution_count": 141,
   "id": "1dcf833a-3977-427a-8df3-8853db9246b1",
   "metadata": {},
   "outputs": [],
   "source": [
    "h.level_order()"
   ]
  },
  {
   "cell_type": "code",
   "execution_count": 142,
   "id": "0f7a6e3f-6bdb-4f4d-ba52-678d37214010",
   "metadata": {},
   "outputs": [
    {
     "name": "stdout",
     "output_type": "stream",
     "text": [
      "[None, 5, None, None, None, None, None, None, None, None, None]\n"
     ]
    }
   ],
   "source": [
    "h.insert(5,\"Max\")"
   ]
  },
  {
   "cell_type": "code",
   "execution_count": 143,
   "id": "f4c7fe12-a4dc-4a92-8ed8-782ee4014181",
   "metadata": {},
   "outputs": [
    {
     "data": {
      "text/plain": [
       "1"
      ]
     },
     "execution_count": 143,
     "metadata": {},
     "output_type": "execute_result"
    }
   ],
   "source": [
    "h.size_of_heap()"
   ]
  },
  {
   "cell_type": "code",
   "execution_count": 144,
   "id": "f6d6d29c-d2bd-4ec5-9bea-2b5b2e0044c7",
   "metadata": {},
   "outputs": [
    {
     "data": {
      "text/plain": [
       "[None, 5, None, None, None, None, None, None, None, None, None]"
      ]
     },
     "execution_count": 144,
     "metadata": {},
     "output_type": "execute_result"
    }
   ],
   "source": [
    "h.heap"
   ]
  },
  {
   "cell_type": "code",
   "execution_count": 145,
   "id": "fef8b197-4a29-4e2b-9ccc-b43b90053a2a",
   "metadata": {},
   "outputs": [
    {
     "name": "stdout",
     "output_type": "stream",
     "text": [
      "[None, 5, 4, None, None, None, None, None, None, None, None]\n",
      "[None, 5, 4, None, None, None, None, None, None, None, None]\n"
     ]
    }
   ],
   "source": [
    "h.insert(4,\"Max\")"
   ]
  },
  {
   "cell_type": "code",
   "execution_count": 146,
   "id": "f0fec494-0023-4e35-b0c1-8bd575bc922b",
   "metadata": {},
   "outputs": [
    {
     "data": {
      "text/plain": [
       "[None, 5, 4, None, None, None, None, None, None, None, None]"
      ]
     },
     "execution_count": 146,
     "metadata": {},
     "output_type": "execute_result"
    }
   ],
   "source": [
    "h.heap"
   ]
  },
  {
   "cell_type": "code",
   "execution_count": 147,
   "id": "b48ffa95-8280-46e3-a384-f018f5e248fe",
   "metadata": {},
   "outputs": [
    {
     "name": "stdout",
     "output_type": "stream",
     "text": [
      "[None, 5, 4, 14, None, None, None, None, None, None, None]\n",
      "[None, 14, 4, 5, None, None, None, None, None, None, None]\n"
     ]
    }
   ],
   "source": [
    "h.insert(14,\"Max\")"
   ]
  },
  {
   "cell_type": "code",
   "execution_count": 148,
   "id": "3311ed03-678e-4ea9-916b-ba34cb89d685",
   "metadata": {},
   "outputs": [
    {
     "data": {
      "text/plain": [
       "[None, 14, 4, 5, None, None, None, None, None, None, None]"
      ]
     },
     "execution_count": 148,
     "metadata": {},
     "output_type": "execute_result"
    }
   ],
   "source": [
    "h.heap"
   ]
  },
  {
   "cell_type": "code",
   "execution_count": 149,
   "id": "a95ae5d0-0048-49e9-84e6-5e2e77e60414",
   "metadata": {},
   "outputs": [
    {
     "name": "stdout",
     "output_type": "stream",
     "text": [
      "[None, 14, 4, 5, 25, None, None, None, None, None, None]\n",
      "[None, 14, 25, 5, 4, None, None, None, None, None, None]\n",
      "[None, 25, 14, 5, 4, None, None, None, None, None, None]\n"
     ]
    }
   ],
   "source": [
    "h.insert(25,\"Max\")"
   ]
  },
  {
   "cell_type": "code",
   "execution_count": 150,
   "id": "ab06696f-8974-4462-8217-ad2e83b6fd7a",
   "metadata": {},
   "outputs": [
    {
     "name": "stdout",
     "output_type": "stream",
     "text": [
      "[None, 25, 14, 5, 4, 1, None, None, None, None, None]\n",
      "[None, 25, 14, 5, 4, 1, None, None, None, None, None]\n",
      "[None, 25, 14, 5, 4, 1, None, None, None, None, None]\n"
     ]
    }
   ],
   "source": [
    "h.insert(1,\"Max\")\n"
   ]
  },
  {
   "cell_type": "code",
   "execution_count": 151,
   "id": "4d6a2ca3-799b-44ed-8c18-54f93d2814ba",
   "metadata": {},
   "outputs": [
    {
     "name": "stdout",
     "output_type": "stream",
     "text": [
      "[None, 25, 14, 5, 4, 1, 33, None, None, None, None]\n",
      "[None, 25, 14, 33, 4, 1, 5, None, None, None, None]\n",
      "[None, 33, 14, 25, 4, 1, 5, None, None, None, None]\n"
     ]
    }
   ],
   "source": [
    "h.insert(33,\"Max\")"
   ]
  },
  {
   "cell_type": "code",
   "execution_count": 152,
   "id": "45b6d608-73e3-4795-8965-12a10c50e42b",
   "metadata": {},
   "outputs": [
    {
     "name": "stdout",
     "output_type": "stream",
     "text": [
      "[None, 33, 14, 25, 4, 1, 5, 313, None, None, None]\n",
      "[None, 33, 14, 313, 4, 1, 5, 25, None, None, None]\n",
      "[None, 313, 14, 33, 4, 1, 5, 25, None, None, None]\n"
     ]
    }
   ],
   "source": [
    "h.insert(313,\"Max\")"
   ]
  },
  {
   "cell_type": "code",
   "execution_count": 153,
   "id": "afda5c40-8ab4-46e6-b011-6bb7171463f8",
   "metadata": {},
   "outputs": [
    {
     "name": "stdout",
     "output_type": "stream",
     "text": [
      "[None, 313, 14, 33, 4, 1, 5, 25, 133, None, None]\n",
      "[None, 313, 14, 33, 133, 1, 5, 25, 4, None, None]\n",
      "[None, 313, 133, 33, 14, 1, 5, 25, 4, None, None]\n",
      "[None, 313, 133, 33, 14, 1, 5, 25, 4, None, None]\n"
     ]
    }
   ],
   "source": [
    "h.insert(133,\"Max\")"
   ]
  },
  {
   "cell_type": "code",
   "execution_count": 154,
   "id": "4ce1f1e2-1572-498a-ab5e-989a4a0f6d60",
   "metadata": {},
   "outputs": [
    {
     "name": "stdout",
     "output_type": "stream",
     "text": [
      "[None, 313, 133, 33, 14, 1, 5, 25, 4, 303, None]\n",
      "[None, 313, 133, 33, 303, 1, 5, 25, 4, 14, None]\n",
      "[None, 313, 303, 33, 133, 1, 5, 25, 4, 14, None]\n",
      "[None, 313, 303, 33, 133, 1, 5, 25, 4, 14, None]\n"
     ]
    }
   ],
   "source": [
    "h.insert(303,\"Max\")"
   ]
  },
  {
   "cell_type": "code",
   "execution_count": 155,
   "id": "dc7e0681-787c-4fc8-9b7a-ba5087aebc53",
   "metadata": {},
   "outputs": [
    {
     "name": "stdout",
     "output_type": "stream",
     "text": [
      "[None, 313, 303, 33, 133, 1, 5, 25, 4, 14, 3.3]\n",
      "[None, 313, 303, 33, 133, 3.3, 5, 25, 4, 14, 1]\n",
      "[None, 313, 303, 33, 133, 3.3, 5, 25, 4, 14, 1]\n",
      "[None, 313, 303, 33, 133, 3.3, 5, 25, 4, 14, 1]\n"
     ]
    }
   ],
   "source": [
    "h.insert(3.3,\"Max\")"
   ]
  },
  {
   "cell_type": "code",
   "execution_count": 159,
   "id": "dfb3760f-5d1d-4229-ad5b-db0104effff0",
   "metadata": {},
   "outputs": [
    {
     "name": "stdout",
     "output_type": "stream",
     "text": [
      "9\n",
      "1\n",
      "1\n",
      "1\n",
      "2\n",
      "5\n",
      "1\n",
      "1\n",
      "1\n",
      "1\n",
      "1\n",
      "1\n"
     ]
    },
    {
     "data": {
      "text/plain": [
       "[None, 313, 303, 33, 25, 14, 5, 4, 3.3, 1]"
      ]
     },
     "execution_count": 159,
     "metadata": {},
     "output_type": "execute_result"
    }
   ],
   "source": [
    "h.heap_sort(\"Max\")"
   ]
  },
  {
   "cell_type": "code",
   "execution_count": 157,
   "id": "e77904a1-3906-4db7-b3b7-47dc96e11036",
   "metadata": {},
   "outputs": [
    {
     "name": "stdout",
     "output_type": "stream",
     "text": [
      "1\n",
      "2\n",
      "5\n"
     ]
    },
    {
     "data": {
      "text/plain": [
       "133"
      ]
     },
     "execution_count": 157,
     "metadata": {},
     "output_type": "execute_result"
    }
   ],
   "source": [
    "h.heap_extract(4,\"Max\")"
   ]
  },
  {
   "cell_type": "code",
   "execution_count": 158,
   "id": "246b68a6-e996-4ad5-8e64-b16b30569fbe",
   "metadata": {},
   "outputs": [
    {
     "data": {
      "text/plain": [
       "[None, 313, 303, 33, 1, 3.3, 5, 25, 4, 14, None]"
      ]
     },
     "execution_count": 158,
     "metadata": {},
     "output_type": "execute_result"
    }
   ],
   "source": [
    "h.heap"
   ]
  },
  {
   "cell_type": "code",
   "execution_count": null,
   "id": "84b20d8c-b022-42d3-9b48-bb991ff8bbdd",
   "metadata": {},
   "outputs": [],
   "source": []
  },
  {
   "cell_type": "code",
   "execution_count": null,
   "id": "b1c53413-ca00-4eb2-9a25-40270bcd7a3f",
   "metadata": {},
   "outputs": [],
   "source": []
  },
  {
   "cell_type": "code",
   "execution_count": null,
   "id": "a9f1b569-305e-47ce-b3cd-b53b860fbdf7",
   "metadata": {},
   "outputs": [],
   "source": []
  },
  {
   "cell_type": "code",
   "execution_count": null,
   "id": "6e1d1a76-e2e7-477f-8e3a-7ea6cc775176",
   "metadata": {},
   "outputs": [],
   "source": []
  }
 ],
 "metadata": {
  "kernelspec": {
   "display_name": "Python 3",
   "language": "python",
   "name": "python3"
  },
  "language_info": {
   "codemirror_mode": {
    "name": "ipython",
    "version": 3
   },
   "file_extension": ".py",
   "mimetype": "text/x-python",
   "name": "python",
   "nbconvert_exporter": "python",
   "pygments_lexer": "ipython3",
   "version": "3.8.5"
  }
 },
 "nbformat": 4,
 "nbformat_minor": 5
}

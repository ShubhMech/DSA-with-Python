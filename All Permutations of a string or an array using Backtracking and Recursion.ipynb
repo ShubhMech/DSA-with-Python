{
 "cells": [
  {
   "cell_type": "code",
   "execution_count": 43,
   "id": "5fd349df",
   "metadata": {},
   "outputs": [],
   "source": [
    "arr= [\"a\",\"b\",\"c\",\"d\",\"e\",\"f\"]"
   ]
  },
  {
   "cell_type": "code",
   "execution_count": 44,
   "id": "8885e618",
   "metadata": {},
   "outputs": [
    {
     "data": {
      "text/plain": [
       "['a', 'b', 'c', 'd', 'e', 'f']"
      ]
     },
     "execution_count": 44,
     "metadata": {},
     "output_type": "execute_result"
    }
   ],
   "source": [
    "arr"
   ]
  },
  {
   "cell_type": "code",
   "execution_count": 45,
   "id": "e61358d2",
   "metadata": {},
   "outputs": [],
   "source": [
    "pattern = []"
   ]
  },
  {
   "cell_type": "code",
   "execution_count": 46,
   "id": "2c980d2f",
   "metadata": {},
   "outputs": [],
   "source": [
    "def backtracking(arr,index):\n",
    "    print(index)\n",
    "    if index == len(arr):\n",
    "        print(\"\".join(arr), len(arr))\n",
    "        return\n",
    "    elif index < len(arr):\n",
    "        arr.insert(index,\" \")\n",
    "#         print (arr)\n",
    "        backtracking(arr,index+2)\n",
    "        \n",
    "        arr.pop(index)\n",
    "        backtracking(arr,index+1)"
   ]
  },
  {
   "cell_type": "code",
   "execution_count": 47,
   "id": "5dd4c58c",
   "metadata": {},
   "outputs": [
    {
     "name": "stdout",
     "output_type": "stream",
     "text": [
      "1\n",
      "3\n",
      "5\n",
      "7\n",
      "9\n",
      "11\n",
      "a b c d e f 11\n",
      "10\n",
      "a b c d ef 10\n",
      "8\n",
      "10\n",
      "a b c de f 10\n",
      "9\n",
      "a b c def 9\n",
      "6\n",
      "8\n",
      "10\n",
      "a b cd e f 10\n",
      "9\n",
      "a b cd ef 9\n",
      "7\n",
      "9\n",
      "a b cde f 9\n",
      "8\n",
      "a b cdef 8\n",
      "4\n",
      "6\n",
      "8\n",
      "10\n",
      "a bc d e f 10\n",
      "9\n",
      "a bc d ef 9\n",
      "7\n",
      "9\n",
      "a bc de f 9\n",
      "8\n",
      "a bc def 8\n",
      "5\n",
      "7\n",
      "9\n",
      "a bcd e f 9\n",
      "8\n",
      "a bcd ef 8\n",
      "6\n",
      "8\n",
      "a bcde f 8\n",
      "7\n",
      "a bcdef 7\n",
      "2\n",
      "4\n",
      "6\n",
      "8\n",
      "10\n",
      "ab c d e f 10\n",
      "9\n",
      "ab c d ef 9\n",
      "7\n",
      "9\n",
      "ab c de f 9\n",
      "8\n",
      "ab c def 8\n",
      "5\n",
      "7\n",
      "9\n",
      "ab cd e f 9\n",
      "8\n",
      "ab cd ef 8\n",
      "6\n",
      "8\n",
      "ab cde f 8\n",
      "7\n",
      "ab cdef 7\n",
      "3\n",
      "5\n",
      "7\n",
      "9\n",
      "abc d e f 9\n",
      "8\n",
      "abc d ef 8\n",
      "6\n",
      "8\n",
      "abc de f 8\n",
      "7\n",
      "abc def 7\n",
      "4\n",
      "6\n",
      "8\n",
      "abcd e f 8\n",
      "7\n",
      "abcd ef 7\n",
      "5\n",
      "7\n",
      "abcde f 7\n",
      "6\n",
      "abcdef 6\n"
     ]
    }
   ],
   "source": [
    "backtracking(arr, 1)"
   ]
  },
  {
   "cell_type": "code",
   "execution_count": 48,
   "id": "bd3dc003",
   "metadata": {},
   "outputs": [
    {
     "data": {
      "text/plain": [
       "6"
      ]
     },
     "execution_count": 48,
     "metadata": {},
     "output_type": "execute_result"
    }
   ],
   "source": [
    "len(arr)"
   ]
  },
  {
   "cell_type": "code",
   "execution_count": 49,
   "id": "ecce5694",
   "metadata": {},
   "outputs": [
    {
     "data": {
      "text/plain": [
       "['a', 'b', 'c', 'd', 'e', 'f']"
      ]
     },
     "execution_count": 49,
     "metadata": {},
     "output_type": "execute_result"
    }
   ],
   "source": [
    "arr"
   ]
  },
  {
   "cell_type": "code",
   "execution_count": null,
   "id": "7e818b08",
   "metadata": {},
   "outputs": [],
   "source": []
  }
 ],
 "metadata": {
  "kernelspec": {
   "display_name": "Python 3",
   "language": "python",
   "name": "python3"
  },
  "language_info": {
   "codemirror_mode": {
    "name": "ipython",
    "version": 3
   },
   "file_extension": ".py",
   "mimetype": "text/x-python",
   "name": "python",
   "nbconvert_exporter": "python",
   "pygments_lexer": "ipython3",
   "version": "3.8.5"
  }
 },
 "nbformat": 4,
 "nbformat_minor": 5
}

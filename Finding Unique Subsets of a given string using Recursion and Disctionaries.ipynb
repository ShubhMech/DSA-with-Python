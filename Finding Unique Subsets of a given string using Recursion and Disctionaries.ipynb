{
 "cells": [
  {
   "cell_type": "code",
   "execution_count": 185,
   "id": "63f1a142",
   "metadata": {},
   "outputs": [],
   "source": [
    "arr=[\"a\",\"e\",\"e\"]\n",
    "dict1 = {}"
   ]
  },
  {
   "cell_type": "code",
   "execution_count": 186,
   "id": "61812f77",
   "metadata": {},
   "outputs": [],
   "source": [
    "def subsets(arr,index=0,subs=[]):\n",
    "    global dict1\n",
    "    if index < len(arr):\n",
    "        subs.append(arr[index])\n",
    "        subsets(arr,index+1,subs)\n",
    "        subs.pop()\n",
    "        subsets(arr,index+1,subs)\n",
    "    else: \n",
    "        print(subs)\n",
    "        if tuple(subs) in dict1:\n",
    "            dict1[tuple(subs)] +=1\n",
    "        else:\n",
    "            dict1[tuple(subs)] = 1"
   ]
  },
  {
   "cell_type": "code",
   "execution_count": 187,
   "id": "4a367aa8",
   "metadata": {},
   "outputs": [
    {
     "name": "stdout",
     "output_type": "stream",
     "text": [
      "['a', 'e', 'e']\n",
      "['a', 'e']\n",
      "['a', 'e']\n",
      "['a']\n",
      "['e', 'e']\n",
      "['e']\n",
      "['e']\n",
      "[]\n"
     ]
    }
   ],
   "source": [
    "subsets(arr)"
   ]
  },
  {
   "cell_type": "code",
   "execution_count": 188,
   "id": "58e7ed8c",
   "metadata": {},
   "outputs": [
    {
     "data": {
      "text/plain": [
       "{('a', 'e', 'e'): 1, ('a', 'e'): 2, ('a',): 1, ('e', 'e'): 1, ('e',): 2, (): 1}"
      ]
     },
     "execution_count": 188,
     "metadata": {},
     "output_type": "execute_result"
    }
   ],
   "source": [
    "dict1"
   ]
  },
  {
   "cell_type": "code",
   "execution_count": 190,
   "id": "c1cda5b8",
   "metadata": {},
   "outputs": [
    {
     "name": "stdout",
     "output_type": "stream",
     "text": [
      "['a', 'e', 'e']\n",
      "['a', 'e']\n",
      "['a']\n",
      "['e', 'e']\n",
      "['e']\n",
      "[]\n"
     ]
    }
   ],
   "source": [
    "for i in dict1:\n",
    "    print (list(i))"
   ]
  },
  {
   "cell_type": "code",
   "execution_count": 191,
   "id": "f3fab097",
   "metadata": {},
   "outputs": [
    {
     "name": "stdout",
     "output_type": "stream",
     "text": [
      "['a', 'e']\n",
      "['e']\n"
     ]
    }
   ],
   "source": [
    "for i in dict1:\n",
    "    if dict1[i]>1:\n",
    "        print (list(i))"
   ]
  },
  {
   "cell_type": "code",
   "execution_count": null,
   "id": "68ab31eb",
   "metadata": {},
   "outputs": [],
   "source": []
  }
 ],
 "metadata": {
  "kernelspec": {
   "display_name": "Python 3",
   "language": "python",
   "name": "python3"
  },
  "language_info": {
   "codemirror_mode": {
    "name": "ipython",
    "version": 3
   },
   "file_extension": ".py",
   "mimetype": "text/x-python",
   "name": "python",
   "nbconvert_exporter": "python",
   "pygments_lexer": "ipython3",
   "version": "3.8.5"
  }
 },
 "nbformat": 4,
 "nbformat_minor": 5
}

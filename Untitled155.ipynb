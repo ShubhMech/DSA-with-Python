{
 "cells": [
  {
   "cell_type": "code",
   "execution_count": 6,
   "id": "9c6d9290",
   "metadata": {},
   "outputs": [
    {
     "name": "stdout",
     "output_type": "stream",
     "text": [
      "10 pushed to stack \n",
      "20 pushed to stack \n",
      "30 pushed to stack \n",
      "30 popped from stack\n",
      "130 pushed to stack \n",
      "320 pushed to stack \n",
      "330 pushed to stack \n",
      "320 pushed to stack \n",
      "310 pushed to stack \n",
      "1130 pushed to stack \n",
      "3330 pushed to stack \n"
     ]
    }
   ],
   "source": [
    "# Python program for implementation of stack\n",
    "\n",
    "# import maxsize from sys module\n",
    "# Used to return -infinite when stack is empty\n",
    "from sys import maxsize\n",
    "\n",
    "# Function to create a stack. It initializes size of stack as 0\n",
    "def createStack():\n",
    "\tglobal stack\n",
    "\tstack = []\n",
    "\treturn stack\n",
    "\n",
    "# Stack is empty when stack size is 0\n",
    "def isEmpty(stack):\n",
    "\treturn len(stack) == 0\n",
    "\n",
    "# Function to add an item to stack. It increases size by 1\n",
    "def push(stack, item):\n",
    "\tstack.append(item)\n",
    "\tprint(item + \" pushed to stack \")\n",
    "\t\n",
    "# Function to remove an item from stack. It decreases size by 1\n",
    "def pop(stack):\n",
    "\tif (isEmpty(stack)):\n",
    "\t\treturn str(-maxsize -1) # return minus infinite\n",
    "\t\n",
    "\treturn stack.pop()\n",
    "\n",
    "# Function to return the top from stack without removing it\n",
    "def peek(stack):\n",
    "\tif (isEmpty(stack)):\n",
    "\t\treturn str(-maxsize -1) # return minus infinite\n",
    "\treturn stack[len(stack) - 1]\n",
    "\n",
    "# Driver program to test above functions\t\n",
    "stack = createStack()\n",
    "push(stack, str(10))\n",
    "push(stack, str(20))\n",
    "push(stack, str(30))\n",
    "print(pop(stack) + \" popped from stack\")\n",
    "push(stack, str(130))\n",
    "push(stack, str(320))\n",
    "push(stack, str(330))\n",
    "push(stack, str(320))\n",
    "push(stack, str(310))\n",
    "push(stack, str(1130))\n",
    "push(stack, str(3330))\n"
   ]
  },
  {
   "cell_type": "code",
   "execution_count": 7,
   "id": "328fa5c2",
   "metadata": {},
   "outputs": [
    {
     "data": {
      "text/plain": [
       "['10', '20', '130', '320', '330', '320', '310', '1130', '3330']"
      ]
     },
     "execution_count": 7,
     "metadata": {},
     "output_type": "execute_result"
    }
   ],
   "source": [
    "stack"
   ]
  },
  {
   "cell_type": "code",
   "execution_count": 55,
   "id": "87a32cfe",
   "metadata": {},
   "outputs": [],
   "source": [
    "def join(arr,val,size,index=0):\n",
    "    if index < size:\n",
    "        \n",
    "        if val> arr[index]:\n",
    "            join(arr,val,size,index+1)\n",
    "\n",
    "        else:\n",
    "            arr.insert(index,val)\n",
    "            return\n",
    "    else:\n",
    "        arr.insert(size,val)"
   ]
  },
  {
   "cell_type": "code",
   "execution_count": 56,
   "id": "7517632c",
   "metadata": {},
   "outputs": [],
   "source": [
    "def recur(arr):\n",
    "    if len(arr)>=2:\n",
    "        val = arr.pop()\n",
    "        recur(arr)\n",
    "        join(arr,val,len(arr))\n",
    "        \n",
    "        "
   ]
  },
  {
   "cell_type": "code",
   "execution_count": 60,
   "id": "0b6f9cbf",
   "metadata": {},
   "outputs": [],
   "source": [
    "arr=[11,4,3,2,5,6,7,8,5,4,87]"
   ]
  },
  {
   "cell_type": "code",
   "execution_count": 61,
   "id": "8c5fa409",
   "metadata": {},
   "outputs": [],
   "source": [
    "recur(arr)"
   ]
  },
  {
   "cell_type": "code",
   "execution_count": 62,
   "id": "c4b50e8e",
   "metadata": {},
   "outputs": [
    {
     "data": {
      "text/plain": [
       "[2, 3, 4, 4, 5, 5, 6, 7, 8, 11, 87]"
      ]
     },
     "execution_count": 62,
     "metadata": {},
     "output_type": "execute_result"
    }
   ],
   "source": [
    "arr"
   ]
  },
  {
   "cell_type": "code",
   "execution_count": null,
   "id": "d89d88b8",
   "metadata": {},
   "outputs": [],
   "source": []
  },
  {
   "cell_type": "code",
   "execution_count": null,
   "id": "12dcaa37",
   "metadata": {},
   "outputs": [],
   "source": []
  }
 ],
 "metadata": {
  "kernelspec": {
   "display_name": "Python 3",
   "language": "python",
   "name": "python3"
  },
  "language_info": {
   "codemirror_mode": {
    "name": "ipython",
    "version": 3
   },
   "file_extension": ".py",
   "mimetype": "text/x-python",
   "name": "python",
   "nbconvert_exporter": "python",
   "pygments_lexer": "ipython3",
   "version": "3.8.5"
  }
 },
 "nbformat": 4,
 "nbformat_minor": 5
}

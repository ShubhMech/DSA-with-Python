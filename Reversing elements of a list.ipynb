{
 "cells": [
  {
   "cell_type": "code",
   "execution_count": 13,
   "id": "35c97b71-1202-43de-80c1-6aea60d7022d",
   "metadata": {},
   "outputs": [],
   "source": [
    "def reverse_array(arr):\n",
    "    arr_rev=[None]*len(arr)\n",
    "    for i in range(0,len(arr)):\n",
    "        arr_rev[i]= arr[len(arr)-i-1]\n",
    "        \n",
    "    return arr_rev"
   ]
  },
  {
   "cell_type": "code",
   "execution_count": 14,
   "id": "4d4c87fb-cf26-4432-950c-47747eccab83",
   "metadata": {},
   "outputs": [
    {
     "data": {
      "text/plain": [
       "[5, 4, 3, 2, 1]"
      ]
     },
     "execution_count": 14,
     "metadata": {},
     "output_type": "execute_result"
    }
   ],
   "source": [
    "from array import *\n",
    "arr1= array('i', [1,2,3,4,5])\n",
    "reverse_array(arr1)"
   ]
  },
  {
   "cell_type": "code",
   "execution_count": 15,
   "id": "2e44e276-6fdb-4ec2-aaf6-398318a1f452",
   "metadata": {},
   "outputs": [
    {
     "data": {
      "text/plain": [
       "array('i', [1, 2, 3, 4, 5])"
      ]
     },
     "execution_count": 15,
     "metadata": {},
     "output_type": "execute_result"
    }
   ],
   "source": [
    "arr1"
   ]
  },
  {
   "cell_type": "code",
   "execution_count": null,
   "id": "7d001175-6419-48a7-99ab-6ef532bea651",
   "metadata": {},
   "outputs": [],
   "source": []
  },
  {
   "cell_type": "code",
   "execution_count": null,
   "id": "54be797e-5154-412d-ae30-1c01bcefb4ca",
   "metadata": {},
   "outputs": [],
   "source": []
  },
  {
   "cell_type": "code",
   "execution_count": 16,
   "id": "16c994e3-4c93-4dee-aa5f-586c90b59497",
   "metadata": {},
   "outputs": [],
   "source": [
    "start = 0\n",
    "end = len(arr)-1\n",
    "def arr_rev(arr):\n",
    "    global start, end\n",
    "    if start>=end:\n",
    "        return arr\n",
    "    else:\n",
    "        arr[end],arr[start]= arr[start],arr[end]\n",
    "        start += 1\n",
    "        end -= 1\n",
    "        \n",
    "        print(start, end)\n",
    "        arr_rev(arr)\n",
    "        "
   ]
  },
  {
   "cell_type": "code",
   "execution_count": 17,
   "id": "87b5295a-9edf-42e4-b723-307bc4e6cdee",
   "metadata": {},
   "outputs": [],
   "source": [
    "# arr_rev(arr)"
   ]
  },
  {
   "cell_type": "code",
   "execution_count": 18,
   "id": "0ee7e831-4799-41a0-8313-dc6deb65da76",
   "metadata": {},
   "outputs": [],
   "source": [
    "# arr"
   ]
  },
  {
   "cell_type": "code",
   "execution_count": 19,
   "id": "ada75ebf-aa3f-4a8a-a14f-3657fd71ff71",
   "metadata": {},
   "outputs": [],
   "source": [
    "arr=array('i',[1,2,3,4,5,6])"
   ]
  },
  {
   "cell_type": "code",
   "execution_count": 20,
   "id": "46205052-3e49-4901-bb42-9cc5033f289f",
   "metadata": {},
   "outputs": [
    {
     "name": "stdout",
     "output_type": "stream",
     "text": [
      "1 4\n",
      "2 3\n",
      "3 2\n"
     ]
    }
   ],
   "source": [
    "arr_rev(arr)"
   ]
  },
  {
   "cell_type": "code",
   "execution_count": 21,
   "id": "5f1a9d05-f3be-458d-8b69-381cf08e3a56",
   "metadata": {},
   "outputs": [
    {
     "data": {
      "text/plain": [
       "array('i', [6, 5, 4, 3, 2, 1])"
      ]
     },
     "execution_count": 21,
     "metadata": {},
     "output_type": "execute_result"
    }
   ],
   "source": [
    "arr"
   ]
  },
  {
   "cell_type": "code",
   "execution_count": null,
   "id": "613224cf-9c07-45ea-be3b-0e14228de593",
   "metadata": {},
   "outputs": [],
   "source": []
  }
 ],
 "metadata": {
  "kernelspec": {
   "display_name": "Python 3",
   "language": "python",
   "name": "python3"
  },
  "language_info": {
   "codemirror_mode": {
    "name": "ipython",
    "version": 3
   },
   "file_extension": ".py",
   "mimetype": "text/x-python",
   "name": "python",
   "nbconvert_exporter": "python",
   "pygments_lexer": "ipython3",
   "version": "3.8.5"
  }
 },
 "nbformat": 4,
 "nbformat_minor": 5
}

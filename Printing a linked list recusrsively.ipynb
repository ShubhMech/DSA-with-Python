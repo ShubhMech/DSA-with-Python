{
 "cells": [
  {
   "cell_type": "code",
   "execution_count": 314,
   "id": "686b26d0-c15b-41d3-b5da-3e5e74298712",
   "metadata": {},
   "outputs": [],
   "source": [
    "class Node:\n",
    "    def __init__(self, new_data):\n",
    "        self.data = new_data\n",
    "        self.next = None\n",
    "     \n",
    "class LinkedList:\n",
    "    def __init__(self):\n",
    "        self.head = None\n",
    " \n",
    "    # createNode and make linked list\n",
    "    def push(self, new_data):\n",
    "        new_node = Node(new_data)\n",
    "        new_node.next = self.head\n",
    "        self.head = new_node\n",
    " \n",
    "    # Function to get the nth node from\n",
    "    # the last of a linked list\n",
    "    def afunc(self,f=3):\n",
    "        if self.head== None:\n",
    "            print(\"Bhak bc\")\n",
    "        else:\n",
    "            temp= self.head\n",
    "            c=0\n",
    "            while temp.next:\n",
    "                c +=1 \n",
    "                print(\"Inside\", temp.next.data ,c)\n",
    "                temp= temp.next\n",
    "            if temp.next==None and c ==f:\n",
    "                print(self.head.data)\n",
    "                return self.head\n",
    "            else:\n",
    "#             print(temp.data, temp.next)\n",
    "                temp= self.head\n",
    "                while(temp.next):\n",
    "                    temp,temp1= temp.next, temp.next\n",
    "                    count= 0\n",
    "    #                 temp1= temp\n",
    "    #                 if temp1:\n",
    "    #                     count +=1\n",
    "                    while (temp1):\n",
    "                        temp1= temp1.next\n",
    "                        count+=1\n",
    "                        print(\"hahaha\")\n",
    "                        print(temp.data,count)\n",
    "                    if temp1==None and count-1 ==f:\n",
    "                        return temp\n",
    "                    \n",
    "    def afunc1(self,g=45):\n",
    "        if self.head== None:\n",
    "            print(\"Bhak bc\")\n",
    "        else:\n",
    "            node1= Node(g)\n",
    "            temp= self.head.data\n",
    "            if g<temp:\n",
    "                print(\"Here\")\n",
    "                node1.next= self.head\n",
    "                self.head= node1\n",
    "            else:\n",
    "                while temp.next:\n",
    "                    if g<temp.next:\n",
    "                        \n",
    "                        node1.next= temp.next\n",
    "                        temp.next= node1\n",
    "                        \n",
    "                        \n",
    "    def afunc2(self,temp):\n",
    "#         temp= self.head\n",
    "        if temp== None:\n",
    "            return\n",
    "        else:\n",
    "            temp= temp.next\n",
    "            self.afunc2(temp)\n",
    "            if temp is not None:\n",
    "                print(temp.data)\n",
    "                        \n",
    "                    \n",
    "                        "
   ]
  },
  {
   "cell_type": "code",
   "execution_count": 315,
   "id": "c34480b8-0594-4ea2-a362-ab41b7fe7c16",
   "metadata": {},
   "outputs": [],
   "source": [
    "llist = LinkedList()\n",
    "# llist.push(20)\n",
    "# llist.push(4)\n",
    "# llist.push(15)\n",
    "# llist.push(0.35)\n",
    "# llist.printNthFromLast(4)"
   ]
  },
  {
   "cell_type": "code",
   "execution_count": 316,
   "id": "fa110075-0e45-430f-8773-67a90836d691",
   "metadata": {},
   "outputs": [],
   "source": [
    "llist.push(535)\n",
    "llist.push(435)\n",
    "llist.push(335)\n",
    "llist.push(235)\n",
    "llist.push(135)"
   ]
  },
  {
   "cell_type": "code",
   "execution_count": 317,
   "id": "49affbb2-4e26-4231-9507-0a67e4e4eabc",
   "metadata": {},
   "outputs": [
    {
     "name": "stdout",
     "output_type": "stream",
     "text": [
      "Inside 235 1\n",
      "Inside 335 2\n",
      "Inside 435 3\n",
      "Inside 535 4\n",
      "hahaha\n",
      "235 1\n",
      "hahaha\n",
      "235 2\n",
      "hahaha\n",
      "235 3\n",
      "hahaha\n",
      "235 4\n"
     ]
    }
   ],
   "source": [
    "dd=llist.afunc(3)"
   ]
  },
  {
   "cell_type": "code",
   "execution_count": 318,
   "id": "7299047e-3278-4a55-a023-cbda48be39d4",
   "metadata": {},
   "outputs": [
    {
     "data": {
      "text/plain": [
       "235"
      ]
     },
     "execution_count": 318,
     "metadata": {},
     "output_type": "execute_result"
    }
   ],
   "source": [
    "dd.data"
   ]
  },
  {
   "cell_type": "code",
   "execution_count": 319,
   "id": "0b1634d7-ee45-43a4-9f02-232fab570d0f",
   "metadata": {},
   "outputs": [
    {
     "name": "stdout",
     "output_type": "stream",
     "text": [
      "Here\n"
     ]
    }
   ],
   "source": [
    "llist.afunc1()"
   ]
  },
  {
   "cell_type": "code",
   "execution_count": 320,
   "id": "d71a2fee-b928-42ff-a1e5-96979718fe8c",
   "metadata": {},
   "outputs": [
    {
     "data": {
      "text/plain": [
       "235"
      ]
     },
     "execution_count": 320,
     "metadata": {},
     "output_type": "execute_result"
    }
   ],
   "source": [
    "llist.head.next.next.data"
   ]
  },
  {
   "cell_type": "code",
   "execution_count": 321,
   "id": "cc21d16c-6135-438b-b071-87027a5eed59",
   "metadata": {},
   "outputs": [
    {
     "name": "stdout",
     "output_type": "stream",
     "text": [
      "535\n",
      "435\n",
      "335\n",
      "235\n",
      "135\n"
     ]
    }
   ],
   "source": [
    "llist.afunc2(llist.head)"
   ]
  },
  {
   "cell_type": "code",
   "execution_count": null,
   "id": "cf517ed6-4fd0-4d37-bada-810444a3f307",
   "metadata": {},
   "outputs": [],
   "source": []
  },
  {
   "cell_type": "code",
   "execution_count": null,
   "id": "179b44f4-5872-4404-a533-cff07364a0cf",
   "metadata": {},
   "outputs": [],
   "source": []
  }
 ],
 "metadata": {
  "kernelspec": {
   "display_name": "Python 3",
   "language": "python",
   "name": "python3"
  },
  "language_info": {
   "codemirror_mode": {
    "name": "ipython",
    "version": 3
   },
   "file_extension": ".py",
   "mimetype": "text/x-python",
   "name": "python",
   "nbconvert_exporter": "python",
   "pygments_lexer": "ipython3",
   "version": "3.8.5"
  }
 },
 "nbformat": 4,
 "nbformat_minor": 5
}

{
 "cells": [
  {
   "cell_type": "code",
   "execution_count": 3,
   "id": "4d0a8d1b-0248-4bba-b42f-05ec6cbe1477",
   "metadata": {},
   "outputs": [],
   "source": [
    "class BinarySearchTreeNode:\n",
    "    def __init__(self,val=None):\n",
    "        self.val= val\n",
    "        self.left= None\n",
    "        self.right=None"
   ]
  },
  {
   "cell_type": "code",
   "execution_count": 5,
   "id": "f4869ab0-f42a-40a1-b12a-2612d54baeca",
   "metadata": {},
   "outputs": [],
   "source": [
    "root= BinarySearchTreeNode()"
   ]
  },
  {
   "cell_type": "code",
   "execution_count": 4,
   "id": "8c11ce92-85c8-4fe6-a979-a3b928038af1",
   "metadata": {},
   "outputs": [],
   "source": [
    "def insert_node(root,val):\n",
    "    if root.val==None:\n",
    "        root.val= val\n",
    "    else:\n",
    "        if root.val<= val:\n",
    "            if root.left is not None:\n",
    "                insert_node(root.left,val)\n",
    "            else:\n",
    "                root.left= BinarySearchTreeNode(val)\n",
    "        else:\n",
    "            if root.right is not None:               \n",
    "                insert_node(root.right,val)\n",
    "            else:\n",
    "                root.right= BinarySearchTreeNode(val)\n",
    "            \n",
    "            "
   ]
  },
  {
   "cell_type": "code",
   "execution_count": 6,
   "id": "2de2eadd-47c7-409a-aa84-d83a3bd4bfdd",
   "metadata": {},
   "outputs": [],
   "source": [
    "insert_node(root,5)"
   ]
  },
  {
   "cell_type": "code",
   "execution_count": 7,
   "id": "97d7e1ad-3fb2-4d47-8e60-8cad270ee43c",
   "metadata": {},
   "outputs": [
    {
     "data": {
      "text/plain": [
       "5"
      ]
     },
     "execution_count": 7,
     "metadata": {},
     "output_type": "execute_result"
    }
   ],
   "source": [
    "root.val"
   ]
  },
  {
   "cell_type": "code",
   "execution_count": 8,
   "id": "43f19464-1285-4633-b87e-b3d0e02678c8",
   "metadata": {},
   "outputs": [],
   "source": [
    "root.left"
   ]
  },
  {
   "cell_type": "code",
   "execution_count": null,
   "id": "89e57fc1-3a41-4890-9f74-77a4dde63746",
   "metadata": {},
   "outputs": [],
   "source": [
    "\n"
   ]
  }
 ],
 "metadata": {
  "kernelspec": {
   "display_name": "Python 3",
   "language": "python",
   "name": "python3"
  },
  "language_info": {
   "codemirror_mode": {
    "name": "ipython",
    "version": 3
   },
   "file_extension": ".py",
   "mimetype": "text/x-python",
   "name": "python",
   "nbconvert_exporter": "python",
   "pygments_lexer": "ipython3",
   "version": "3.8.5"
  }
 },
 "nbformat": 4,
 "nbformat_minor": 5
}

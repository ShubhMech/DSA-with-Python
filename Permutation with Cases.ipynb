{
 "cells": [
  {
   "cell_type": "code",
   "execution_count": 1,
   "id": "039ca401",
   "metadata": {},
   "outputs": [],
   "source": [
    "arr= [\"a\",\"b\"]"
   ]
  },
  {
   "cell_type": "code",
   "execution_count": 2,
   "id": "cd46bcab",
   "metadata": {},
   "outputs": [
    {
     "data": {
      "text/plain": [
       "['a', 'b']"
      ]
     },
     "execution_count": 2,
     "metadata": {},
     "output_type": "execute_result"
    }
   ],
   "source": [
    "arr"
   ]
  },
  {
   "cell_type": "code",
   "execution_count": 3,
   "id": "db044d95",
   "metadata": {},
   "outputs": [],
   "source": [
    "pattern = []"
   ]
  },
  {
   "cell_type": "code",
   "execution_count": 115,
   "id": "e085c86d",
   "metadata": {},
   "outputs": [],
   "source": [
    "# def backtracking(arr,index):\n",
    "#     print(index)\n",
    "#     if index == len(arr):\n",
    "#         print(\"\".join(arr), len(arr))\n",
    "#         return\n",
    "#     elif index < len(arr):\n",
    "#         arr.insert(index,\" \")\n",
    "# #         print (arr)\n",
    "#         backtracking(arr,index+2)\n",
    "        \n",
    "#         arr.pop(index)\n",
    "#         backtracking(arr,index+1)"
   ]
  },
  {
   "cell_type": "code",
   "execution_count": 116,
   "id": "703a873f",
   "metadata": {},
   "outputs": [],
   "source": [
    "# backtracking(arr, 1)"
   ]
  },
  {
   "cell_type": "code",
   "execution_count": 117,
   "id": "e7214928",
   "metadata": {},
   "outputs": [
    {
     "data": {
      "text/plain": [
       "3"
      ]
     },
     "execution_count": 117,
     "metadata": {},
     "output_type": "execute_result"
    }
   ],
   "source": [
    "len(arr)"
   ]
  },
  {
   "cell_type": "code",
   "execution_count": 123,
   "id": "c8e2228d",
   "metadata": {},
   "outputs": [],
   "source": [
    "arr = [\"a\",\"b\",\"c\",\"d\",\"e\",\"f\"]"
   ]
  },
  {
   "cell_type": "code",
   "execution_count": 124,
   "id": "fcde6225",
   "metadata": {},
   "outputs": [],
   "source": [
    "# def backtrack(arr,index,ans):\n",
    "    \n",
    "#     if index < len(arr):\n",
    "#         ans.append(arr[index])\n",
    "#         backtrack(arr,index+1,ans)\n",
    "        \n",
    "#         ans[index] = (arr[index].upper())\n",
    "#         backtrack(arr,index+1,ans)\n",
    "        \n",
    "        \n",
    "    \n",
    "    \n",
    "\n",
    "    \n",
    "#     else:\n",
    "#         print(arr)\n",
    "#         return\n",
    "    "
   ]
  },
  {
   "cell_type": "code",
   "execution_count": 125,
   "id": "77757cfd",
   "metadata": {},
   "outputs": [],
   "source": [
    "# \"s\".upper()"
   ]
  },
  {
   "cell_type": "code",
   "execution_count": 126,
   "id": "4bc6d2e0",
   "metadata": {},
   "outputs": [],
   "source": [
    "# backtrack(arr,0,[])"
   ]
  },
  {
   "cell_type": "code",
   "execution_count": 127,
   "id": "d2bc9e78",
   "metadata": {},
   "outputs": [],
   "source": [
    "def permutation(arr,ind,ans=[0]*len(arr)):\n",
    "    if ind == len(arr):\n",
    "        print(ans)\n",
    "        return\n",
    "    \n",
    "    elif ind< len(arr):\n",
    "#         print(ind)\n",
    "        ans[ind]= (arr[ind])\n",
    "        permutation(arr,ind+1,ans)\n",
    "        ans[ind] = (arr[ind].upper())\n",
    "        permutation(arr,ind+1,ans)\n",
    "    else:\n",
    "        return\n",
    "\n",
    "        "
   ]
  },
  {
   "cell_type": "code",
   "execution_count": 128,
   "id": "750f5d4b",
   "metadata": {},
   "outputs": [
    {
     "name": "stdout",
     "output_type": "stream",
     "text": [
      "['a', 'b', 'c', 'd', 'e', 'f']\n",
      "['a', 'b', 'c', 'd', 'e', 'F']\n",
      "['a', 'b', 'c', 'd', 'E', 'f']\n",
      "['a', 'b', 'c', 'd', 'E', 'F']\n",
      "['a', 'b', 'c', 'D', 'e', 'f']\n",
      "['a', 'b', 'c', 'D', 'e', 'F']\n",
      "['a', 'b', 'c', 'D', 'E', 'f']\n",
      "['a', 'b', 'c', 'D', 'E', 'F']\n",
      "['a', 'b', 'C', 'd', 'e', 'f']\n",
      "['a', 'b', 'C', 'd', 'e', 'F']\n",
      "['a', 'b', 'C', 'd', 'E', 'f']\n",
      "['a', 'b', 'C', 'd', 'E', 'F']\n",
      "['a', 'b', 'C', 'D', 'e', 'f']\n",
      "['a', 'b', 'C', 'D', 'e', 'F']\n",
      "['a', 'b', 'C', 'D', 'E', 'f']\n",
      "['a', 'b', 'C', 'D', 'E', 'F']\n",
      "['a', 'B', 'c', 'd', 'e', 'f']\n",
      "['a', 'B', 'c', 'd', 'e', 'F']\n",
      "['a', 'B', 'c', 'd', 'E', 'f']\n",
      "['a', 'B', 'c', 'd', 'E', 'F']\n",
      "['a', 'B', 'c', 'D', 'e', 'f']\n",
      "['a', 'B', 'c', 'D', 'e', 'F']\n",
      "['a', 'B', 'c', 'D', 'E', 'f']\n",
      "['a', 'B', 'c', 'D', 'E', 'F']\n",
      "['a', 'B', 'C', 'd', 'e', 'f']\n",
      "['a', 'B', 'C', 'd', 'e', 'F']\n",
      "['a', 'B', 'C', 'd', 'E', 'f']\n",
      "['a', 'B', 'C', 'd', 'E', 'F']\n",
      "['a', 'B', 'C', 'D', 'e', 'f']\n",
      "['a', 'B', 'C', 'D', 'e', 'F']\n",
      "['a', 'B', 'C', 'D', 'E', 'f']\n",
      "['a', 'B', 'C', 'D', 'E', 'F']\n",
      "['A', 'b', 'c', 'd', 'e', 'f']\n",
      "['A', 'b', 'c', 'd', 'e', 'F']\n",
      "['A', 'b', 'c', 'd', 'E', 'f']\n",
      "['A', 'b', 'c', 'd', 'E', 'F']\n",
      "['A', 'b', 'c', 'D', 'e', 'f']\n",
      "['A', 'b', 'c', 'D', 'e', 'F']\n",
      "['A', 'b', 'c', 'D', 'E', 'f']\n",
      "['A', 'b', 'c', 'D', 'E', 'F']\n",
      "['A', 'b', 'C', 'd', 'e', 'f']\n",
      "['A', 'b', 'C', 'd', 'e', 'F']\n",
      "['A', 'b', 'C', 'd', 'E', 'f']\n",
      "['A', 'b', 'C', 'd', 'E', 'F']\n",
      "['A', 'b', 'C', 'D', 'e', 'f']\n",
      "['A', 'b', 'C', 'D', 'e', 'F']\n",
      "['A', 'b', 'C', 'D', 'E', 'f']\n",
      "['A', 'b', 'C', 'D', 'E', 'F']\n",
      "['A', 'B', 'c', 'd', 'e', 'f']\n",
      "['A', 'B', 'c', 'd', 'e', 'F']\n",
      "['A', 'B', 'c', 'd', 'E', 'f']\n",
      "['A', 'B', 'c', 'd', 'E', 'F']\n",
      "['A', 'B', 'c', 'D', 'e', 'f']\n",
      "['A', 'B', 'c', 'D', 'e', 'F']\n",
      "['A', 'B', 'c', 'D', 'E', 'f']\n",
      "['A', 'B', 'c', 'D', 'E', 'F']\n",
      "['A', 'B', 'C', 'd', 'e', 'f']\n",
      "['A', 'B', 'C', 'd', 'e', 'F']\n",
      "['A', 'B', 'C', 'd', 'E', 'f']\n",
      "['A', 'B', 'C', 'd', 'E', 'F']\n",
      "['A', 'B', 'C', 'D', 'e', 'f']\n",
      "['A', 'B', 'C', 'D', 'e', 'F']\n",
      "['A', 'B', 'C', 'D', 'E', 'f']\n",
      "['A', 'B', 'C', 'D', 'E', 'F']\n"
     ]
    }
   ],
   "source": [
    "permutation(arr,0)"
   ]
  },
  {
   "cell_type": "code",
   "execution_count": null,
   "id": "ce6e28e0",
   "metadata": {},
   "outputs": [],
   "source": []
  },
  {
   "cell_type": "code",
   "execution_count": null,
   "id": "d48b368f",
   "metadata": {},
   "outputs": [],
   "source": []
  }
 ],
 "metadata": {
  "kernelspec": {
   "display_name": "Python 3",
   "language": "python",
   "name": "python3"
  },
  "language_info": {
   "codemirror_mode": {
    "name": "ipython",
    "version": 3
   },
   "file_extension": ".py",
   "mimetype": "text/x-python",
   "name": "python",
   "nbconvert_exporter": "python",
   "pygments_lexer": "ipython3",
   "version": "3.8.5"
  }
 },
 "nbformat": 4,
 "nbformat_minor": 5
}

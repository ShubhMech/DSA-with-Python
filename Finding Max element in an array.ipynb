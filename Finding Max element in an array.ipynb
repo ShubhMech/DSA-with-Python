{
 "cells": [
  {
   "cell_type": "code",
   "execution_count": 58,
   "id": "74d9b66d-7d99-46da-9f5a-0ccd525824e7",
   "metadata": {},
   "outputs": [],
   "source": [
    "class Hash():\n",
    "    def __init__(self):\n",
    "        self.MAX = 10\n",
    "        self.arr= [None]*self.MAX\n",
    "        \n",
    "    def get_Hash(self, key):\n",
    "        self.hash = 0\n",
    "        for char in key:\n",
    "            \n",
    "            self.hash += ord(char) \n",
    "            \n",
    "        return self.hash% self.MAX\n",
    "    \n",
    "    def __getitem__(self, key):\n",
    "        h = self.get_Hash(key)\n",
    "        return self.arr[h]\n",
    "    \n",
    "    def __setitem__(self,key,val):\n",
    "        h = self.get_Hash(key)\n",
    "        self.arr[h]= val\n",
    "        \n",
    "    def __delitem__(self,key):\n",
    "        h= self.get_Hash(key)\n",
    "        self.arr[h]= None\n",
    "        "
   ]
  },
  {
   "cell_type": "code",
   "execution_count": 59,
   "id": "27f33e96-17b2-4a91-8fdf-b55a4b1affe4",
   "metadata": {},
   "outputs": [],
   "source": [
    "h= Hash()"
   ]
  },
  {
   "cell_type": "code",
   "execution_count": 60,
   "id": "dc28af75-bcc9-425d-a7a3-ce4a94743d36",
   "metadata": {},
   "outputs": [
    {
     "data": {
      "text/plain": [
       "2"
      ]
     },
     "execution_count": 60,
     "metadata": {},
     "output_type": "execute_result"
    }
   ],
   "source": [
    "h.get_Hash(\"Shubham\")"
   ]
  },
  {
   "cell_type": "code",
   "execution_count": 61,
   "id": "26db4778-5b50-4365-854b-1acaacf455e9",
   "metadata": {},
   "outputs": [
    {
     "data": {
      "text/plain": [
       "1"
      ]
     },
     "execution_count": 61,
     "metadata": {},
     "output_type": "execute_result"
    }
   ],
   "source": [
    "h.get_Hash(\"Priyanka\")"
   ]
  },
  {
   "cell_type": "code",
   "execution_count": 62,
   "id": "9257fcc7-bc61-4805-abd4-d1d1d38d537e",
   "metadata": {},
   "outputs": [
    {
     "data": {
      "text/plain": [
       "5"
      ]
     },
     "execution_count": 62,
     "metadata": {},
     "output_type": "execute_result"
    }
   ],
   "source": [
    "h.get_Hash(\"Singh\")"
   ]
  },
  {
   "cell_type": "code",
   "execution_count": 63,
   "id": "2aa8194f-7b5a-43e1-8965-9c2d3c6b33dd",
   "metadata": {},
   "outputs": [
    {
     "data": {
      "text/plain": [
       "2"
      ]
     },
     "execution_count": 63,
     "metadata": {},
     "output_type": "execute_result"
    }
   ],
   "source": [
    "h.get_Hash(\"Mishra\")"
   ]
  },
  {
   "cell_type": "code",
   "execution_count": 64,
   "id": "e0072ac4-9d01-4c17-9c28-8fc43b2318e1",
   "metadata": {},
   "outputs": [
    {
     "data": {
      "text/plain": [
       "5"
      ]
     },
     "execution_count": 64,
     "metadata": {},
     "output_type": "execute_result"
    }
   ],
   "source": [
    "h.get_Hash(\"Kumar Bal\")"
   ]
  },
  {
   "cell_type": "code",
   "execution_count": 65,
   "id": "289ee621-3768-4920-b866-3debfbe55024",
   "metadata": {},
   "outputs": [
    {
     "data": {
      "text/plain": [
       "8"
      ]
     },
     "execution_count": 65,
     "metadata": {},
     "output_type": "execute_result"
    }
   ],
   "source": [
    "h.get_Hash(\"Sarthak\")"
   ]
  },
  {
   "cell_type": "code",
   "execution_count": 66,
   "id": "d52cc00d-85cb-44c0-bea2-20ae25401ffe",
   "metadata": {},
   "outputs": [],
   "source": [
    "h[\"M\"]= 1000"
   ]
  },
  {
   "cell_type": "code",
   "execution_count": 67,
   "id": "50f77796-ea7f-46cb-aa5b-0426c3b8e41f",
   "metadata": {},
   "outputs": [
    {
     "data": {
      "text/plain": [
       "[None, None, None, None, None, None, None, 1000, None, None]"
      ]
     },
     "execution_count": 67,
     "metadata": {},
     "output_type": "execute_result"
    }
   ],
   "source": [
    "h.arr"
   ]
  },
  {
   "cell_type": "code",
   "execution_count": 68,
   "id": "6c5a209a-b081-4cea-9901-a5b057939eb6",
   "metadata": {},
   "outputs": [],
   "source": [
    "h['m']= 10"
   ]
  },
  {
   "cell_type": "code",
   "execution_count": 69,
   "id": "05e542cd-5358-4ca1-982f-3cd348864b4b",
   "metadata": {},
   "outputs": [
    {
     "data": {
      "text/plain": [
       "[None, None, None, None, None, None, None, 1000, None, 10]"
      ]
     },
     "execution_count": 69,
     "metadata": {},
     "output_type": "execute_result"
    }
   ],
   "source": [
    "h.arr"
   ]
  },
  {
   "cell_type": "code",
   "execution_count": 70,
   "id": "76dedeb2-b7ae-4bdd-9aa1-f67bba610b09",
   "metadata": {},
   "outputs": [
    {
     "data": {
      "text/plain": [
       "9"
      ]
     },
     "execution_count": 70,
     "metadata": {},
     "output_type": "execute_result"
    }
   ],
   "source": [
    "h.get_Hash('m')"
   ]
  },
  {
   "cell_type": "code",
   "execution_count": 71,
   "id": "0f425f6b-0b23-49f0-8ca2-9b77b4021a4b",
   "metadata": {},
   "outputs": [
    {
     "data": {
      "text/plain": [
       "7"
      ]
     },
     "execution_count": 71,
     "metadata": {},
     "output_type": "execute_result"
    }
   ],
   "source": [
    "h.get_Hash('M')"
   ]
  },
  {
   "cell_type": "code",
   "execution_count": 72,
   "id": "3c2acecf-a197-4cd3-bb81-975509eb08fb",
   "metadata": {},
   "outputs": [],
   "source": [
    "del h['m']"
   ]
  },
  {
   "cell_type": "code",
   "execution_count": 73,
   "id": "efb08fac-ee8b-4dc9-a248-c7dcaedab690",
   "metadata": {},
   "outputs": [
    {
     "data": {
      "text/plain": [
       "[None, None, None, None, None, None, None, 1000, None, None]"
      ]
     },
     "execution_count": 73,
     "metadata": {},
     "output_type": "execute_result"
    }
   ],
   "source": [
    "h.arr"
   ]
  },
  {
   "cell_type": "code",
   "execution_count": 74,
   "id": "2c2d57d6-9a2b-44b6-8794-f687e307fe25",
   "metadata": {},
   "outputs": [],
   "source": [
    "h['were']=44"
   ]
  },
  {
   "cell_type": "code",
   "execution_count": 75,
   "id": "8c6c87f7-a871-4e3f-8a11-ba10da7be1b3",
   "metadata": {},
   "outputs": [
    {
     "data": {
      "text/plain": [
       "5"
      ]
     },
     "execution_count": 75,
     "metadata": {},
     "output_type": "execute_result"
    }
   ],
   "source": [
    "(ord('w') + ord('e') + ord('r') + ord('e') )%10"
   ]
  },
  {
   "cell_type": "code",
   "execution_count": 76,
   "id": "0e4c73ff-42da-4ce8-ae41-bd79303edbf5",
   "metadata": {},
   "outputs": [
    {
     "data": {
      "text/plain": [
       "5"
      ]
     },
     "execution_count": 76,
     "metadata": {},
     "output_type": "execute_result"
    }
   ],
   "source": [
    "h.get_Hash('were')"
   ]
  },
  {
   "cell_type": "code",
   "execution_count": 77,
   "id": "07d5ed10-1589-4747-86c8-23fcb07e09cb",
   "metadata": {},
   "outputs": [
    {
     "data": {
      "text/plain": [
       "[None, None, None, None, None, 44, None, 1000, None, None]"
      ]
     },
     "execution_count": 77,
     "metadata": {},
     "output_type": "execute_result"
    }
   ],
   "source": [
    "h.arr"
   ]
  },
  {
   "cell_type": "code",
   "execution_count": 79,
   "id": "798a2734-c4bb-4d7c-a73b-7ae05676436f",
   "metadata": {},
   "outputs": [],
   "source": [
    "import heapq\n",
    "l= []"
   ]
  },
  {
   "cell_type": "code",
   "execution_count": 80,
   "id": "0d35888d-2898-4b93-bda3-53c48e4285bd",
   "metadata": {},
   "outputs": [],
   "source": [
    "heapq.heapify(l)"
   ]
  },
  {
   "cell_type": "code",
   "execution_count": 82,
   "id": "58524a1e-6430-4045-b7b2-803a4f018cca",
   "metadata": {},
   "outputs": [],
   "source": [
    "heapq.heappush(l,(4,'a'))"
   ]
  },
  {
   "cell_type": "code",
   "execution_count": 86,
   "id": "dde12596-3539-490d-be61-3e2eaaf9d649",
   "metadata": {},
   "outputs": [
    {
     "data": {
      "text/plain": [
       "[(4, 'a')]"
      ]
     },
     "execution_count": 86,
     "metadata": {},
     "output_type": "execute_result"
    }
   ],
   "source": [
    "heapq.nlargest(1,l)"
   ]
  },
  {
   "cell_type": "code",
   "execution_count": 89,
   "id": "4a9a9326-a183-4e94-92be-f0da996a5066",
   "metadata": {},
   "outputs": [],
   "source": [
    "heapq.heappush(l,(5,'b'))\n",
    "heapq.heappush(l,(6,'c'))\n",
    "heapq.heappush(l,(7,'d'))\n",
    "heapq.heappush(l,(8,'e'))\n",
    "heapq.heappush(l,(9,'f'))"
   ]
  },
  {
   "cell_type": "code",
   "execution_count": 90,
   "id": "d23684fd-504f-4f33-ac73-19fef5a93db9",
   "metadata": {},
   "outputs": [
    {
     "data": {
      "text/plain": [
       "[(9, 'f'), (8, 'e'), (7, 'd')]"
      ]
     },
     "execution_count": 90,
     "metadata": {},
     "output_type": "execute_result"
    }
   ],
   "source": [
    "heapq.nlargest(3,l)"
   ]
  },
  {
   "cell_type": "code",
   "execution_count": 96,
   "id": "2b73a428-d7f4-44a9-963d-bd467b343d7f",
   "metadata": {},
   "outputs": [],
   "source": [
    "def min_max(arr,low,high):\n",
    "    if low==high:\n",
    "        return arr[low]\n",
    "    elif high-low == 1 :\n",
    "        return max(arr[high],arr[low])\n",
    "    \n",
    "    else:\n",
    "        min_= 1e7\n",
    "        mid = low +(high-low)//2\n",
    "        min1 = min_max(arr,low,mid)\n",
    "        min2 = min_max(arr,mid+1,high)\n",
    "        \n",
    "        return max(min1, min2, arr[mid])\n",
    "    \n",
    "    return min_\n",
    "    "
   ]
  },
  {
   "cell_type": "code",
   "execution_count": 97,
   "id": "ccc15e48-c7f2-45bd-9d07-d1943d5511a0",
   "metadata": {},
   "outputs": [],
   "source": [
    "arr=[1,2,3,4,5,6]"
   ]
  },
  {
   "cell_type": "code",
   "execution_count": 98,
   "id": "f24a7421-eaa4-4063-9335-f18e3ecec172",
   "metadata": {},
   "outputs": [
    {
     "data": {
      "text/plain": [
       "6"
      ]
     },
     "execution_count": 98,
     "metadata": {},
     "output_type": "execute_result"
    }
   ],
   "source": [
    "min_max(arr,0,5)"
   ]
  },
  {
   "cell_type": "code",
   "execution_count": null,
   "id": "cf30ffdb-68bb-4811-832c-1e05dd7b9fd5",
   "metadata": {},
   "outputs": [],
   "source": []
  }
 ],
 "metadata": {
  "kernelspec": {
   "display_name": "Python 3",
   "language": "python",
   "name": "python3"
  },
  "language_info": {
   "codemirror_mode": {
    "name": "ipython",
    "version": 3
   },
   "file_extension": ".py",
   "mimetype": "text/x-python",
   "name": "python",
   "nbconvert_exporter": "python",
   "pygments_lexer": "ipython3",
   "version": "3.8.5"
  }
 },
 "nbformat": 4,
 "nbformat_minor": 5
}

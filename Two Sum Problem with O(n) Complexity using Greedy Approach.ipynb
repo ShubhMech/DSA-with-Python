{
 "cells": [
  {
   "cell_type": "code",
   "execution_count": 15,
   "id": "10f7cb19-5205-440d-bd29-f5e4a908328d",
   "metadata": {},
   "outputs": [],
   "source": [
    "def twosum(arr,val):\n",
    "    diff= 10**9\n",
    "    if len(arr)==1:\n",
    "        return \n",
    "    elif len(arr)==2:\n",
    "        return list(0,1)\n",
    "    else:\n",
    "        for i in range(len(arr)):\n",
    "            num= arr[i]\n",
    "            \n",
    "            for j in range(i+1,len(arr)):\n",
    "                sum = num+ arr[j]\n",
    "                \n",
    "                if abs(val-sum)< diff:\n",
    "                    diff=val- sum\n",
    "                    list_= [diff,i,j]\n",
    "                    print(i,j,diff,sum)\n",
    "    return list_[1:]\n",
    "                    \n",
    "                "
   ]
  },
  {
   "cell_type": "code",
   "execution_count": 16,
   "id": "e058f5b2-e322-45d9-9580-041d3f424d03",
   "metadata": {},
   "outputs": [
    {
     "name": "stdout",
     "output_type": "stream",
     "text": [
      "0 1 14 3\n",
      "0 2 13 4\n",
      "0 3 12 5\n",
      "0 4 11 6\n",
      "0 5 10 7\n",
      "0 6 9 8\n",
      "0 7 8 9\n",
      "0 8 7 10\n",
      "1 8 6 11\n",
      "2 8 5 12\n",
      "3 8 4 13\n",
      "4 8 3 14\n",
      "5 8 2 15\n",
      "6 8 1 16\n",
      "7 8 0 17\n"
     ]
    },
    {
     "data": {
      "text/plain": [
       "[7, 8]"
      ]
     },
     "execution_count": 16,
     "metadata": {},
     "output_type": "execute_result"
    }
   ],
   "source": [
    "twosum([1,2,3,4,5,6,7,8,9],17)"
   ]
  },
  {
   "cell_type": "code",
   "execution_count": 17,
   "id": "84c9fa76-34d2-4f47-8cb9-8b2219947ec1",
   "metadata": {},
   "outputs": [
    {
     "name": "stdout",
     "output_type": "stream",
     "text": [
      "0 1 4 23\n",
      "0 5 0 27\n"
     ]
    },
    {
     "data": {
      "text/plain": [
       "[0, 5]"
      ]
     },
     "execution_count": 17,
     "metadata": {},
     "output_type": "execute_result"
    }
   ],
   "source": [
    "twosum([11,12,3,24,5,16,7,38,9],27)"
   ]
  },
  {
   "cell_type": "code",
   "execution_count": 18,
   "id": "ad2e8bba-e2d3-4c61-864d-0427c62662ab",
   "metadata": {},
   "outputs": [
    {
     "name": "stdout",
     "output_type": "stream",
     "text": [
      "0 1 14 23\n",
      "0 3 2 35\n",
      "1 3 1 36\n"
     ]
    },
    {
     "data": {
      "text/plain": [
       "[1, 3]"
      ]
     },
     "execution_count": 18,
     "metadata": {},
     "output_type": "execute_result"
    }
   ],
   "source": [
    "twosum([11,12,3,24,5,16,7,38,9],37)"
   ]
  },
  {
   "cell_type": "code",
   "execution_count": 19,
   "id": "d032b7f5-24bf-4d2f-86b2-e3dac9c3320e",
   "metadata": {},
   "outputs": [
    {
     "ename": "SyntaxError",
     "evalue": "invalid syntax (<ipython-input-19-127c1037c8de>, line 8)",
     "output_type": "error",
     "traceback": [
      "\u001b[1;36m  File \u001b[1;32m\"<ipython-input-19-127c1037c8de>\"\u001b[1;36m, line \u001b[1;32m8\u001b[0m\n\u001b[1;33m    while mid! = low:\u001b[0m\n\u001b[1;37m             ^\u001b[0m\n\u001b[1;31mSyntaxError\u001b[0m\u001b[1;31m:\u001b[0m invalid syntax\n"
     ]
    }
   ],
   "source": [
    "def binary(arr,val,low,high,diff=10**9):\n",
    "#     diff= 10**9\n",
    "    if len(arr)==1:\n",
    "        return \n",
    "    elif len(arr)==2:\n",
    "        return list(0,1)\n",
    "    else:\n",
    "        while mid! = low:\n",
    "            \n",
    "            num= arr[0]\n",
    "            mid= (low+high)//2\n",
    "\n",
    "            if val- (num+arr[mid])< diff:\n",
    "                diff=  val- (num+arr[mid])\n",
    "                list_= [diff,i,j]\n",
    "            \n",
    "            \n",
    "    "
   ]
  },
  {
   "cell_type": "code",
   "execution_count": 117,
   "id": "9180cd1e-d1fb-4373-9cd0-3585eb694fff",
   "metadata": {},
   "outputs": [],
   "source": [
    "list_=[]\n",
    "counter= 0\n",
    "def two_pointer(arr,val,pointer1,pointer2,diff= 10**9):\n",
    "    global list_, counter\n",
    "    counter += 1\n",
    "    \n",
    "    if len(arr)==1:\n",
    "        return \n",
    "    elif len(arr)==2:\n",
    "        return list(0,1)\n",
    "    elif pointer1 != pointer2:\n",
    "        \n",
    "        print(pointer1,pointer2, arr[pointer1]+arr[pointer2],diff,arr[pointer1]+arr[pointer2]<=val , diff> val-arr[pointer1]-arr[pointer2],  arr[pointer1]+arr[pointer2]<=val and diff> val-arr[pointer1]-arr[pointer2] )\n",
    "        if arr[pointer1]+arr[pointer2]<=val and diff> val-arr[pointer1]-arr[pointer2] :\n",
    "            print (\"Yes~!\")\n",
    "            diff= val-arr[pointer1]-arr[pointer2]\n",
    "            list_= [diff,pointer1,pointer2]\n",
    "            pointer1 += 1\n",
    "        elif arr[pointer1]+arr[pointer2]>val:\n",
    "            pointer2 -= 1\n",
    "        else:\n",
    "            pointer2 -=1\n",
    "        \n",
    "        two_pointer(arr,val,pointer1,pointer2,diff)\n",
    "            \n",
    "    else:\n",
    "        return list_[1:]\n",
    "    "
   ]
  },
  {
   "cell_type": "code",
   "execution_count": 118,
   "id": "9613e928-69b9-42ce-ab7a-5cc18b68a1b3",
   "metadata": {},
   "outputs": [],
   "source": [
    "arr=sorted([11,12,3,24,5,16,7,38,9,34,45,6,78,90,56,424,758])"
   ]
  },
  {
   "cell_type": "code",
   "execution_count": 119,
   "id": "6349edb2-6dff-4939-bde1-bba1e850c762",
   "metadata": {},
   "outputs": [
    {
     "data": {
      "text/plain": [
       "[3, 5, 6, 7, 9, 11, 12, 16, 24, 34, 38, 45, 56, 78, 90, 424, 758]"
      ]
     },
     "execution_count": 119,
     "metadata": {},
     "output_type": "execute_result"
    }
   ],
   "source": [
    "arr"
   ]
  },
  {
   "cell_type": "code",
   "execution_count": 120,
   "id": "18d25877-a552-49e7-9d09-4f432c51d001",
   "metadata": {},
   "outputs": [
    {
     "name": "stdout",
     "output_type": "stream",
     "text": [
      "0 16 761 1000000000 True True True\n",
      "Yes~!\n",
      "1 16 763 4239 True True True\n",
      "Yes~!\n",
      "2 16 764 4237 True True True\n",
      "Yes~!\n",
      "3 16 765 4236 True True True\n",
      "Yes~!\n",
      "4 16 767 4235 True True True\n",
      "Yes~!\n",
      "5 16 769 4233 True True True\n",
      "Yes~!\n",
      "6 16 770 4231 True True True\n",
      "Yes~!\n",
      "7 16 774 4230 True True True\n",
      "Yes~!\n",
      "8 16 782 4226 True True True\n",
      "Yes~!\n",
      "9 16 792 4218 True True True\n",
      "Yes~!\n",
      "10 16 796 4208 True True True\n",
      "Yes~!\n",
      "11 16 803 4204 True True True\n",
      "Yes~!\n",
      "12 16 814 4197 True True True\n",
      "Yes~!\n",
      "13 16 836 4186 True True True\n",
      "Yes~!\n",
      "14 16 848 4164 True True True\n",
      "Yes~!\n",
      "15 16 1182 4152 True True True\n",
      "Yes~!\n"
     ]
    }
   ],
   "source": [
    "aa=two_pointer(arr,val=5000,pointer1=0,pointer2=len(arr)-1)"
   ]
  },
  {
   "cell_type": "code",
   "execution_count": 121,
   "id": "2cc23981-faed-407b-9ddf-a940aa61e2db",
   "metadata": {},
   "outputs": [],
   "source": [
    "aa\n"
   ]
  },
  {
   "cell_type": "code",
   "execution_count": 122,
   "id": "b9d95b9b-e007-40a1-9224-37d3c6c44dbb",
   "metadata": {},
   "outputs": [
    {
     "data": {
      "text/plain": [
       "[15, 16]"
      ]
     },
     "execution_count": 122,
     "metadata": {},
     "output_type": "execute_result"
    }
   ],
   "source": [
    "list_[1:]"
   ]
  },
  {
   "cell_type": "code",
   "execution_count": 123,
   "id": "562463c5-0048-405f-b6f0-d1fdf07d4bf4",
   "metadata": {},
   "outputs": [
    {
     "data": {
      "text/plain": [
       "758"
      ]
     },
     "execution_count": 123,
     "metadata": {},
     "output_type": "execute_result"
    }
   ],
   "source": [
    "arr[16]"
   ]
  },
  {
   "cell_type": "code",
   "execution_count": 124,
   "id": "5a806f7c-01df-4d22-b09e-e02fcf5ee604",
   "metadata": {},
   "outputs": [
    {
     "data": {
      "text/plain": [
       "424"
      ]
     },
     "execution_count": 124,
     "metadata": {},
     "output_type": "execute_result"
    }
   ],
   "source": [
    "arr[15]"
   ]
  },
  {
   "cell_type": "code",
   "execution_count": null,
   "id": "d34f52a3-8837-4019-92ac-8eb2076ba944",
   "metadata": {},
   "outputs": [],
   "source": []
  },
  {
   "cell_type": "code",
   "execution_count": 125,
   "id": "ab590fc5-58ec-4b99-bc86-f631e6ec0f0d",
   "metadata": {},
   "outputs": [
    {
     "data": {
      "text/plain": [
       "17"
      ]
     },
     "execution_count": 125,
     "metadata": {},
     "output_type": "execute_result"
    }
   ],
   "source": [
    "counter"
   ]
  },
  {
   "cell_type": "code",
   "execution_count": 126,
   "id": "61d85f69-8280-49d4-9c45-deb6428aac12",
   "metadata": {},
   "outputs": [
    {
     "data": {
      "text/plain": [
       "17"
      ]
     },
     "execution_count": 126,
     "metadata": {},
     "output_type": "execute_result"
    }
   ],
   "source": [
    "len(arr)"
   ]
  },
  {
   "cell_type": "code",
   "execution_count": null,
   "id": "315c6252-b069-4d1c-b7ef-e8ac603fd8eb",
   "metadata": {},
   "outputs": [],
   "source": []
  }
 ],
 "metadata": {
  "kernelspec": {
   "display_name": "Python 3",
   "language": "python",
   "name": "python3"
  },
  "language_info": {
   "codemirror_mode": {
    "name": "ipython",
    "version": 3
   },
   "file_extension": ".py",
   "mimetype": "text/x-python",
   "name": "python",
   "nbconvert_exporter": "python",
   "pygments_lexer": "ipython3",
   "version": "3.8.5"
  }
 },
 "nbformat": 4,
 "nbformat_minor": 5
}

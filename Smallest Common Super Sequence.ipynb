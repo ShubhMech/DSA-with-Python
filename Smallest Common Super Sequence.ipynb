{
 "cells": [
  {
   "cell_type": "code",
   "execution_count": 107,
   "id": "b62feb1e",
   "metadata": {},
   "outputs": [],
   "source": [
    "arr1 = [\"a\",\"b\",\"c\",\"d\",\"e\"]\n",
    "arr2 = [\"a\",\"b\",\"f\",\"d\",\"e\",\"t\"]\n",
    "\n",
    "res = []\n",
    "\n",
    "n = 5\n",
    "m = 6"
   ]
  },
  {
   "cell_type": "code",
   "execution_count": 108,
   "id": "acf0d3a6",
   "metadata": {},
   "outputs": [],
   "source": [
    "table = [[-1 for x in range(n+1)] for y in range(m+1)]"
   ]
  },
  {
   "cell_type": "code",
   "execution_count": 114,
   "id": "8642dab5",
   "metadata": {},
   "outputs": [],
   "source": [
    "def afunc(arr1,arr2,m,n,t, res):\n",
    "#     print(n,m)\n",
    "    if n<=0 or m<=0:\n",
    "        return 0\n",
    "    elif arr1[n-1] == arr2[m-1]:\n",
    "#         print(\"Yes\")\n",
    "#         res.append(arr1[n-1])\n",
    "        t[m][n] = 1 + afunc(arr1,arr2,m-1,n-1,t,res)\n",
    "        return t[m][n]\n",
    "    else:\n",
    "        t[m][n] = (max(afunc(arr1,arr2,m-1,n,t,res), afunc(arr1,arr2,m,n-1,t,res)))\n",
    "        \n",
    "        \n",
    "    return len(arr1) + len(arr2) - t[m][n]"
   ]
  },
  {
   "cell_type": "code",
   "execution_count": 115,
   "id": "6e0a1760",
   "metadata": {},
   "outputs": [
    {
     "data": {
      "text/plain": [
       "7"
      ]
     },
     "execution_count": 115,
     "metadata": {},
     "output_type": "execute_result"
    }
   ],
   "source": [
    "afunc(arr1,arr2,m,n,table,res)"
   ]
  },
  {
   "cell_type": "code",
   "execution_count": 116,
   "id": "97020112",
   "metadata": {},
   "outputs": [
    {
     "data": {
      "text/plain": [
       "[[-1, -1, -1, -1, -1, -1],\n",
       " [-1, 1, 1, 10, -1, -1],\n",
       " [-1, 1, 2, 2, -1, -1],\n",
       " [-1, 10, 2, 9, -1, -1],\n",
       " [-1, 1, 10, 2, 3, -1],\n",
       " [-1, 10, 1, 10, 3, 4],\n",
       " [-1, 1, 10, 1, 10, 4]]"
      ]
     },
     "execution_count": 116,
     "metadata": {},
     "output_type": "execute_result"
    }
   ],
   "source": [
    "table"
   ]
  },
  {
   "cell_type": "code",
   "execution_count": 85,
   "id": "52e67351",
   "metadata": {},
   "outputs": [
    {
     "data": {
      "text/plain": [
       "[]"
      ]
     },
     "execution_count": 85,
     "metadata": {},
     "output_type": "execute_result"
    }
   ],
   "source": [
    "res"
   ]
  },
  {
   "cell_type": "code",
   "execution_count": 86,
   "id": "d5f72e02",
   "metadata": {},
   "outputs": [
    {
     "data": {
      "text/plain": [
       "5"
      ]
     },
     "execution_count": 86,
     "metadata": {},
     "output_type": "execute_result"
    }
   ],
   "source": [
    "m"
   ]
  },
  {
   "cell_type": "code",
   "execution_count": 87,
   "id": "ee6f6749",
   "metadata": {},
   "outputs": [
    {
     "data": {
      "text/plain": [
       "4"
      ]
     },
     "execution_count": 87,
     "metadata": {},
     "output_type": "execute_result"
    }
   ],
   "source": [
    "table[m][n]"
   ]
  },
  {
   "cell_type": "code",
   "execution_count": 88,
   "id": "a3084ba7",
   "metadata": {},
   "outputs": [],
   "source": [
    "t = table.copy()"
   ]
  },
  {
   "cell_type": "code",
   "execution_count": 89,
   "id": "41a35bb3",
   "metadata": {},
   "outputs": [],
   "source": [
    "arr1 = [\"a\",\"b\",\"g\",\"e\"]\n",
    "arr2 = [\"a\",\"b\",\"d\",\"e\"]\n",
    "\n",
    "n = 4\n",
    "m = 4\n",
    "\n",
    "res = 0\n",
    "\n",
    "tt = [[0]*(n+1) for y in range(m+1)]\n",
    "\n",
    "s = []\n",
    "\n",
    "for i in range(n+1):\n",
    "    for j in range(m+1):\n",
    "               \n",
    "        if i == 0 or j == 0:\n",
    "\n",
    "            tt[i][j]= 0\n",
    "            \n",
    "        elif arr2[i-1] == arr1[j-1] :\n",
    "\n",
    "            tt[i][j] = tt[i-1][j-1] + 1\n",
    "            s.append(arr2[i-1])\n",
    "            res = max(res, tt[i][j])\n",
    "\n",
    "        else:\n",
    "\n",
    "            tt[i][j] = 0\n",
    "            "
   ]
  },
  {
   "cell_type": "code",
   "execution_count": 90,
   "id": "af530726",
   "metadata": {},
   "outputs": [
    {
     "data": {
      "text/plain": [
       "[[0, 0, 0, 0, 0],\n",
       " [0, 1, 0, 0, 0],\n",
       " [0, 0, 2, 0, 0],\n",
       " [0, 0, 0, 0, 0],\n",
       " [0, 0, 0, 0, 1]]"
      ]
     },
     "execution_count": 90,
     "metadata": {},
     "output_type": "execute_result"
    }
   ],
   "source": [
    "tt"
   ]
  },
  {
   "cell_type": "code",
   "execution_count": 91,
   "id": "1b573c3b",
   "metadata": {},
   "outputs": [
    {
     "data": {
      "text/plain": [
       "['a', 'b', 'g', 'e']"
      ]
     },
     "execution_count": 91,
     "metadata": {},
     "output_type": "execute_result"
    }
   ],
   "source": [
    "arr1"
   ]
  },
  {
   "cell_type": "code",
   "execution_count": 92,
   "id": "e8015197",
   "metadata": {},
   "outputs": [
    {
     "data": {
      "text/plain": [
       "['a', 'b', 'd', 'e']"
      ]
     },
     "execution_count": 92,
     "metadata": {},
     "output_type": "execute_result"
    }
   ],
   "source": [
    "arr2"
   ]
  },
  {
   "cell_type": "code",
   "execution_count": 93,
   "id": "6b29b117",
   "metadata": {},
   "outputs": [
    {
     "data": {
      "text/plain": [
       "['a', 'b', 'e']"
      ]
     },
     "execution_count": 93,
     "metadata": {},
     "output_type": "execute_result"
    }
   ],
   "source": [
    "s"
   ]
  },
  {
   "cell_type": "code",
   "execution_count": 94,
   "id": "d39fc7f0",
   "metadata": {},
   "outputs": [],
   "source": [
    "lcs = \"\".join(s)"
   ]
  },
  {
   "cell_type": "code",
   "execution_count": 95,
   "id": "e7ca7c95",
   "metadata": {},
   "outputs": [
    {
     "data": {
      "text/plain": [
       "'abe'"
      ]
     },
     "execution_count": 95,
     "metadata": {},
     "output_type": "execute_result"
    }
   ],
   "source": [
    "lcs"
   ]
  },
  {
   "cell_type": "code",
   "execution_count": 96,
   "id": "b3fddf2f",
   "metadata": {},
   "outputs": [
    {
     "data": {
      "text/plain": [
       "[0, 1, 0, 0, 0]"
      ]
     },
     "execution_count": 96,
     "metadata": {},
     "output_type": "execute_result"
    }
   ],
   "source": [
    "max(tt)"
   ]
  },
  {
   "cell_type": "code",
   "execution_count": null,
   "id": "f52f4826",
   "metadata": {},
   "outputs": [],
   "source": []
  },
  {
   "cell_type": "code",
   "execution_count": null,
   "id": "8ec2dc34",
   "metadata": {},
   "outputs": [],
   "source": []
  },
  {
   "cell_type": "code",
   "execution_count": 53,
   "id": "2305ba64",
   "metadata": {},
   "outputs": [
    {
     "data": {
      "text/plain": [
       "2"
      ]
     },
     "execution_count": 53,
     "metadata": {},
     "output_type": "execute_result"
    }
   ],
   "source": [
    "res"
   ]
  },
  {
   "cell_type": "code",
   "execution_count": null,
   "id": "d771fdc6",
   "metadata": {},
   "outputs": [],
   "source": []
  }
 ],
 "metadata": {
  "kernelspec": {
   "display_name": "Python 3",
   "language": "python",
   "name": "python3"
  },
  "language_info": {
   "codemirror_mode": {
    "name": "ipython",
    "version": 3
   },
   "file_extension": ".py",
   "mimetype": "text/x-python",
   "name": "python",
   "nbconvert_exporter": "python",
   "pygments_lexer": "ipython3",
   "version": "3.8.5"
  }
 },
 "nbformat": 4,
 "nbformat_minor": 5
}

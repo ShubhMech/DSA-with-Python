{
 "cells": [
  {
   "cell_type": "code",
   "execution_count": 6,
   "id": "9838c0f9-074d-4f02-b4c0-fafff5b9c735",
   "metadata": {},
   "outputs": [],
   "source": [
    "arr1= [4]\n",
    "arr2=[3,4]\n",
    "arr3=[4,6,8]\n",
    "arr4= [55,44,66,77]\n",
    "arr5= [22,34,56,76,43]\n",
    "arr6= [1,4,6,8,0,5]"
   ]
  },
  {
   "cell_type": "code",
   "execution_count": 17,
   "id": "97d97065-b062-40ba-b06f-8e8ea94d7f7e",
   "metadata": {},
   "outputs": [],
   "source": [
    "arr= [arr1,arr2,arr3,arr4,arr5,arr6]\n",
    "def sum_max(arr):\n",
    "    i=0\n",
    "    sum= arr[0][i]\n",
    "    for j in range(1,len(arr)):\n",
    "        print(sum)\n",
    "        sum+= max(arr[j][i],arr[j][i+1])\n",
    "        i= arr[j].index(max(arr[j][i],arr[j][i+1]))\n",
    "        \n",
    "    return sum"
   ]
  },
  {
   "cell_type": "code",
   "execution_count": 18,
   "id": "62c42286-f567-45c2-b160-2bb10c32d8fc",
   "metadata": {},
   "outputs": [
    {
     "name": "stdout",
     "output_type": "stream",
     "text": [
      "4\n",
      "8\n",
      "16\n",
      "93\n",
      "169\n"
     ]
    },
    {
     "data": {
      "text/plain": [
       "177"
      ]
     },
     "execution_count": 18,
     "metadata": {},
     "output_type": "execute_result"
    }
   ],
   "source": [
    "sum_max(arr)"
   ]
  },
  {
   "cell_type": "code",
   "execution_count": 19,
   "id": "a5f019e9-2b80-481e-a941-e1bae51694e8",
   "metadata": {},
   "outputs": [
    {
     "data": {
      "text/plain": [
       "6"
      ]
     },
     "execution_count": 19,
     "metadata": {},
     "output_type": "execute_result"
    }
   ],
   "source": [
    "len(arr)"
   ]
  },
  {
   "cell_type": "code",
   "execution_count": 20,
   "id": "6d422fa4-0506-4cd0-b80f-55e797cd6977",
   "metadata": {},
   "outputs": [],
   "source": [
    "arr1= [4]\n",
    "arr2=[3,4][::-1]\n",
    "arr3=[4,6,8]\n",
    "arr4= [55,44,66,77]\n",
    "arr5= [22,34,56,76,43][::-1]\n",
    "arr6= [1,4,6,8,0,5][::-1]\n",
    "arr= [arr1,arr2,arr3,arr4,arr5,arr6]"
   ]
  },
  {
   "cell_type": "code",
   "execution_count": 21,
   "id": "687e631c-b2f7-42b8-bef6-f1186e54409f",
   "metadata": {},
   "outputs": [
    {
     "data": {
      "text/plain": [
       "[[4],\n",
       " [4, 3],\n",
       " [4, 6, 8],\n",
       " [55, 44, 66, 77],\n",
       " [43, 76, 56, 34, 22],\n",
       " [5, 0, 8, 6, 4, 1]]"
      ]
     },
     "execution_count": 21,
     "metadata": {},
     "output_type": "execute_result"
    }
   ],
   "source": [
    "arr"
   ]
  },
  {
   "cell_type": "code",
   "execution_count": 22,
   "id": "bba17b15-495c-4b96-aac1-d8813e60d6a6",
   "metadata": {},
   "outputs": [
    {
     "name": "stdout",
     "output_type": "stream",
     "text": [
      "4\n",
      "8\n",
      "14\n",
      "80\n",
      "136\n"
     ]
    },
    {
     "data": {
      "text/plain": [
       "144"
      ]
     },
     "execution_count": 22,
     "metadata": {},
     "output_type": "execute_result"
    }
   ],
   "source": [
    "sum_max(arr)"
   ]
  },
  {
   "cell_type": "code",
   "execution_count": null,
   "id": "38e4523f-e26e-4592-94bf-33aecc034354",
   "metadata": {},
   "outputs": [],
   "source": []
  }
 ],
 "metadata": {
  "kernelspec": {
   "display_name": "Python 3",
   "language": "python",
   "name": "python3"
  },
  "language_info": {
   "codemirror_mode": {
    "name": "ipython",
    "version": 3
   },
   "file_extension": ".py",
   "mimetype": "text/x-python",
   "name": "python",
   "nbconvert_exporter": "python",
   "pygments_lexer": "ipython3",
   "version": "3.8.5"
  }
 },
 "nbformat": 4,
 "nbformat_minor": 5
}

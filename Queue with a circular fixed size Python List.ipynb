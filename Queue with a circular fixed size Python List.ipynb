{
 "cells": [
  {
   "cell_type": "code",
   "execution_count": 97,
   "id": "8a467ad5-d38a-425b-8c5a-1cc18a9dc781",
   "metadata": {},
   "outputs": [],
   "source": [
    "class Circular_List_queue:\n",
    "    def __init__(self,size):\n",
    "        self.size= size\n",
    "        self.start,self.top=-1,-1\n",
    "        self.tree= [None]*self.size\n",
    "        \n",
    "    def __str__(self):\n",
    "        list_= [x for x in self.tree]\n",
    "        print(list_, end= '')\n",
    "        \n",
    "    def is_Full(self):\n",
    "        if self.top+1 == self.start:\n",
    "            print(\"The list is full\")\n",
    "            return True\n",
    "        elif self.start==0 and self.top == self.size-1:\n",
    "            print(\"The list is full\")\n",
    "            return True\n",
    "        else:\n",
    "            return False\n",
    "        \n",
    "    def isEmpty(self):\n",
    "        if self.start==-1 :\n",
    "#             print(\"Empty\")\n",
    "            return True\n",
    "        else:\n",
    "            return False\n",
    "        \n",
    "        \n",
    "    def dequeue(self):\n",
    "        if not self.isEmpty():\n",
    "            start= self.start\n",
    "            v = self.tree[start]\n",
    "            \n",
    "            \n",
    "            if self.top-1 ==-1:\n",
    "                self.start, self.top = -1,-1\n",
    "                \n",
    "            elif self.start +1== self.size:\n",
    "                self.start= 0\n",
    "            else:\n",
    "                self.start+=1\n",
    "            \n",
    "            self.tree[start]=None\n",
    "            return v\n",
    "        \n",
    "    def enqueue(self,val):\n",
    "        if not self.is_Full():\n",
    "            start= self.start\n",
    "            \n",
    "            if self.top==self.size-1:\n",
    "                self.top= 0\n",
    "            else:\n",
    "                self. top += 1\n",
    "                if self.start ==  -1:\n",
    "                    self.start += 1\n",
    "        self.tree[self.top]= val\n",
    "        \n"
   ]
  },
  {
   "cell_type": "code",
   "execution_count": 98,
   "id": "8cae97f9-c20a-45fa-872d-e06a008871c2",
   "metadata": {},
   "outputs": [],
   "source": [
    "q= Circular_List_queue(3)"
   ]
  },
  {
   "cell_type": "code",
   "execution_count": 99,
   "id": "760fc95f-3375-4225-85b4-fafca6bad607",
   "metadata": {},
   "outputs": [
    {
     "data": {
      "text/plain": [
       "[None, None, None]"
      ]
     },
     "execution_count": 99,
     "metadata": {},
     "output_type": "execute_result"
    }
   ],
   "source": [
    "q.tree"
   ]
  },
  {
   "cell_type": "code",
   "execution_count": 100,
   "id": "1a0f4748-17ce-4b90-bc7f-92776c3066ad",
   "metadata": {},
   "outputs": [
    {
     "data": {
      "text/plain": [
       "False"
      ]
     },
     "execution_count": 100,
     "metadata": {},
     "output_type": "execute_result"
    }
   ],
   "source": [
    "q.is_Full()"
   ]
  },
  {
   "cell_type": "code",
   "execution_count": 101,
   "id": "2db49bc4-d087-44ac-816f-6cfb63c593e3",
   "metadata": {},
   "outputs": [
    {
     "data": {
      "text/plain": [
       "-1"
      ]
     },
     "execution_count": 101,
     "metadata": {},
     "output_type": "execute_result"
    }
   ],
   "source": [
    "q.start"
   ]
  },
  {
   "cell_type": "code",
   "execution_count": 102,
   "id": "6dc9badf-a297-498a-a8ea-6d869c89ae9d",
   "metadata": {},
   "outputs": [
    {
     "data": {
      "text/plain": [
       "-1"
      ]
     },
     "execution_count": 102,
     "metadata": {},
     "output_type": "execute_result"
    }
   ],
   "source": [
    "q.top"
   ]
  },
  {
   "cell_type": "code",
   "execution_count": 103,
   "id": "9986a5fb-55ad-4468-8a17-41a332f90638",
   "metadata": {},
   "outputs": [
    {
     "data": {
      "text/plain": [
       "True"
      ]
     },
     "execution_count": 103,
     "metadata": {},
     "output_type": "execute_result"
    }
   ],
   "source": [
    "q.isEmpty()"
   ]
  },
  {
   "cell_type": "code",
   "execution_count": 104,
   "id": "6a7a0110-9be7-4375-a49c-30a163235f4a",
   "metadata": {},
   "outputs": [],
   "source": [
    "q.enqueue(3)"
   ]
  },
  {
   "cell_type": "code",
   "execution_count": 105,
   "id": "aa1158e6-d8ab-4a5c-b6b3-7282595785d2",
   "metadata": {},
   "outputs": [
    {
     "data": {
      "text/plain": [
       "False"
      ]
     },
     "execution_count": 105,
     "metadata": {},
     "output_type": "execute_result"
    }
   ],
   "source": [
    "q.isEmpty()"
   ]
  },
  {
   "cell_type": "code",
   "execution_count": 106,
   "id": "35b9350a-ab85-4ba0-8ce9-29021c2eac72",
   "metadata": {},
   "outputs": [],
   "source": [
    "q.enqueue(13)\n",
    "q.enqueue(31)"
   ]
  },
  {
   "cell_type": "code",
   "execution_count": 107,
   "id": "c2ec6b0c-b05f-4fd7-812f-046053e7acbb",
   "metadata": {},
   "outputs": [
    {
     "name": "stdout",
     "output_type": "stream",
     "text": [
      "The list is full\n"
     ]
    },
    {
     "data": {
      "text/plain": [
       "True"
      ]
     },
     "execution_count": 107,
     "metadata": {},
     "output_type": "execute_result"
    }
   ],
   "source": [
    "q.is_Full()"
   ]
  },
  {
   "cell_type": "code",
   "execution_count": 108,
   "id": "b5aa37a7-cd32-4b31-879a-2a76169f3519",
   "metadata": {},
   "outputs": [
    {
     "data": {
      "text/plain": [
       "3"
      ]
     },
     "execution_count": 108,
     "metadata": {},
     "output_type": "execute_result"
    }
   ],
   "source": [
    "q.size"
   ]
  },
  {
   "cell_type": "code",
   "execution_count": 109,
   "id": "a4268594-63fa-4c2a-b1eb-a24555b5bff1",
   "metadata": {},
   "outputs": [
    {
     "data": {
      "text/plain": [
       "2"
      ]
     },
     "execution_count": 109,
     "metadata": {},
     "output_type": "execute_result"
    }
   ],
   "source": [
    "q.top"
   ]
  },
  {
   "cell_type": "code",
   "execution_count": 110,
   "id": "6550789a-27cd-47ab-936a-25249398dc2b",
   "metadata": {},
   "outputs": [
    {
     "data": {
      "text/plain": [
       "0"
      ]
     },
     "execution_count": 110,
     "metadata": {},
     "output_type": "execute_result"
    }
   ],
   "source": [
    "q.start"
   ]
  },
  {
   "cell_type": "code",
   "execution_count": 111,
   "id": "014a95f6-145b-4575-88a5-a493d9047eb0",
   "metadata": {},
   "outputs": [
    {
     "name": "stdout",
     "output_type": "stream",
     "text": [
      "The list is full\n"
     ]
    },
    {
     "data": {
      "text/plain": [
       "True"
      ]
     },
     "execution_count": 111,
     "metadata": {},
     "output_type": "execute_result"
    }
   ],
   "source": [
    "q.is_Full()"
   ]
  },
  {
   "cell_type": "code",
   "execution_count": 112,
   "id": "52dbd886-7b45-4c3e-b02b-25d9e824dbb2",
   "metadata": {},
   "outputs": [
    {
     "data": {
      "text/plain": [
       "3"
      ]
     },
     "execution_count": 112,
     "metadata": {},
     "output_type": "execute_result"
    }
   ],
   "source": [
    "q.size"
   ]
  },
  {
   "cell_type": "code",
   "execution_count": 113,
   "id": "a99a1df5-b092-4730-937f-4325b6513cbc",
   "metadata": {},
   "outputs": [
    {
     "name": "stdout",
     "output_type": "stream",
     "text": [
      "The list is full\n"
     ]
    }
   ],
   "source": [
    "q.enqueue(4)"
   ]
  },
  {
   "cell_type": "code",
   "execution_count": null,
   "id": "32ad212d-f006-42db-a65e-b1ec99d37fd8",
   "metadata": {},
   "outputs": [],
   "source": []
  },
  {
   "cell_type": "code",
   "execution_count": 114,
   "id": "7272ae03-eb9a-4b3e-860d-ecffc053e813",
   "metadata": {},
   "outputs": [
    {
     "data": {
      "text/plain": [
       "3"
      ]
     },
     "execution_count": 114,
     "metadata": {},
     "output_type": "execute_result"
    }
   ],
   "source": [
    "q.dequeue()"
   ]
  },
  {
   "cell_type": "code",
   "execution_count": 115,
   "id": "60e725e7-9250-4b29-bdfe-62a040ae0d51",
   "metadata": {},
   "outputs": [
    {
     "data": {
      "text/plain": [
       "13"
      ]
     },
     "execution_count": 115,
     "metadata": {},
     "output_type": "execute_result"
    }
   ],
   "source": [
    "q.dequeue()"
   ]
  },
  {
   "cell_type": "code",
   "execution_count": 116,
   "id": "cf8ae7df-2d73-4f0e-a23f-1a57374f78bf",
   "metadata": {},
   "outputs": [
    {
     "data": {
      "text/plain": [
       "4"
      ]
     },
     "execution_count": 116,
     "metadata": {},
     "output_type": "execute_result"
    }
   ],
   "source": [
    "q.dequeue()"
   ]
  },
  {
   "cell_type": "code",
   "execution_count": 117,
   "id": "9db5cfda-2ace-4bdf-bb38-aa44902a2267",
   "metadata": {},
   "outputs": [],
   "source": [
    "q.dequeue()"
   ]
  },
  {
   "cell_type": "code",
   "execution_count": null,
   "id": "4592e946-d594-4396-aaa7-ab3feabf4697",
   "metadata": {},
   "outputs": [],
   "source": []
  }
 ],
 "metadata": {
  "kernelspec": {
   "display_name": "Python 3",
   "language": "python",
   "name": "python3"
  },
  "language_info": {
   "codemirror_mode": {
    "name": "ipython",
    "version": 3
   },
   "file_extension": ".py",
   "mimetype": "text/x-python",
   "name": "python",
   "nbconvert_exporter": "python",
   "pygments_lexer": "ipython3",
   "version": "3.8.5"
  }
 },
 "nbformat": 4,
 "nbformat_minor": 5
}

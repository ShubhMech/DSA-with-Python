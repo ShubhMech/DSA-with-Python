{
 "cells": [
  {
   "cell_type": "code",
   "execution_count": 144,
   "id": "6d422fa4-0506-4cd0-b80f-55e797cd6977",
   "metadata": {},
   "outputs": [],
   "source": [
    "arr1= [4]\n",
    "arr2=[3,4][::-1]\n",
    "arr3=[4,6,8]\n",
    "arr4= [55,44,66,77]\n",
    "arr5= [22,34,56,76,43][::-1]\n",
    "arr6= [1,4,6,8,0,5][::-1]\n",
    "arr= [arr1,arr2,arr3,arr4,arr5,arr6]"
   ]
  },
  {
   "cell_type": "code",
   "execution_count": 145,
   "id": "687e631c-b2f7-42b8-bef6-f1186e54409f",
   "metadata": {},
   "outputs": [
    {
     "data": {
      "text/plain": [
       "[[4],\n",
       " [4, 3],\n",
       " [4, 6, 8],\n",
       " [55, 44, 66, 77],\n",
       " [43, 76, 56, 34, 22],\n",
       " [5, 0, 8, 6, 4, 1]]"
      ]
     },
     "execution_count": 145,
     "metadata": {},
     "output_type": "execute_result"
    }
   ],
   "source": [
    "arr"
   ]
  },
  {
   "cell_type": "code",
   "execution_count": null,
   "id": "bba17b15-495c-4b96-aac1-d8813e60d6a6",
   "metadata": {},
   "outputs": [],
   "source": []
  },
  {
   "cell_type": "code",
   "execution_count": 146,
   "id": "60cadcc8-0444-4d51-a9df-0c1447d1f4a1",
   "metadata": {},
   "outputs": [],
   "source": [
    "arr11= arr.copy()"
   ]
  },
  {
   "cell_type": "code",
   "execution_count": 147,
   "id": "38e4523f-e26e-4592-94bf-33aecc034354",
   "metadata": {
    "tags": []
   },
   "outputs": [],
   "source": [
    "def afunc(arr11, n):\n",
    "    print(n)\n",
    "    print(\"\\n\\n\\n\")\n",
    "    if n>=0:\n",
    "#         print(arr)\n",
    "        print(arr11)\n",
    "        \n",
    "        for i in range(0,len(arr11[n])):\n",
    "            arr11[n][i]= max(arr11[n][i]+arr11[n+1][i],arr11[n][i]+arr11[n+1][i+1])\n",
    "#             print(arr11[n][i])\n",
    "        arr11.pop()\n",
    "        afunc(arr11,n=len(arr11)-2)\n",
    "\n",
    "    return max(arr11)"
   ]
  },
  {
   "cell_type": "code",
   "execution_count": 148,
   "id": "c83234da-b178-4601-b85d-0a612762b553",
   "metadata": {},
   "outputs": [
    {
     "name": "stdout",
     "output_type": "stream",
     "text": [
      "4\n",
      "\n",
      "\n",
      "\n",
      "\n",
      "[[4], [4, 3], [4, 6, 8], [55, 44, 66, 77], [43, 76, 56, 34, 22], [5, 0, 8, 6, 4, 1]]\n",
      "3\n",
      "\n",
      "\n",
      "\n",
      "\n",
      "[[4], [4, 3], [4, 6, 8], [55, 44, 66, 77], [48, 84, 64, 40, 26]]\n",
      "2\n",
      "\n",
      "\n",
      "\n",
      "\n",
      "[[4], [4, 3], [4, 6, 8], [139, 128, 130, 117]]\n",
      "1\n",
      "\n",
      "\n",
      "\n",
      "\n",
      "[[4], [4, 3], [143, 136, 138]]\n",
      "0\n",
      "\n",
      "\n",
      "\n",
      "\n",
      "[[4], [147, 141]]\n",
      "-1\n",
      "\n",
      "\n",
      "\n",
      "\n"
     ]
    },
    {
     "data": {
      "text/plain": [
       "[151]"
      ]
     },
     "execution_count": 148,
     "metadata": {},
     "output_type": "execute_result"
    }
   ],
   "source": [
    "afunc(arr11,len(arr11)-2)"
   ]
  },
  {
   "cell_type": "code",
   "execution_count": null,
   "id": "7dc98c43-8bf3-4256-a465-1db3c4a52483",
   "metadata": {},
   "outputs": [],
   "source": []
  },
  {
   "cell_type": "code",
   "execution_count": 149,
   "id": "331286ec-f0ca-4bba-b2c5-ec12866792cb",
   "metadata": {},
   "outputs": [],
   "source": [
    "arr1= [4]\n",
    "arr2=[3,4]\n",
    "arr3=[4,6,8]\n",
    "arr4= [55,44,66,77]\n",
    "arr5= [22,34,56,76,43]\n",
    "arr6= [1,4,6,8,0,5]\n",
    "\n",
    "arr= [arr1,arr2,arr3,arr4,arr5,arr6]"
   ]
  },
  {
   "cell_type": "code",
   "execution_count": 151,
   "id": "672c66d1-ec76-4b4d-a912-3e8a89dd4853",
   "metadata": {},
   "outputs": [
    {
     "name": "stdout",
     "output_type": "stream",
     "text": [
      "4\n",
      "\n",
      "\n",
      "\n",
      "\n",
      "[[4], [3, 4], [4, 6, 8], [55, 44, 66, 77], [22, 34, 56, 76, 43], [1, 4, 6, 8, 0, 5]]\n",
      "3\n",
      "\n",
      "\n",
      "\n",
      "\n",
      "[[4], [3, 4], [4, 6, 8], [55, 44, 66, 77], [26, 40, 64, 84, 48]]\n",
      "2\n",
      "\n",
      "\n",
      "\n",
      "\n",
      "[[4], [3, 4], [4, 6, 8], [95, 108, 150, 161]]\n",
      "1\n",
      "\n",
      "\n",
      "\n",
      "\n",
      "[[4], [3, 4], [112, 156, 169]]\n",
      "0\n",
      "\n",
      "\n",
      "\n",
      "\n",
      "[[4], [159, 173]]\n",
      "-1\n",
      "\n",
      "\n",
      "\n",
      "\n"
     ]
    },
    {
     "data": {
      "text/plain": [
       "[177]"
      ]
     },
     "execution_count": 151,
     "metadata": {},
     "output_type": "execute_result"
    }
   ],
   "source": [
    "arr11= arr.copy()\n",
    "afunc(arr11,len(arr11)-2)"
   ]
  },
  {
   "cell_type": "code",
   "execution_count": null,
   "id": "c272da69-f36a-472f-85fa-b33435dcdb8d",
   "metadata": {},
   "outputs": [],
   "source": []
  }
 ],
 "metadata": {
  "kernelspec": {
   "display_name": "Python 3",
   "language": "python",
   "name": "python3"
  },
  "language_info": {
   "codemirror_mode": {
    "name": "ipython",
    "version": 3
   },
   "file_extension": ".py",
   "mimetype": "text/x-python",
   "name": "python",
   "nbconvert_exporter": "python",
   "pygments_lexer": "ipython3",
   "version": "3.8.5"
  }
 },
 "nbformat": 4,
 "nbformat_minor": 5
}

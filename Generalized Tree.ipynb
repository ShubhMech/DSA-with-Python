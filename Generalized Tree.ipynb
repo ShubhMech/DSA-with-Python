{
 "cells": [
  {
   "cell_type": "code",
   "execution_count": 1,
   "id": "e27fa473-ae0c-4229-b723-5fcca921ec07",
   "metadata": {},
   "outputs": [],
   "source": [
    "class Tree:\n",
    "    def __init__(self, val,children=[]):\n",
    "        self.val= val\n",
    "        self.children=[]\n",
    "    def add_child(self, children):\n",
    "        self.children.append(children)"
   ]
  },
  {
   "cell_type": "code",
   "execution_count": 2,
   "id": "aa9f4d5b-0ec6-4b33-9e15-a64709de4af6",
   "metadata": {},
   "outputs": [],
   "source": [
    "root_node= Tree(\"Drinks\")"
   ]
  },
  {
   "cell_type": "code",
   "execution_count": 4,
   "id": "0024ded1-867b-440c-943a-68d907be7131",
   "metadata": {},
   "outputs": [
    {
     "data": {
      "text/plain": [
       "'Drinks'"
      ]
     },
     "execution_count": 4,
     "metadata": {},
     "output_type": "execute_result"
    }
   ],
   "source": [
    "root_node.val"
   ]
  },
  {
   "cell_type": "code",
   "execution_count": 6,
   "id": "24fca6fe-b104-4ba3-bc15-ed896d2d4359",
   "metadata": {},
   "outputs": [
    {
     "data": {
      "text/plain": [
       "[]"
      ]
     },
     "execution_count": 6,
     "metadata": {},
     "output_type": "execute_result"
    }
   ],
   "source": [
    "root_node.children"
   ]
  },
  {
   "cell_type": "code",
   "execution_count": 8,
   "id": "6399c706-d314-4be1-bf96-2673ca1a2242",
   "metadata": {},
   "outputs": [],
   "source": [
    "lev1_1= Tree(\"Hot\")\n",
    "lev1_2= Tree(\"Cold\")"
   ]
  },
  {
   "cell_type": "code",
   "execution_count": 9,
   "id": "54c72d4e-acfb-48c1-b0c9-fa203ef58b71",
   "metadata": {},
   "outputs": [],
   "source": [
    "root_node.add_child(lev1_1)\n",
    "root_node.add_child(lev1_2)"
   ]
  },
  {
   "cell_type": "code",
   "execution_count": 16,
   "id": "123d9609-e8b2-404c-be8d-f0768e67909b",
   "metadata": {},
   "outputs": [
    {
     "data": {
      "text/plain": [
       "'Hot'"
      ]
     },
     "execution_count": 16,
     "metadata": {},
     "output_type": "execute_result"
    }
   ],
   "source": [
    "root_node.children[0].val"
   ]
  },
  {
   "cell_type": "code",
   "execution_count": 17,
   "id": "76d0c00d-6c60-434a-ad1f-f6d4b7ce8a0b",
   "metadata": {},
   "outputs": [
    {
     "data": {
      "text/plain": [
       "'Cold'"
      ]
     },
     "execution_count": 17,
     "metadata": {},
     "output_type": "execute_result"
    }
   ],
   "source": [
    "root_node.children[1].val"
   ]
  },
  {
   "cell_type": "code",
   "execution_count": 18,
   "id": "87807a3f-fae9-44b9-b3c6-ab31be393707",
   "metadata": {},
   "outputs": [],
   "source": [
    "lev2_11= Tree(\"Tea\")\n",
    "lev2_12= Tree(\"Coffee\")\n",
    "lev2_21= Tree(\"Cold Drink\")\n",
    "lev2_22= Tree(\"Rooh-Afza\")"
   ]
  },
  {
   "cell_type": "markdown",
   "id": "5a7da86f-d757-4a62-91ea-bffebd44eb2e",
   "metadata": {},
   "source": [
    "# "
   ]
  },
  {
   "cell_type": "code",
   "execution_count": 20,
   "id": "e186f7ed-8846-449d-815f-fbe0ce1b3253",
   "metadata": {},
   "outputs": [],
   "source": [
    "lev1_1.add_child(lev2_11)\n",
    "lev1_1.add_child(lev2_12)"
   ]
  },
  {
   "cell_type": "code",
   "execution_count": 21,
   "id": "8d4bc16d-b3f5-478d-b8ab-051a4b8b161e",
   "metadata": {},
   "outputs": [],
   "source": [
    "lev1_2.add_child(lev2_21)\n",
    "lev1_2.add_child(lev2_22)"
   ]
  },
  {
   "cell_type": "code",
   "execution_count": 23,
   "id": "e2f3cf72-72f4-44e1-94bc-da0fd823059d",
   "metadata": {},
   "outputs": [
    {
     "data": {
      "text/plain": [
       "'Tea'"
      ]
     },
     "execution_count": 23,
     "metadata": {},
     "output_type": "execute_result"
    }
   ],
   "source": [
    "root_node.children[0].children[0].val"
   ]
  },
  {
   "cell_type": "code",
   "execution_count": 24,
   "id": "c2523657-fad0-4bf0-a123-e93bd626c30c",
   "metadata": {},
   "outputs": [
    {
     "data": {
      "text/plain": [
       "'Coffee'"
      ]
     },
     "execution_count": 24,
     "metadata": {},
     "output_type": "execute_result"
    }
   ],
   "source": [
    "root_node.children[0].children[1].val"
   ]
  },
  {
   "cell_type": "code",
   "execution_count": 25,
   "id": "4f1c3c8e-7d2e-4a31-9c24-d1101850484d",
   "metadata": {},
   "outputs": [
    {
     "data": {
      "text/plain": [
       "'Cold Drink'"
      ]
     },
     "execution_count": 25,
     "metadata": {},
     "output_type": "execute_result"
    }
   ],
   "source": [
    "root_node.children[1].children[0].val"
   ]
  },
  {
   "cell_type": "code",
   "execution_count": 26,
   "id": "24b4736b-51dc-46a3-b006-f20351776ffa",
   "metadata": {},
   "outputs": [
    {
     "data": {
      "text/plain": [
       "'Rooh-Afza'"
      ]
     },
     "execution_count": 26,
     "metadata": {},
     "output_type": "execute_result"
    }
   ],
   "source": [
    "root_node.children[1].children[1].val"
   ]
  },
  {
   "cell_type": "code",
   "execution_count": null,
   "id": "b0454986-63b3-490d-9e49-7e2982fe1ac8",
   "metadata": {},
   "outputs": [],
   "source": []
  }
 ],
 "metadata": {
  "kernelspec": {
   "display_name": "Python 3",
   "language": "python",
   "name": "python3"
  },
  "language_info": {
   "codemirror_mode": {
    "name": "ipython",
    "version": 3
   },
   "file_extension": ".py",
   "mimetype": "text/x-python",
   "name": "python",
   "nbconvert_exporter": "python",
   "pygments_lexer": "ipython3",
   "version": "3.8.5"
  }
 },
 "nbformat": 4,
 "nbformat_minor": 5
}

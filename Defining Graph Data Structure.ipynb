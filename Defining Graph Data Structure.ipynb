{
 "cells": [
  {
   "cell_type": "code",
   "execution_count": 14,
   "id": "f75ba0f8-0445-44ab-ad9d-dcaf2fd62dd7",
   "metadata": {},
   "outputs": [],
   "source": [
    "class Graph():\n",
    "    def __init__(self,dict={}):\n",
    "        self.dict = dict\n",
    "    \n",
    "    def insert_edge(self, vertex, node):\n",
    "        if vertex not in self.dict.keys():\n",
    "            self.dict[vertex] = []\n",
    "            \n",
    "        self.dict[vertex].append(node)\n",
    "            \n",
    "        \n",
    "        \n",
    "g = Graph()\n",
    "g.insert_edge('a','b')\n",
    "            "
   ]
  },
  {
   "cell_type": "code",
   "execution_count": 15,
   "id": "4a94f1cd-d996-4fd8-a715-111582c029e1",
   "metadata": {},
   "outputs": [
    {
     "data": {
      "text/plain": [
       "{'a': ['b']}"
      ]
     },
     "execution_count": 15,
     "metadata": {},
     "output_type": "execute_result"
    }
   ],
   "source": [
    "g.dict"
   ]
  },
  {
   "cell_type": "code",
   "execution_count": 16,
   "id": "f18a1644-33f1-41f5-bd7d-cfe795800f38",
   "metadata": {},
   "outputs": [],
   "source": [
    "g.insert_edge('a','c')"
   ]
  },
  {
   "cell_type": "code",
   "execution_count": 17,
   "id": "da2d045f-b645-4c6d-bad1-c92234b0b5bf",
   "metadata": {},
   "outputs": [
    {
     "data": {
      "text/plain": [
       "{'a': ['b', 'c']}"
      ]
     },
     "execution_count": 17,
     "metadata": {},
     "output_type": "execute_result"
    }
   ],
   "source": [
    "g.dict"
   ]
  },
  {
   "cell_type": "code",
   "execution_count": null,
   "id": "e68e61eb-8a47-428e-b42f-0c50464991c3",
   "metadata": {},
   "outputs": [],
   "source": []
  }
 ],
 "metadata": {
  "kernelspec": {
   "display_name": "Python 3",
   "language": "python",
   "name": "python3"
  },
  "language_info": {
   "codemirror_mode": {
    "name": "ipython",
    "version": 3
   },
   "file_extension": ".py",
   "mimetype": "text/x-python",
   "name": "python",
   "nbconvert_exporter": "python",
   "pygments_lexer": "ipython3",
   "version": "3.8.5"
  }
 },
 "nbformat": 4,
 "nbformat_minor": 5
}

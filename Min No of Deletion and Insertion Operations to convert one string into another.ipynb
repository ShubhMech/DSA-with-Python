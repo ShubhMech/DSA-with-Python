{
 "cells": [
  {
   "cell_type": "code",
   "execution_count": 151,
   "id": "240fb80b",
   "metadata": {},
   "outputs": [],
   "source": [
    "arr1 = [\"a\",\"b\",\"c\",\"d\",\"e\"]\n",
    "arr2 = [\"a\",\"b\",\"f\",\"d\",\"e\",\"t\"]\n",
    "\n",
    "res = []\n",
    "\n",
    "n = 5\n",
    "m = 6"
   ]
  },
  {
   "cell_type": "code",
   "execution_count": 152,
   "id": "6f4333eb",
   "metadata": {},
   "outputs": [],
   "source": [
    "table = [[-1 for x in range(n+1)] for y in range(m+1)]"
   ]
  },
  {
   "cell_type": "code",
   "execution_count": 153,
   "id": "aee3b94d",
   "metadata": {},
   "outputs": [],
   "source": [
    "def afunc(arr1,arr2,m,n,t, res):\n",
    "#     print(n,m)\n",
    "    if n<=0 or m<=0:\n",
    "        return 0\n",
    "    elif arr1[n-1] == arr2[m-1]:\n",
    "#         print(\"Yes\")\n",
    "#         res.append(arr1[n-1])\n",
    "        t[m][n] = 1 + afunc(arr1,arr2,m-1,n-1,t,res)\n",
    "        return t[m][n]\n",
    "    else:\n",
    "        t[m][n] = (max(afunc(arr1,arr2,m-1,n,t,res), afunc(arr1,arr2,m,n-1,t,res)))\n",
    "        \n",
    "        \n",
    "        return t[m][n]\n",
    "    \n",
    "    \n",
    "    print(\"Yes\")\n",
    "    return t[m][n]"
   ]
  },
  {
   "cell_type": "code",
   "execution_count": 154,
   "id": "cb23e077",
   "metadata": {},
   "outputs": [
    {
     "data": {
      "text/plain": [
       "4"
      ]
     },
     "execution_count": 154,
     "metadata": {},
     "output_type": "execute_result"
    }
   ],
   "source": [
    "afunc(arr1,arr2,m,n,table,res)"
   ]
  },
  {
   "cell_type": "code",
   "execution_count": 159,
   "id": "ea13cf13",
   "metadata": {},
   "outputs": [
    {
     "data": {
      "text/plain": [
       "1"
      ]
     },
     "execution_count": 159,
     "metadata": {},
     "output_type": "execute_result"
    }
   ],
   "source": [
    "len(arr1)-table[m][n]"
   ]
  },
  {
   "cell_type": "code",
   "execution_count": 160,
   "id": "181df825",
   "metadata": {},
   "outputs": [
    {
     "data": {
      "text/plain": [
       "2"
      ]
     },
     "execution_count": 160,
     "metadata": {},
     "output_type": "execute_result"
    }
   ],
   "source": [
    "len(arr2)-table[m][n]"
   ]
  },
  {
   "cell_type": "code",
   "execution_count": 148,
   "id": "3768e73d",
   "metadata": {},
   "outputs": [
    {
     "data": {
      "text/plain": [
       "6"
      ]
     },
     "execution_count": 148,
     "metadata": {},
     "output_type": "execute_result"
    }
   ],
   "source": [
    "m"
   ]
  },
  {
   "cell_type": "code",
   "execution_count": 86,
   "id": "e750be19",
   "metadata": {},
   "outputs": [
    {
     "data": {
      "text/plain": [
       "5"
      ]
     },
     "execution_count": 86,
     "metadata": {},
     "output_type": "execute_result"
    }
   ],
   "source": [
    "m"
   ]
  },
  {
   "cell_type": "code",
   "execution_count": 87,
   "id": "0021c478",
   "metadata": {},
   "outputs": [
    {
     "data": {
      "text/plain": [
       "4"
      ]
     },
     "execution_count": 87,
     "metadata": {},
     "output_type": "execute_result"
    }
   ],
   "source": [
    "table[m][n]"
   ]
  },
  {
   "cell_type": "code",
   "execution_count": 88,
   "id": "c3c37ff5",
   "metadata": {},
   "outputs": [],
   "source": [
    "t = table.copy()"
   ]
  },
  {
   "cell_type": "code",
   "execution_count": 89,
   "id": "4000b43b",
   "metadata": {},
   "outputs": [],
   "source": [
    "arr1 = [\"a\",\"b\",\"g\",\"e\"]\n",
    "arr2 = [\"a\",\"b\",\"d\",\"e\"]\n",
    "\n",
    "n = 4\n",
    "m = 4\n",
    "\n",
    "res = 0\n",
    "\n",
    "tt = [[0]*(n+1) for y in range(m+1)]\n",
    "\n",
    "s = []\n",
    "\n",
    "for i in range(n+1):\n",
    "    for j in range(m+1):\n",
    "               \n",
    "        if i == 0 or j == 0:\n",
    "\n",
    "            tt[i][j]= 0\n",
    "            \n",
    "        elif arr2[i-1] == arr1[j-1] :\n",
    "\n",
    "            tt[i][j] = tt[i-1][j-1] + 1\n",
    "            s.append(arr2[i-1])\n",
    "            res = max(res, tt[i][j])\n",
    "\n",
    "        else:\n",
    "\n",
    "            tt[i][j] = 0\n",
    "            "
   ]
  },
  {
   "cell_type": "code",
   "execution_count": 90,
   "id": "df5f06e8",
   "metadata": {},
   "outputs": [
    {
     "data": {
      "text/plain": [
       "[[0, 0, 0, 0, 0],\n",
       " [0, 1, 0, 0, 0],\n",
       " [0, 0, 2, 0, 0],\n",
       " [0, 0, 0, 0, 0],\n",
       " [0, 0, 0, 0, 1]]"
      ]
     },
     "execution_count": 90,
     "metadata": {},
     "output_type": "execute_result"
    }
   ],
   "source": [
    "tt"
   ]
  },
  {
   "cell_type": "code",
   "execution_count": 91,
   "id": "ef03f3fc",
   "metadata": {},
   "outputs": [
    {
     "data": {
      "text/plain": [
       "['a', 'b', 'g', 'e']"
      ]
     },
     "execution_count": 91,
     "metadata": {},
     "output_type": "execute_result"
    }
   ],
   "source": [
    "arr1"
   ]
  },
  {
   "cell_type": "code",
   "execution_count": 92,
   "id": "8ad815ad",
   "metadata": {},
   "outputs": [
    {
     "data": {
      "text/plain": [
       "['a', 'b', 'd', 'e']"
      ]
     },
     "execution_count": 92,
     "metadata": {},
     "output_type": "execute_result"
    }
   ],
   "source": [
    "arr2"
   ]
  },
  {
   "cell_type": "code",
   "execution_count": 93,
   "id": "2dc37626",
   "metadata": {},
   "outputs": [
    {
     "data": {
      "text/plain": [
       "['a', 'b', 'e']"
      ]
     },
     "execution_count": 93,
     "metadata": {},
     "output_type": "execute_result"
    }
   ],
   "source": [
    "s"
   ]
  },
  {
   "cell_type": "code",
   "execution_count": 94,
   "id": "282b292d",
   "metadata": {},
   "outputs": [],
   "source": [
    "lcs = \"\".join(s)"
   ]
  },
  {
   "cell_type": "code",
   "execution_count": 95,
   "id": "febd639d",
   "metadata": {},
   "outputs": [
    {
     "data": {
      "text/plain": [
       "'abe'"
      ]
     },
     "execution_count": 95,
     "metadata": {},
     "output_type": "execute_result"
    }
   ],
   "source": [
    "lcs"
   ]
  },
  {
   "cell_type": "code",
   "execution_count": 96,
   "id": "b9ee333b",
   "metadata": {},
   "outputs": [
    {
     "data": {
      "text/plain": [
       "[0, 1, 0, 0, 0]"
      ]
     },
     "execution_count": 96,
     "metadata": {},
     "output_type": "execute_result"
    }
   ],
   "source": [
    "max(tt)"
   ]
  },
  {
   "cell_type": "code",
   "execution_count": null,
   "id": "07313b37",
   "metadata": {},
   "outputs": [],
   "source": []
  },
  {
   "cell_type": "code",
   "execution_count": null,
   "id": "4200d59a",
   "metadata": {},
   "outputs": [],
   "source": []
  },
  {
   "cell_type": "code",
   "execution_count": 53,
   "id": "a5fea0c1",
   "metadata": {},
   "outputs": [
    {
     "data": {
      "text/plain": [
       "2"
      ]
     },
     "execution_count": 53,
     "metadata": {},
     "output_type": "execute_result"
    }
   ],
   "source": [
    "res"
   ]
  },
  {
   "cell_type": "code",
   "execution_count": null,
   "id": "55eec697",
   "metadata": {},
   "outputs": [],
   "source": []
  }
 ],
 "metadata": {
  "kernelspec": {
   "display_name": "Python 3",
   "language": "python",
   "name": "python3"
  },
  "language_info": {
   "codemirror_mode": {
    "name": "ipython",
    "version": 3
   },
   "file_extension": ".py",
   "mimetype": "text/x-python",
   "name": "python",
   "nbconvert_exporter": "python",
   "pygments_lexer": "ipython3",
   "version": "3.8.5"
  }
 },
 "nbformat": 4,
 "nbformat_minor": 5
}

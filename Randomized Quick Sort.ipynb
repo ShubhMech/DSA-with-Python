{
 "cells": [
  {
   "cell_type": "code",
   "execution_count": 35,
   "id": "d178cbee-a268-4e7e-9494-bd03b90b4c07",
   "metadata": {},
   "outputs": [],
   "source": [
    "def partition(arr,low,high):\n",
    "    i=low-1\n",
    "    pivot= arr[high]\n",
    "    for j in range(low,high):\n",
    "        if arr[j]<=pivot:\n",
    "            i +=1\n",
    "            arr[i],arr[j]=arr[j],arr[i]\n",
    "#             print(i)\n",
    "#             print(\"\\n\")\n",
    "        \n",
    "    arr[i+1],arr[high]=arr[high],arr[i+1]\n",
    "    \n",
    "    return (i+1)\n",
    "\n",
    "\n",
    "def randomised_pivot(arr,low,high):\n",
    "    import numpy as np\n",
    "    num= np.random.randint(low,high)\n",
    "    arr[num],arr[high]=arr[high],arr[num]\n",
    "    \n",
    "    return partition(arr,low,high)\n",
    "\n",
    "\n",
    "\n",
    "\n",
    "def quicksort(arr,low,high):\n",
    "#     print(len(arr))\n",
    "    if len(arr)==1:\n",
    "        print(arr)\n",
    "    if low<high:\n",
    "        pi= randomised_pivot(arr,low,high)\n",
    "        quicksort(arr,low,pi-1)\n",
    "        quicksort(arr,pi+1,high)\n",
    "        \n",
    "\n",
    "        \n",
    "        \n",
    "        \n",
    "        \n",
    "        \n",
    "        \n",
    "\n",
    "        \n",
    "\n"
   ]
  },
  {
   "cell_type": "code",
   "execution_count": null,
   "id": "4940b1e2-a408-4850-8686-4250eb229d64",
   "metadata": {},
   "outputs": [],
   "source": []
  },
  {
   "cell_type": "code",
   "execution_count": 38,
   "id": "24392fbb-ffac-4ae7-82b7-d6a61f9ef8fa",
   "metadata": {},
   "outputs": [],
   "source": [
    "arr = [10, 7, 8, 9, 1, 5]\n",
    "arr=[10,4,6,3,2,7,0,88,77,66,55,144,66,99,88,98,56,46,33,44,23,122,134,231,354,546,785,8905,8954,7543,86,84,45,58,87,89,95,98]\n",
    "# arr=[10,4,6,3,2,7,0,88,77,66,55,144]\n",
    "n = len(arr)\n",
    "quicksort(arr, 0, n-1)\n",
    "\n",
    " "
   ]
  },
  {
   "cell_type": "raw",
   "id": "d981a14d-21eb-41b8-b2aa-59b8dc711c6c",
   "metadata": {},
   "source": []
  },
  {
   "cell_type": "code",
   "execution_count": 39,
   "id": "cf1bb332-793f-47c4-abb9-b51fb8c37254",
   "metadata": {},
   "outputs": [
    {
     "name": "stdout",
     "output_type": "stream",
     "text": [
      "[0, 2, 3, 4, 6, 7, 10, 23, 33, 44, 45, 46, 55, 56, 58, 66, 66, 77, 84, 86, 87, 88, 88, 89, 95, 98, 98, 99, 122, 134, 144, 231, 354, 546, 785, 7543, 8905, 8954]"
     ]
    }
   ],
   "source": [
    "print(arr,end=\"\")"
   ]
  },
  {
   "cell_type": "code",
   "execution_count": 30,
   "id": "3f4f282c-ed30-4074-80eb-5e8236b517fb",
   "metadata": {},
   "outputs": [],
   "source": []
  },
  {
   "cell_type": "code",
   "execution_count": 25,
   "id": "256885b7-e15a-4b56-adbe-0eff457dfb9b",
   "metadata": {},
   "outputs": [],
   "source": []
  },
  {
   "cell_type": "code",
   "execution_count": null,
   "id": "f5b62a6d-f6b9-47e7-807c-28dc80569359",
   "metadata": {},
   "outputs": [],
   "source": []
  }
 ],
 "metadata": {
  "kernelspec": {
   "display_name": "Python 3",
   "language": "python",
   "name": "python3"
  },
  "language_info": {
   "codemirror_mode": {
    "name": "ipython",
    "version": 3
   },
   "file_extension": ".py",
   "mimetype": "text/x-python",
   "name": "python",
   "nbconvert_exporter": "python",
   "pygments_lexer": "ipython3",
   "version": "3.8.5"
  }
 },
 "nbformat": 4,
 "nbformat_minor": 5
}

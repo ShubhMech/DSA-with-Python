{
 "cells": [
  {
   "cell_type": "code",
   "execution_count": 14,
   "id": "d0d67aa9-f996-47f2-9003-56b4cc70dd00",
   "metadata": {},
   "outputs": [],
   "source": [
    "class Heap:\n",
    "    def __init__(self,size):\n",
    "        self.size= size+1\n",
    "        self.heap= [None]*self.size\n",
    "        self.last_index=0\n",
    "        \n",
    "    def peek(self):\n",
    "        if self.last_index !=0:\n",
    "            return self.heap[1]\n",
    "        \n",
    "    def size_of_heap(self):\n",
    "        return self.last_index\n",
    "    \n",
    "    def level_order(self):\n",
    "        for i in range(1,self.last_index):\n",
    "            print(self.heap[i])\n",
    "            \n",
    "    def heapify_insertion(self,heaptype,index):\n",
    "        if index <=1:\n",
    "            return\n",
    "        elif index>1 and heaptype==\"Min\":\n",
    "            p_index= index//2\n",
    "            if self.heap[p_index]> self.heap[index]:\n",
    "                self.heap[p_index], self.heap[index]= self.heap[index],self.heap[p_index]\n",
    "            heapify_insertion(self,heaptype,p_index)\n",
    "        else:\n",
    "            p_index= index//2\n",
    "            if self.heap[p_index]< self.heap[index]:\n",
    "                self.heap[p_index], self.heap[index]= self.heap[index],self.heap[p_index]\n",
    "            heapify_insertion(self,heaptype,p_index)"
   ]
  },
  {
   "cell_type": "code",
   "execution_count": 15,
   "id": "09d2ce20-bbd2-4cf8-b0a2-15ccdd782c08",
   "metadata": {},
   "outputs": [],
   "source": [
    "h=Heap(5)"
   ]
  },
  {
   "cell_type": "code",
   "execution_count": 16,
   "id": "86d3f1d7-e6bf-4a0b-acbb-04115881fc5c",
   "metadata": {},
   "outputs": [
    {
     "data": {
      "text/plain": [
       "6"
      ]
     },
     "execution_count": 16,
     "metadata": {},
     "output_type": "execute_result"
    }
   ],
   "source": [
    "h.size"
   ]
  },
  {
   "cell_type": "code",
   "execution_count": 17,
   "id": "b162370d-eddb-4359-b0bc-ea49c3976c12",
   "metadata": {},
   "outputs": [
    {
     "data": {
      "text/plain": [
       "[None, None, None, None, None, None]"
      ]
     },
     "execution_count": 17,
     "metadata": {},
     "output_type": "execute_result"
    }
   ],
   "source": [
    "h.heap"
   ]
  },
  {
   "cell_type": "code",
   "execution_count": 18,
   "id": "f48d6550-b585-4498-bb89-d25a26b3a55a",
   "metadata": {},
   "outputs": [],
   "source": [
    "h.peek()"
   ]
  },
  {
   "cell_type": "code",
   "execution_count": 19,
   "id": "3babbc38-0de6-4bdf-a084-3da551e3064a",
   "metadata": {},
   "outputs": [
    {
     "data": {
      "text/plain": [
       "0"
      ]
     },
     "execution_count": 19,
     "metadata": {},
     "output_type": "execute_result"
    }
   ],
   "source": [
    "h.size_of_heap()"
   ]
  },
  {
   "cell_type": "code",
   "execution_count": 20,
   "id": "1dcf833a-3977-427a-8df3-8853db9246b1",
   "metadata": {},
   "outputs": [],
   "source": [
    "h.level_order()"
   ]
  },
  {
   "cell_type": "code",
   "execution_count": null,
   "id": "0f7a6e3f-6bdb-4f4d-ba52-678d37214010",
   "metadata": {},
   "outputs": [],
   "source": []
  }
 ],
 "metadata": {
  "kernelspec": {
   "display_name": "Python 3",
   "language": "python",
   "name": "python3"
  },
  "language_info": {
   "codemirror_mode": {
    "name": "ipython",
    "version": 3
   },
   "file_extension": ".py",
   "mimetype": "text/x-python",
   "name": "python",
   "nbconvert_exporter": "python",
   "pygments_lexer": "ipython3",
   "version": "3.8.5"
  }
 },
 "nbformat": 4,
 "nbformat_minor": 5
}

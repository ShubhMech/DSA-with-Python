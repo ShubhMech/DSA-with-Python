{
 "cells": [
  {
   "cell_type": "code",
   "execution_count": 102,
   "id": "cd358687-13cc-4f93-9153-77cd3329734d",
   "metadata": {},
   "outputs": [],
   "source": [
    "class Heap:\n",
    "    def __init__(self,size):\n",
    "        self.size= size+1\n",
    "        self.heap= [None]*self.size\n",
    "        self.last_index=0\n",
    "        \n",
    "    def peek(self):\n",
    "        if self.last_index !=0:\n",
    "            return self.heap[1]\n",
    "        \n",
    "    def size_of_heap(self):\n",
    "        return self.last_index\n",
    "    \n",
    "    def level_order(self):\n",
    "        for i in range(1,self.last_index):\n",
    "            print(self.heap[i])\n",
    "            \n",
    "    def heapify_insertion(self,heaptype,index):\n",
    "        print(self.heap)\n",
    "        if index <=1:\n",
    "            return\n",
    "        elif index>1 and heaptype==\"Min\":\n",
    "            p_index= index//2\n",
    "            if self.heap[p_index]> self.heap[index]:\n",
    "                self.heap[p_index], self.heap[index]= self.heap[index],self.heap[p_index]\n",
    "            self.heapify_insertion(heaptype,p_index)\n",
    "        elif heaptype==\"Max\":\n",
    "            p_index= index//2\n",
    "            if self.heap[p_index]< self.heap[index]:\n",
    "                self.heap[p_index], self.heap[index]= self.heap[index],self.heap[p_index]\n",
    "            self.heapify_insertion(heaptype,p_index)\n",
    "            \n",
    "    def insert(self,val,heaptype):\n",
    "        if self.last_index +1 == self.size:\n",
    "            return \"Bhak\"\n",
    "        else:\n",
    "            self.heap[self.last_index+1] = val\n",
    "            self.last_index += 1\n",
    "            self.heapify_insertion(heaptype,self.last_index)\n",
    "            \n",
    "    def del_heap(self):\n",
    "        self.heap= [None]*self.size\n",
    "        self.last_index= 0\n",
    "        \n",
    "    \n",
    "    def heapify(self, index):\n",
    "        left = 2*index\n",
    "        right= 2*index +1\n",
    "        \n",
    "        print(\"The left and the right indices are: \", left, right)\n",
    "        print(\"The last used index is :\", self.last_index\n",
    "             )\n",
    "\n",
    "        \n",
    "        if self.last_index == left:\n",
    "            print(\"True\")\n",
    "            print(self.heap[left]> self.heap[index])\n",
    "            if self.heap[left] > self.heap[index]:\n",
    "                print(self.heap[left], self.heap[index])\n",
    "                self.heap[left], self.heap[index]= self.heap[index], self.heap[left]\n",
    "                print(self.heap[left], self.heap[index])\n",
    "                return\n",
    "        else:\n",
    "            if right <= self.last_index:\n",
    "                if self.heap[left]>self.heap[right]:\n",
    "                    swap= left\n",
    "\n",
    "                else:\n",
    "                    swap= right\n",
    "\n",
    "                if self.heap[index]< swap:\n",
    "                    self.heap[index], self.heap[swap]= self.heap[swap], self.heap[index]\n",
    "\n",
    "                print(\"The heap has now become :\", self.heap)\n",
    "                print(\"Swap is :\", swap)\n",
    "                self.heapify(swap)\n",
    "\n",
    "#             elif left <= self.last_index:\n",
    "                \n",
    "    \n",
    "    \n",
    "    def heapsort(self):\n",
    "        \n",
    "        while self.last_index>1:\n",
    "            temp = self.heap[1] \n",
    "            print(\"The largest element is: \", self.heap[1])\n",
    "            self.heap[1]= self.heap[self.last_index]\n",
    "            self.heap[self.last_index]= temp\n",
    "            self.last_index -= 1\n",
    "            print(\"The heap is now :\", self.heap)\n",
    "            print(\"The last used index is: \", self.last_index)\n",
    "            print(\"\\n\\n\\n\")\n",
    "            self.heapify(1)\n",
    "            \n",
    "            "
   ]
  },
  {
   "cell_type": "code",
   "execution_count": null,
   "id": "293967bc-2d17-4b6d-8d16-439e4d8d987d",
   "metadata": {},
   "outputs": [],
   "source": []
  },
  {
   "cell_type": "code",
   "execution_count": 103,
   "id": "b2d4c5c8-f644-4d2a-9c76-adce6318dc2a",
   "metadata": {
    "tags": []
   },
   "outputs": [],
   "source": [
    "h=Heap(10)"
   ]
  },
  {
   "cell_type": "code",
   "execution_count": 104,
   "id": "ada0eb7e-93f7-48f6-8002-c0a66cb6cd65",
   "metadata": {},
   "outputs": [
    {
     "data": {
      "text/plain": [
       "11"
      ]
     },
     "execution_count": 104,
     "metadata": {},
     "output_type": "execute_result"
    }
   ],
   "source": [
    "h.size"
   ]
  },
  {
   "cell_type": "code",
   "execution_count": 105,
   "id": "53473376-3f50-4c27-b4b0-be3a2c0462ac",
   "metadata": {},
   "outputs": [
    {
     "data": {
      "text/plain": [
       "[None, None, None, None, None, None, None, None, None, None, None]"
      ]
     },
     "execution_count": 105,
     "metadata": {},
     "output_type": "execute_result"
    }
   ],
   "source": [
    "h.heap"
   ]
  },
  {
   "cell_type": "code",
   "execution_count": 106,
   "id": "b8031879-8816-48d6-b685-fae5de774d39",
   "metadata": {},
   "outputs": [],
   "source": [
    "h.peek()"
   ]
  },
  {
   "cell_type": "code",
   "execution_count": 107,
   "id": "f124b7bd-afee-427a-95f7-3acbe3e5ca0c",
   "metadata": {},
   "outputs": [
    {
     "data": {
      "text/plain": [
       "0"
      ]
     },
     "execution_count": 107,
     "metadata": {},
     "output_type": "execute_result"
    }
   ],
   "source": [
    "h.size_of_heap()"
   ]
  },
  {
   "cell_type": "code",
   "execution_count": 108,
   "id": "b2080768-635f-4d6b-897a-1fdbb9212ac8",
   "metadata": {},
   "outputs": [],
   "source": [
    "h.level_order()"
   ]
  },
  {
   "cell_type": "code",
   "execution_count": 109,
   "id": "6aa65dc9-c6bf-4e67-92ff-0b1757794ebd",
   "metadata": {},
   "outputs": [
    {
     "name": "stdout",
     "output_type": "stream",
     "text": [
      "[None, 5, None, None, None, None, None, None, None, None, None]\n"
     ]
    }
   ],
   "source": [
    "h.insert(5,\"Max\")"
   ]
  },
  {
   "cell_type": "code",
   "execution_count": 110,
   "id": "e4d6f42e-eb35-42ed-8b63-55def53d64de",
   "metadata": {},
   "outputs": [
    {
     "data": {
      "text/plain": [
       "1"
      ]
     },
     "execution_count": 110,
     "metadata": {},
     "output_type": "execute_result"
    }
   ],
   "source": [
    "h.size_of_heap()"
   ]
  },
  {
   "cell_type": "code",
   "execution_count": 111,
   "id": "3517287c-7693-4f72-a745-af421606cbad",
   "metadata": {},
   "outputs": [
    {
     "data": {
      "text/plain": [
       "[None, 5, None, None, None, None, None, None, None, None, None]"
      ]
     },
     "execution_count": 111,
     "metadata": {},
     "output_type": "execute_result"
    }
   ],
   "source": [
    "h.heap"
   ]
  },
  {
   "cell_type": "code",
   "execution_count": 112,
   "id": "cfc849a4-7b3b-4985-b106-0346d7a83f81",
   "metadata": {},
   "outputs": [
    {
     "name": "stdout",
     "output_type": "stream",
     "text": [
      "[None, 5, 4, None, None, None, None, None, None, None, None]\n",
      "[None, 5, 4, None, None, None, None, None, None, None, None]\n"
     ]
    }
   ],
   "source": [
    "h.insert(4,\"Max\")"
   ]
  },
  {
   "cell_type": "code",
   "execution_count": 113,
   "id": "18dffd38-b075-4597-bbc6-0531616b19ba",
   "metadata": {},
   "outputs": [
    {
     "data": {
      "text/plain": [
       "[None, 5, 4, None, None, None, None, None, None, None, None]"
      ]
     },
     "execution_count": 113,
     "metadata": {},
     "output_type": "execute_result"
    }
   ],
   "source": [
    "h.heap"
   ]
  },
  {
   "cell_type": "code",
   "execution_count": 114,
   "id": "2cfe8c03-9ec0-45f1-b50f-2eed4e93ef11",
   "metadata": {},
   "outputs": [
    {
     "name": "stdout",
     "output_type": "stream",
     "text": [
      "[None, 5, 4, 14, None, None, None, None, None, None, None]\n",
      "[None, 14, 4, 5, None, None, None, None, None, None, None]\n"
     ]
    }
   ],
   "source": [
    "h.insert(14,\"Max\")"
   ]
  },
  {
   "cell_type": "code",
   "execution_count": 115,
   "id": "2eef82d5-20ad-4f63-be22-15b6aca8190f",
   "metadata": {},
   "outputs": [
    {
     "data": {
      "text/plain": [
       "[None, 14, 4, 5, None, None, None, None, None, None, None]"
      ]
     },
     "execution_count": 115,
     "metadata": {},
     "output_type": "execute_result"
    }
   ],
   "source": [
    "h.heap"
   ]
  },
  {
   "cell_type": "code",
   "execution_count": 116,
   "id": "1d921896-264e-4219-b7da-a4218c2971e6",
   "metadata": {},
   "outputs": [
    {
     "name": "stdout",
     "output_type": "stream",
     "text": [
      "[None, 14, 4, 5, 25, None, None, None, None, None, None]\n",
      "[None, 14, 25, 5, 4, None, None, None, None, None, None]\n",
      "[None, 25, 14, 5, 4, None, None, None, None, None, None]\n"
     ]
    }
   ],
   "source": [
    "h.insert(25,\"Max\")"
   ]
  },
  {
   "cell_type": "code",
   "execution_count": 117,
   "id": "1a4765ba-e6c0-4acf-8987-29c4a9ad423c",
   "metadata": {},
   "outputs": [
    {
     "name": "stdout",
     "output_type": "stream",
     "text": [
      "[None, 25, 14, 5, 4, 1, None, None, None, None, None]\n",
      "[None, 25, 14, 5, 4, 1, None, None, None, None, None]\n",
      "[None, 25, 14, 5, 4, 1, None, None, None, None, None]\n"
     ]
    }
   ],
   "source": [
    "h.insert(1,\"Max\")\n"
   ]
  },
  {
   "cell_type": "code",
   "execution_count": 118,
   "id": "ffbb21dc-5ab3-4cb8-abd9-d6641b1d8dd7",
   "metadata": {},
   "outputs": [
    {
     "name": "stdout",
     "output_type": "stream",
     "text": [
      "[None, 25, 14, 5, 4, 1, 33, None, None, None, None]\n",
      "[None, 25, 14, 33, 4, 1, 5, None, None, None, None]\n",
      "[None, 33, 14, 25, 4, 1, 5, None, None, None, None]\n"
     ]
    }
   ],
   "source": [
    "h.insert(33,\"Max\")"
   ]
  },
  {
   "cell_type": "code",
   "execution_count": 119,
   "id": "276f7bb2-7a0b-4dc3-8703-3cc54771063b",
   "metadata": {},
   "outputs": [
    {
     "name": "stdout",
     "output_type": "stream",
     "text": [
      "[None, 33, 14, 25, 4, 1, 5, 313, None, None, None]\n",
      "[None, 33, 14, 313, 4, 1, 5, 25, None, None, None]\n",
      "[None, 313, 14, 33, 4, 1, 5, 25, None, None, None]\n"
     ]
    }
   ],
   "source": [
    "h.insert(313,\"Max\")"
   ]
  },
  {
   "cell_type": "code",
   "execution_count": 120,
   "id": "9fa648dd-c462-435b-80e8-12b9a4600cf3",
   "metadata": {},
   "outputs": [
    {
     "name": "stdout",
     "output_type": "stream",
     "text": [
      "[None, 313, 14, 33, 4, 1, 5, 25, 133, None, None]\n",
      "[None, 313, 14, 33, 133, 1, 5, 25, 4, None, None]\n",
      "[None, 313, 133, 33, 14, 1, 5, 25, 4, None, None]\n",
      "[None, 313, 133, 33, 14, 1, 5, 25, 4, None, None]\n"
     ]
    }
   ],
   "source": [
    "h.insert(133,\"Max\")"
   ]
  },
  {
   "cell_type": "code",
   "execution_count": 121,
   "id": "ac776bec-1e5c-408b-9ecf-7aa58aed47ba",
   "metadata": {},
   "outputs": [
    {
     "name": "stdout",
     "output_type": "stream",
     "text": [
      "[None, 313, 133, 33, 14, 1, 5, 25, 4, 303, None]\n",
      "[None, 313, 133, 33, 303, 1, 5, 25, 4, 14, None]\n",
      "[None, 313, 303, 33, 133, 1, 5, 25, 4, 14, None]\n",
      "[None, 313, 303, 33, 133, 1, 5, 25, 4, 14, None]\n"
     ]
    }
   ],
   "source": [
    "h.insert(303,\"Max\")"
   ]
  },
  {
   "cell_type": "code",
   "execution_count": 122,
   "id": "8f516a6d-b0fb-49dd-8f81-afb7b4bc27b9",
   "metadata": {},
   "outputs": [
    {
     "name": "stdout",
     "output_type": "stream",
     "text": [
      "[None, 313, 303, 33, 133, 1, 5, 25, 4, 14, 3.3]\n",
      "[None, 313, 303, 33, 133, 3.3, 5, 25, 4, 14, 1]\n",
      "[None, 313, 303, 33, 133, 3.3, 5, 25, 4, 14, 1]\n",
      "[None, 313, 303, 33, 133, 3.3, 5, 25, 4, 14, 1]\n"
     ]
    }
   ],
   "source": [
    "h.insert(3.3,\"Max\")"
   ]
  },
  {
   "cell_type": "code",
   "execution_count": 123,
   "id": "53612861-e148-489c-925e-45a68e0f4f0e",
   "metadata": {},
   "outputs": [],
   "source": [
    "# h.heap_extract(2,heap_type=\"Max\")\n"
   ]
  },
  {
   "cell_type": "code",
   "execution_count": 124,
   "id": "aeb83970-54b2-4c35-a82c-aacd2be6fac3",
   "metadata": {},
   "outputs": [
    {
     "data": {
      "text/plain": [
       "[None, 313, 303, 33, 133, 3.3, 5, 25, 4, 14, 1]"
      ]
     },
     "execution_count": 124,
     "metadata": {},
     "output_type": "execute_result"
    }
   ],
   "source": [
    "h.heap"
   ]
  },
  {
   "cell_type": "code",
   "execution_count": 125,
   "id": "92f8049e-0aad-4ffe-ab32-c4ea01362f71",
   "metadata": {},
   "outputs": [
    {
     "name": "stdout",
     "output_type": "stream",
     "text": [
      "The largest element is:  313\n",
      "The heap is now : [None, 1, 303, 33, 133, 3.3, 5, 25, 4, 14, 313]\n",
      "The last used index is:  9\n",
      "\n",
      "\n",
      "\n",
      "\n",
      "The left and the right indices are:  2 3\n",
      "The last used index is : 9\n",
      "The heap has now become : [None, 303, 1, 33, 133, 3.3, 5, 25, 4, 14, 313]\n",
      "Swap is : 2\n",
      "The left and the right indices are:  4 5\n",
      "The last used index is : 9\n",
      "The heap has now become : [None, 303, 133, 33, 1, 3.3, 5, 25, 4, 14, 313]\n",
      "Swap is : 4\n",
      "The left and the right indices are:  8 9\n",
      "The last used index is : 9\n",
      "The heap has now become : [None, 303, 133, 33, 14, 3.3, 5, 25, 4, 1, 313]\n",
      "Swap is : 9\n",
      "The left and the right indices are:  18 19\n",
      "The last used index is : 9\n",
      "The largest element is:  303\n",
      "The heap is now : [None, 1, 133, 33, 14, 3.3, 5, 25, 4, 303, 313]\n",
      "The last used index is:  8\n",
      "\n",
      "\n",
      "\n",
      "\n",
      "The left and the right indices are:  2 3\n",
      "The last used index is : 8\n",
      "The heap has now become : [None, 133, 1, 33, 14, 3.3, 5, 25, 4, 303, 313]\n",
      "Swap is : 2\n",
      "The left and the right indices are:  4 5\n",
      "The last used index is : 8\n",
      "The heap has now become : [None, 133, 14, 33, 1, 3.3, 5, 25, 4, 303, 313]\n",
      "Swap is : 4\n",
      "The left and the right indices are:  8 9\n",
      "The last used index is : 8\n",
      "True\n",
      "True\n",
      "4 1\n",
      "1 4\n",
      "The largest element is:  133\n",
      "The heap is now : [None, 1, 14, 33, 4, 3.3, 5, 25, 133, 303, 313]\n",
      "The last used index is:  7\n",
      "\n",
      "\n",
      "\n",
      "\n",
      "The left and the right indices are:  2 3\n",
      "The last used index is : 7\n",
      "The heap has now become : [None, 33, 14, 1, 4, 3.3, 5, 25, 133, 303, 313]\n",
      "Swap is : 3\n",
      "The left and the right indices are:  6 7\n",
      "The last used index is : 7\n",
      "The heap has now become : [None, 33, 14, 25, 4, 3.3, 5, 1, 133, 303, 313]\n",
      "Swap is : 7\n",
      "The left and the right indices are:  14 15\n",
      "The last used index is : 7\n",
      "The largest element is:  33\n",
      "The heap is now : [None, 1, 14, 25, 4, 3.3, 5, 33, 133, 303, 313]\n",
      "The last used index is:  6\n",
      "\n",
      "\n",
      "\n",
      "\n",
      "The left and the right indices are:  2 3\n",
      "The last used index is : 6\n",
      "The heap has now become : [None, 25, 14, 1, 4, 3.3, 5, 33, 133, 303, 313]\n",
      "Swap is : 3\n",
      "The left and the right indices are:  6 7\n",
      "The last used index is : 6\n",
      "True\n",
      "True\n",
      "5 1\n",
      "1 5\n",
      "The largest element is:  25\n",
      "The heap is now : [None, 1, 14, 5, 4, 3.3, 25, 33, 133, 303, 313]\n",
      "The last used index is:  5\n",
      "\n",
      "\n",
      "\n",
      "\n",
      "The left and the right indices are:  2 3\n",
      "The last used index is : 5\n",
      "The heap has now become : [None, 14, 1, 5, 4, 3.3, 25, 33, 133, 303, 313]\n",
      "Swap is : 2\n",
      "The left and the right indices are:  4 5\n",
      "The last used index is : 5\n",
      "The heap has now become : [None, 14, 4, 5, 1, 3.3, 25, 33, 133, 303, 313]\n",
      "Swap is : 4\n",
      "The left and the right indices are:  8 9\n",
      "The last used index is : 5\n",
      "The largest element is:  14\n",
      "The heap is now : [None, 3.3, 4, 5, 1, 14, 25, 33, 133, 303, 313]\n",
      "The last used index is:  4\n",
      "\n",
      "\n",
      "\n",
      "\n",
      "The left and the right indices are:  2 3\n",
      "The last used index is : 4\n",
      "The heap has now become : [None, 3.3, 4, 5, 1, 14, 25, 33, 133, 303, 313]\n",
      "Swap is : 3\n",
      "The left and the right indices are:  6 7\n",
      "The last used index is : 4\n",
      "The largest element is:  3.3\n",
      "The heap is now : [None, 1, 4, 5, 3.3, 14, 25, 33, 133, 303, 313]\n",
      "The last used index is:  3\n",
      "\n",
      "\n",
      "\n",
      "\n",
      "The left and the right indices are:  2 3\n",
      "The last used index is : 3\n",
      "The heap has now become : [None, 5, 4, 1, 3.3, 14, 25, 33, 133, 303, 313]\n",
      "Swap is : 3\n",
      "The left and the right indices are:  6 7\n",
      "The last used index is : 3\n",
      "The largest element is:  5\n",
      "The heap is now : [None, 1, 4, 5, 3.3, 14, 25, 33, 133, 303, 313]\n",
      "The last used index is:  2\n",
      "\n",
      "\n",
      "\n",
      "\n",
      "The left and the right indices are:  2 3\n",
      "The last used index is : 2\n",
      "True\n",
      "True\n",
      "4 1\n",
      "1 4\n",
      "The largest element is:  4\n",
      "The heap is now : [None, 1, 4, 5, 3.3, 14, 25, 33, 133, 303, 313]\n",
      "The last used index is:  1\n",
      "\n",
      "\n",
      "\n",
      "\n",
      "The left and the right indices are:  2 3\n",
      "The last used index is : 1\n"
     ]
    }
   ],
   "source": [
    "h.heapsort()"
   ]
  },
  {
   "cell_type": "code",
   "execution_count": 126,
   "id": "f5bf31a4-6602-411e-b03a-2666644e9fbf",
   "metadata": {},
   "outputs": [
    {
     "data": {
      "text/plain": [
       "[None, 1, 4, 5, 3.3, 14, 25, 33, 133, 303, 313]"
      ]
     },
     "execution_count": 126,
     "metadata": {},
     "output_type": "execute_result"
    }
   ],
   "source": [
    "h.heap"
   ]
  },
  {
   "cell_type": "code",
   "execution_count": null,
   "id": "ead9cb2e-7900-40c4-a191-1b5468331ff8",
   "metadata": {},
   "outputs": [],
   "source": []
  },
  {
   "cell_type": "code",
   "execution_count": null,
   "id": "c2060049-7340-4c75-a636-b5bc48003af9",
   "metadata": {},
   "outputs": [],
   "source": []
  },
  {
   "cell_type": "code",
   "execution_count": 5,
   "id": "a9afd7c4-67cf-42a5-93d4-23c08080fde8",
   "metadata": {},
   "outputs": [],
   "source": [
    "def insertion(arr):\n",
    "    for i in range(1,len(arr)):\n",
    "        j= i-1\n",
    "        k_o= arr[i]\n",
    "        while j>=0 and k_o<arr[j]:\n",
    "            arr[j+1]= arr[j]\n",
    "            j -= 1\n",
    "        arr[j+1]=k_o\n",
    "        "
   ]
  },
  {
   "cell_type": "code",
   "execution_count": 12,
   "id": "a13fc82f-8f69-46ad-8563-bbe754b341a0",
   "metadata": {},
   "outputs": [],
   "source": [
    "arr=[1,4,3,2,3,5,6,8,8,5,4,3,2,1]"
   ]
  },
  {
   "cell_type": "code",
   "execution_count": 7,
   "id": "3e1a1daf-bf17-4196-9714-ec3dfb221818",
   "metadata": {},
   "outputs": [],
   "source": [
    "insertion(arr)"
   ]
  },
  {
   "cell_type": "code",
   "execution_count": 8,
   "id": "c4404556-b956-4bd9-9d53-2583913b8c54",
   "metadata": {},
   "outputs": [
    {
     "data": {
      "text/plain": [
       "[1, 1, 2, 2, 3, 3, 3, 4, 4, 5, 5, 6, 8, 8]"
      ]
     },
     "execution_count": 8,
     "metadata": {},
     "output_type": "execute_result"
    }
   ],
   "source": [
    "arr"
   ]
  },
  {
   "cell_type": "code",
   "execution_count": null,
   "id": "ebc56c8f-cdd9-4bca-a4aa-bd5ecd391a8e",
   "metadata": {},
   "outputs": [],
   "source": []
  },
  {
   "cell_type": "code",
   "execution_count": 13,
   "id": "8f4ba445-8a8c-498b-8748-53fc09b6b045",
   "metadata": {},
   "outputs": [],
   "source": [
    "def bubble_sort(arr):\n",
    "    for i in range(len(arr)):\n",
    "        for j in range(i+1, len(arr)):\n",
    "            if arr[i]>arr[j]:\n",
    "                arr[i] , arr[j]= arr[j], arr[i]"
   ]
  },
  {
   "cell_type": "code",
   "execution_count": 14,
   "id": "2083833b-11d6-49f7-92e3-5bb6582e1223",
   "metadata": {},
   "outputs": [],
   "source": [
    "bubble_sort(arr)"
   ]
  },
  {
   "cell_type": "code",
   "execution_count": 15,
   "id": "7b9cd107-2939-4cc1-a889-b98f9ced9e58",
   "metadata": {},
   "outputs": [
    {
     "data": {
      "text/plain": [
       "[1, 1, 2, 2, 3, 3, 3, 4, 4, 5, 5, 6, 8, 8]"
      ]
     },
     "execution_count": 15,
     "metadata": {},
     "output_type": "execute_result"
    }
   ],
   "source": [
    "arr"
   ]
  },
  {
   "cell_type": "code",
   "execution_count": null,
   "id": "59338cff-68fa-4f3d-aac6-abddfd72a7fe",
   "metadata": {},
   "outputs": [],
   "source": []
  },
  {
   "cell_type": "code",
   "execution_count": null,
   "id": "ae0f8ba3-9cd0-41f7-9182-a904e81c4ced",
   "metadata": {},
   "outputs": [],
   "source": []
  },
  {
   "cell_type": "code",
   "execution_count": 16,
   "id": "4dee2be9-6005-4613-8723-fc64021b45f9",
   "metadata": {},
   "outputs": [
    {
     "name": "stdout",
     "output_type": "stream",
     "text": [
      "input array: [12, 34, 54, 2, 3]\n",
      "sorted array [2, 3, 12, 34, 54]\n"
     ]
    }
   ],
   "source": [
    "def shellSort(arr):\n",
    "\tgap = len(arr) // 2 \n",
    "\twhile gap > 0:\n",
    "\t\ti = 0\n",
    "\t\tj = gap\n",
    "\n",
    "\t\twhile j < len(arr):\n",
    "\t\n",
    "\t\t\tif arr[i] >arr[j]:\n",
    "\t\t\t\tarr[i],arr[j] = arr[j],arr[i]\n",
    "\t\t\t\n",
    "\t\t\ti += 1\n",
    "\t\t\tj += 1\n",
    "\t\t\n",
    "\t\t\tk = i\n",
    "\t\t\twhile k - gap > -1:\n",
    "\n",
    "\t\t\t\tif arr[k - gap] > arr[k]:\n",
    "\t\t\t\t\tarr[k-gap],arr[k] = arr[k],arr[k-gap]\n",
    "\t\t\t\tk -= 1\n",
    "\n",
    "\t\tgap //= 2\n",
    "\n",
    "arr2 = [12, 34, 54, 2, 3]\n",
    "print(\"input array:\",arr2)\n",
    "\n",
    "shellSort(arr2)\n",
    "print(\"sorted array\",arr2)\n",
    "\n",
    "\n"
   ]
  },
  {
   "cell_type": "code",
   "execution_count": 32,
   "id": "e730636c-292d-47ff-95d4-d82aef7cfba8",
   "metadata": {},
   "outputs": [],
   "source": [
    "def shell_sort(arr):\n",
    "    gap= len(arr)//2\n",
    "    while gap > 0:\n",
    "        i=0\n",
    "        j= gap\n",
    "        \n",
    "        while j < len(arr):\n",
    "            if arr[i]>arr[j]:\n",
    "                arr[i],arr[j]= arr[j],arr[i]\n",
    "            i += 1\n",
    "            j +=1\n",
    "            \n",
    "            \n",
    "            k = i\n",
    "        \n",
    "            while k-gap>-1:\n",
    "                if arr[k]<arr[k-gap]:\n",
    "                    arr[k], arr[k-gap]= arr[k-gap], arr[k]\n",
    "                k -= 1\n",
    "                    \n",
    "        gap =gap//2\n",
    "        \n",
    "        \n"
   ]
  },
  {
   "cell_type": "code",
   "execution_count": 33,
   "id": "9da2c851-7727-4dde-8dc0-b6264ddb19be",
   "metadata": {},
   "outputs": [
    {
     "data": {
      "text/plain": [
       "[6, 2, 3, 2, 1, 1, 3, 8, 3, 4, 5, 8, 4, 5]"
      ]
     },
     "execution_count": 33,
     "metadata": {},
     "output_type": "execute_result"
    }
   ],
   "source": [
    "arr"
   ]
  },
  {
   "cell_type": "code",
   "execution_count": 36,
   "id": "4588991b-77d7-4ca5-bd48-27ba169a05f0",
   "metadata": {},
   "outputs": [],
   "source": [
    "from random import shuffle"
   ]
  },
  {
   "cell_type": "code",
   "execution_count": 37,
   "id": "ddf0d4fd-8fe9-49d9-857f-7c262d2af413",
   "metadata": {},
   "outputs": [],
   "source": [
    "shuffle(arr\n",
    "       )"
   ]
  },
  {
   "cell_type": "code",
   "execution_count": 38,
   "id": "10e20d95-15c2-419b-b267-400a42afdf31",
   "metadata": {},
   "outputs": [
    {
     "data": {
      "text/plain": [
       "[3, 6, 4, 8, 5, 2, 2, 3, 4, 1, 8, 3, 1, 5]"
      ]
     },
     "execution_count": 38,
     "metadata": {},
     "output_type": "execute_result"
    }
   ],
   "source": [
    "arr"
   ]
  },
  {
   "cell_type": "code",
   "execution_count": 39,
   "id": "c91e89c5-8966-41c7-9787-73ad42f4342a",
   "metadata": {},
   "outputs": [],
   "source": [
    "shell_sort(arr)"
   ]
  },
  {
   "cell_type": "code",
   "execution_count": 40,
   "id": "b78600fd-4c20-4139-99b3-670fc503413b",
   "metadata": {},
   "outputs": [
    {
     "data": {
      "text/plain": [
       "[1, 1, 2, 2, 3, 3, 3, 4, 4, 5, 5, 6, 8, 8]"
      ]
     },
     "execution_count": 40,
     "metadata": {},
     "output_type": "execute_result"
    }
   ],
   "source": [
    "arr"
   ]
  },
  {
   "cell_type": "code",
   "execution_count": 56,
   "id": "c643bbae-1343-4bb6-8b86-88b7ee587870",
   "metadata": {},
   "outputs": [],
   "source": [
    "def shell_sort(arr):\n",
    "    gap= len(arr)//2\n",
    "    i=0\n",
    "    j= gap\n",
    "    \n",
    "    while gap>0:\n",
    "        while j<len(arr):\n",
    "            if arr[i]>arr[j]:\n",
    "                arr[i],arr[j]= arr[j],arr[i]\n",
    "\n",
    "            i +=1\n",
    "            j +=1\n",
    "            \n",
    "            k= i\n",
    "            while k-gap>-1:\n",
    "                if arr[k-gap]>arr[k]:\n",
    "                    arr[k],arr[k-gap]= arr[k-gap],arr[k]\n",
    "\n",
    "                k-=1\n",
    "\n",
    "        \n",
    "        gap = gap//2\n",
    "\n",
    "        \n",
    "        \n",
    "def shell_sort(arr):\n",
    "    gap= len(arr)//2\n",
    "    while gap > 0:\n",
    "        i=0\n",
    "        j= gap\n",
    "        \n",
    "        while j < len(arr):\n",
    "            if arr[i]>arr[j]:\n",
    "                arr[i],arr[j]= arr[j],arr[i]\n",
    "            i += 1\n",
    "            j +=1\n",
    "            \n",
    "            \n",
    "            k = i\n",
    "        \n",
    "            while k-gap>-1:\n",
    "                if arr[k]<arr[k-gap]:\n",
    "                    arr[k], arr[k-gap]= arr[k-gap], arr[k]\n",
    "                k -= 1\n",
    "                    \n",
    "        gap =gap//2\n",
    "        \n",
    "        \n"
   ]
  },
  {
   "cell_type": "code",
   "execution_count": 57,
   "id": "6c6a474a-9e21-434a-9596-9888d1a8df47",
   "metadata": {},
   "outputs": [
    {
     "data": {
      "text/plain": [
       "[2, 2, 4, 4, 5, 5, 6, 7]"
      ]
     },
     "execution_count": 57,
     "metadata": {},
     "output_type": "execute_result"
    }
   ],
   "source": [
    "arr"
   ]
  },
  {
   "cell_type": "code",
   "execution_count": 58,
   "id": "1f1e58a0-591c-42e5-869e-0311fbf2004a",
   "metadata": {},
   "outputs": [],
   "source": [
    "shell_sort(arr)"
   ]
  },
  {
   "cell_type": "code",
   "execution_count": 59,
   "id": "0ba5dabd-5423-4a23-8a13-844d26f55124",
   "metadata": {},
   "outputs": [
    {
     "data": {
      "text/plain": [
       "[2, 2, 4, 4, 5, 5, 6, 7]"
      ]
     },
     "execution_count": 59,
     "metadata": {},
     "output_type": "execute_result"
    }
   ],
   "source": [
    "arr"
   ]
  },
  {
   "cell_type": "code",
   "execution_count": 60,
   "id": "6dae02cf-7be3-4d25-bc62-372c50a81544",
   "metadata": {},
   "outputs": [],
   "source": [
    "arr=[2,5,4,2,7,6,5,4]"
   ]
  },
  {
   "cell_type": "code",
   "execution_count": 61,
   "id": "c8f0698b-51a6-4e4f-a6a6-f87e8e2e06f5",
   "metadata": {},
   "outputs": [],
   "source": [
    "shell_sort(arr)"
   ]
  },
  {
   "cell_type": "code",
   "execution_count": 62,
   "id": "98b2d424-9426-42cd-8295-f840df2b8018",
   "metadata": {},
   "outputs": [
    {
     "data": {
      "text/plain": [
       "[2, 2, 4, 4, 5, 5, 6, 7]"
      ]
     },
     "execution_count": 62,
     "metadata": {},
     "output_type": "execute_result"
    }
   ],
   "source": [
    "arr"
   ]
  },
  {
   "cell_type": "code",
   "execution_count": 63,
   "id": "dc7661df-9bf9-41b1-b849-a262c0b04bf5",
   "metadata": {},
   "outputs": [],
   "source": [
    "shellSort(arr)"
   ]
  },
  {
   "cell_type": "code",
   "execution_count": 64,
   "id": "56768f53-3d16-4e95-860f-50a88dceed38",
   "metadata": {},
   "outputs": [
    {
     "data": {
      "text/plain": [
       "[2, 2, 4, 4, 5, 5, 6, 7]"
      ]
     },
     "execution_count": 64,
     "metadata": {},
     "output_type": "execute_result"
    }
   ],
   "source": [
    "arr"
   ]
  },
  {
   "cell_type": "code",
   "execution_count": 65,
   "id": "5aa5bcea-6551-4547-bd96-904aa20f38bf",
   "metadata": {},
   "outputs": [],
   "source": [
    "def minValueNode(node):\n",
    "    current = node\n",
    " \n",
    "    # loop down to find the leftmost leaf\n",
    "    while(current.left is not None):\n",
    "        current = current.left\n",
    " \n",
    "    return current\n",
    "  \n",
    "def deleteNode(root, key):\n",
    " \n",
    "    # Base Case\n",
    "    if root is None:\n",
    "        return root\n",
    " \n",
    "    if key < root.key:\n",
    "        root.left = deleteNode(root.left, key)\n",
    " \n",
    "    elif(key > root.key):\n",
    "        root.right = deleteNode(root.right, key)\n",
    " \n",
    "    else:\n",
    " \n",
    "        # Node with only one child or no child\n",
    "        if root.left is None:\n",
    "            temp = root.right\n",
    "            root = None\n",
    "            return temp\n",
    " \n",
    "        elif root.right is None:\n",
    "            temp = root.left\n",
    "            root = None\n",
    "            return temp\n",
    " \n",
    "\n",
    "        temp = minValueNode(root.right)\n",
    " \n",
    "        root.key = temp.key\n",
    " \n",
    "        root.right = deleteNode(root.right, temp.key)\n",
    " \n",
    "    return root"
   ]
  },
  {
   "cell_type": "code",
   "execution_count": 149,
   "id": "032c3af3-e040-4219-889c-367ea76ec8bf",
   "metadata": {},
   "outputs": [],
   "source": [
    "class LinkedList():\n",
    "    \n",
    "    \n",
    "    def __init__(self):\n",
    "        self.head= None\n",
    "        self.tail= None\n",
    "        \n",
    "    def insertion(self,val):\n",
    "        self.node = Node(val)\n",
    "        if self.head == None:\n",
    "            self.head= self.node\n",
    "            self.tail =self.node\n",
    "        \n",
    "        else:\n",
    "            self.tail.next = self.node\n",
    "            self.tail= self.node\n",
    "    \n",
    "    def traversal(self):\n",
    "        temp = self.head\n",
    "        while temp is not None:\n",
    "            print(temp.val)\n",
    "            temp = temp.next\n",
    "            \n",
    "    def reverse(self):\n",
    "        prev = None\n",
    "        temp= self.head\n",
    "        self.list = []\n",
    "        while temp is not None:\n",
    "            self.list.append(temp)\n",
    "            temp =temp.next\n",
    "        \n",
    "        arr= self.list\n",
    "        \n",
    "        n= len(arr)\n",
    "        print(n//2)\n",
    "        for i in range(n//2):\n",
    "            print(i, n-i-1)\n",
    "            arr[i],arr[n-i-1]= arr[n-i-1],arr[i]\n",
    "        self.tail= None\n",
    "        self.head= None\n",
    "        \n",
    "        for i in arr:\n",
    "            self.insertion(i.val)\n",
    "               \n",
    "        \n",
    "class Node():\n",
    "    def __init__(self,val):\n",
    "        self.val= val\n",
    "        self.next= None\n",
    "        "
   ]
  },
  {
   "cell_type": "code",
   "execution_count": 150,
   "id": "d5c55bc4-0450-4352-beb7-86f53064bd3d",
   "metadata": {},
   "outputs": [],
   "source": [
    "ll= LinkedList()"
   ]
  },
  {
   "cell_type": "code",
   "execution_count": 151,
   "id": "6e9228ef-c579-4ce1-8ac8-12c77307f9a5",
   "metadata": {},
   "outputs": [],
   "source": [
    "ll.insertion(4)"
   ]
  },
  {
   "cell_type": "code",
   "execution_count": 152,
   "id": "291ed909-3cbf-407f-847d-f457ef947c97",
   "metadata": {},
   "outputs": [
    {
     "data": {
      "text/plain": [
       "4"
      ]
     },
     "execution_count": 152,
     "metadata": {},
     "output_type": "execute_result"
    }
   ],
   "source": [
    "ll.head.val"
   ]
  },
  {
   "cell_type": "code",
   "execution_count": 153,
   "id": "da48be83-46cc-4f2f-8db9-9f9b5e844346",
   "metadata": {},
   "outputs": [
    {
     "data": {
      "text/plain": [
       "4"
      ]
     },
     "execution_count": 153,
     "metadata": {},
     "output_type": "execute_result"
    }
   ],
   "source": [
    "ll.tail.val"
   ]
  },
  {
   "cell_type": "code",
   "execution_count": 154,
   "id": "889b43ab-2ebc-4456-aa42-b90bb67c157d",
   "metadata": {},
   "outputs": [],
   "source": [
    "ll.insertion(12)"
   ]
  },
  {
   "cell_type": "code",
   "execution_count": 155,
   "id": "67bb3794-5d66-465c-8bc5-17a29547c3e5",
   "metadata": {},
   "outputs": [
    {
     "data": {
      "text/plain": [
       "12"
      ]
     },
     "execution_count": 155,
     "metadata": {},
     "output_type": "execute_result"
    }
   ],
   "source": [
    "ll.head.next.val"
   ]
  },
  {
   "cell_type": "code",
   "execution_count": 156,
   "id": "49d5f05a-4c9b-415a-9459-371939eeb13c",
   "metadata": {},
   "outputs": [],
   "source": [
    "ll.insertion(1.2)\n",
    "ll.insertion(121)\n",
    "ll.insertion(1211)\n",
    "ll.insertion(1221)"
   ]
  },
  {
   "cell_type": "code",
   "execution_count": null,
   "id": "ce753caa-de8b-4051-bef0-6d48e86409c2",
   "metadata": {},
   "outputs": [],
   "source": []
  },
  {
   "cell_type": "code",
   "execution_count": 157,
   "id": "9842964e-0a7e-432d-ac4b-8ff422061d89",
   "metadata": {},
   "outputs": [
    {
     "name": "stdout",
     "output_type": "stream",
     "text": [
      "4\n",
      "12\n",
      "1.2\n",
      "121\n",
      "1211\n",
      "1221\n"
     ]
    }
   ],
   "source": [
    "ll.traversal()"
   ]
  },
  {
   "cell_type": "code",
   "execution_count": 158,
   "id": "54edbe16-1e2f-4f0c-96c3-01b7953148a4",
   "metadata": {},
   "outputs": [
    {
     "name": "stdout",
     "output_type": "stream",
     "text": [
      "3\n",
      "0 5\n",
      "1 4\n",
      "2 3\n"
     ]
    }
   ],
   "source": [
    "ll.reverse()"
   ]
  },
  {
   "cell_type": "code",
   "execution_count": 159,
   "id": "028065d3-a970-451f-936d-5099a1f100f0",
   "metadata": {},
   "outputs": [
    {
     "name": "stdout",
     "output_type": "stream",
     "text": [
      "1221\n",
      "1211\n",
      "121\n",
      "1.2\n",
      "12\n",
      "4\n"
     ]
    }
   ],
   "source": [
    "ll.traversal()"
   ]
  },
  {
   "cell_type": "raw",
   "id": "3aaea0a9-f9a9-469f-b013-c9e16bb371c8",
   "metadata": {},
   "source": [
    "import random"
   ]
  },
  {
   "cell_type": "raw",
   "id": "2d2c7719-9eb3-49a8-80d5-792e07114934",
   "metadata": {},
   "source": []
  },
  {
   "cell_type": "code",
   "execution_count": 136,
   "id": "d332dc1a-207a-4054-a5e4-d1a761e3fb17",
   "metadata": {},
   "outputs": [],
   "source": [
    "def reverse_(arr):\n",
    "    n= len(arr)\n",
    "    print(n//2)\n",
    "    for i in range(n//2):\n",
    "        print(i, n-i-1)\n",
    "        arr[i],arr[n-i-1]= arr[n-i-1],arr[i]\n",
    "    return arr"
   ]
  },
  {
   "cell_type": "code",
   "execution_count": 121,
   "id": "41650aa7-97ab-43c0-aa78-bdd191bc4a80",
   "metadata": {},
   "outputs": [],
   "source": [
    "arr= [1,2,3,4,5,6,7,8]"
   ]
  },
  {
   "cell_type": "code",
   "execution_count": 122,
   "id": "70762f5e-0d5e-4d5c-abc6-53e762b36450",
   "metadata": {},
   "outputs": [
    {
     "data": {
      "text/plain": [
       "8"
      ]
     },
     "execution_count": 122,
     "metadata": {},
     "output_type": "execute_result"
    }
   ],
   "source": [
    "len(arr)"
   ]
  },
  {
   "cell_type": "code",
   "execution_count": 123,
   "id": "03d5f10b-1bd2-4e4f-866d-f2306697e820",
   "metadata": {},
   "outputs": [
    {
     "name": "stdout",
     "output_type": "stream",
     "text": [
      "4\n",
      "0 7\n",
      "1 6\n",
      "2 5\n",
      "3 4\n"
     ]
    }
   ],
   "source": [
    "reverse(arr)"
   ]
  },
  {
   "cell_type": "code",
   "execution_count": 124,
   "id": "dfb03f61-9304-4fca-b771-d07d454166b7",
   "metadata": {},
   "outputs": [
    {
     "data": {
      "text/plain": [
       "[8, 7, 6, 5, 4, 3, 2, 1]"
      ]
     },
     "execution_count": 124,
     "metadata": {},
     "output_type": "execute_result"
    }
   ],
   "source": [
    "arr"
   ]
  },
  {
   "cell_type": "code",
   "execution_count": 108,
   "id": "a66a0625-3283-4960-a55c-99d90cf6a35d",
   "metadata": {},
   "outputs": [
    {
     "data": {
      "text/plain": [
       "8"
      ]
     },
     "execution_count": 108,
     "metadata": {},
     "output_type": "execute_result"
    }
   ],
   "source": [
    "len(arr)"
   ]
  },
  {
   "cell_type": "code",
   "execution_count": 223,
   "id": "c6b5a675-d8dd-4863-90c9-24c82a809a56",
   "metadata": {},
   "outputs": [],
   "source": [
    "class LinkedList():\n",
    "    \n",
    "    \n",
    "    def __init__(self):\n",
    "        self.head= None\n",
    "#         self.tail= None\n",
    "        \n",
    "    def insertion(self,val):\n",
    "        self.node = Node(val)\n",
    "        if self.head == None:\n",
    "            self.head= self.node\n",
    "#             self.tail =self.node\n",
    "        \n",
    "        else:\n",
    "            temp= self.head\n",
    "            self.head= self.node\n",
    "            self.head.next= temp\n",
    "\n",
    "#             self.tail= self.node\n",
    "    \n",
    "    def traversal(self):\n",
    "        temp = self.head\n",
    "        while temp is not None:\n",
    "            print(temp.val)\n",
    "            temp = temp.next\n",
    "            \n",
    "    def reverse(self):\n",
    "        prev = None\n",
    "        temp = self.head\n",
    "        while temp is not None:\n",
    "            next = temp.next\n",
    "            temp.next = prev\n",
    "            prev= temp\n",
    "            temp= next\n",
    "            \n",
    "        self.head = prev\n",
    "            \n",
    "            \n",
    "    def deletion(self,val):\n",
    "        temp  = self.head\n",
    "        if temp.val == val:\n",
    "            self.head= self.head.next\n",
    "            return val\n",
    "            \n",
    "        else:\n",
    "            while temp.next is not None:\n",
    "                if temp.next.val == val:\n",
    "                    temp.next = temp.next.next\n",
    "                    return val\n",
    "                else:\n",
    "                    temp= temp.next\n",
    "            \n",
    "        return \"Can't Delete\"\n",
    "    \n",
    "        \n",
    "class Node():\n",
    "    def __init__(self,val):\n",
    "        self.val= val\n",
    "        self.next= None\n",
    "        "
   ]
  },
  {
   "cell_type": "code",
   "execution_count": 224,
   "id": "bdd398ad-966f-4862-9244-650a7baa36ec",
   "metadata": {},
   "outputs": [],
   "source": [
    "l= LinkedList()"
   ]
  },
  {
   "cell_type": "code",
   "execution_count": 225,
   "id": "e27bcf1e-feea-4c31-8f90-543708573592",
   "metadata": {},
   "outputs": [],
   "source": [
    "l.insertion(6)"
   ]
  },
  {
   "cell_type": "code",
   "execution_count": 226,
   "id": "cf45c406-2f1a-4603-86ce-724802034455",
   "metadata": {},
   "outputs": [],
   "source": [
    "l.insertion(16)"
   ]
  },
  {
   "cell_type": "code",
   "execution_count": 227,
   "id": "1cb543db-d398-4ef6-bb94-44229b936a9a",
   "metadata": {},
   "outputs": [
    {
     "data": {
      "text/plain": [
       "16"
      ]
     },
     "execution_count": 227,
     "metadata": {},
     "output_type": "execute_result"
    }
   ],
   "source": [
    "l.head.val"
   ]
  },
  {
   "cell_type": "code",
   "execution_count": 228,
   "id": "b9d7edae-ae3e-4198-94c7-363cbef99db6",
   "metadata": {},
   "outputs": [
    {
     "data": {
      "text/plain": [
       "6"
      ]
     },
     "execution_count": 228,
     "metadata": {},
     "output_type": "execute_result"
    }
   ],
   "source": [
    "l.head.next.val"
   ]
  },
  {
   "cell_type": "code",
   "execution_count": 229,
   "id": "30edb9fe-b68f-440c-99d9-f400b28b8d10",
   "metadata": {},
   "outputs": [],
   "source": [
    "l.insertion(160)\n",
    "l.insertion(1600)\n",
    "l.insertion(16000)\n",
    "l.insertion(160000)\n",
    "l.insertion(1600000)"
   ]
  },
  {
   "cell_type": "code",
   "execution_count": 230,
   "id": "84b38934-3e6b-435e-baee-f8f4a07a8952",
   "metadata": {},
   "outputs": [
    {
     "data": {
      "text/plain": [
       "6"
      ]
     },
     "execution_count": 230,
     "metadata": {},
     "output_type": "execute_result"
    }
   ],
   "source": [
    "l.head.next.next.next.next.next.next.val"
   ]
  },
  {
   "cell_type": "code",
   "execution_count": 231,
   "id": "f0004857-5dc5-40f1-866d-58de3eddad21",
   "metadata": {},
   "outputs": [
    {
     "data": {
      "text/plain": [
       "160"
      ]
     },
     "execution_count": 231,
     "metadata": {},
     "output_type": "execute_result"
    }
   ],
   "source": [
    "l.deletion(160)"
   ]
  },
  {
   "cell_type": "code",
   "execution_count": 232,
   "id": "8b0e408e-5a16-4d9a-9925-6d95c08bdc9e",
   "metadata": {},
   "outputs": [
    {
     "name": "stdout",
     "output_type": "stream",
     "text": [
      "1600000\n",
      "160000\n",
      "16000\n",
      "1600\n",
      "16\n",
      "6\n"
     ]
    }
   ],
   "source": [
    "l.traversal()"
   ]
  },
  {
   "cell_type": "code",
   "execution_count": null,
   "id": "5b028ac2-3f00-4118-a4b0-da3df61eb8fb",
   "metadata": {},
   "outputs": [],
   "source": []
  },
  {
   "cell_type": "code",
   "execution_count": 233,
   "id": "c30cd6ca-b771-4c5f-b8dd-16deaeb5429c",
   "metadata": {},
   "outputs": [
    {
     "data": {
      "text/plain": [
       "6"
      ]
     },
     "execution_count": 233,
     "metadata": {},
     "output_type": "execute_result"
    }
   ],
   "source": [
    "l.deletion(6)"
   ]
  },
  {
   "cell_type": "code",
   "execution_count": 234,
   "id": "e3dd03e8-8209-4948-ac8f-f07b683b167a",
   "metadata": {},
   "outputs": [
    {
     "name": "stdout",
     "output_type": "stream",
     "text": [
      "1600000\n",
      "160000\n",
      "16000\n",
      "1600\n",
      "16\n"
     ]
    }
   ],
   "source": [
    "l.traversal()"
   ]
  },
  {
   "cell_type": "code",
   "execution_count": null,
   "id": "a0277ce7-0830-40ea-9b69-50dd4ee4cb9c",
   "metadata": {},
   "outputs": [],
   "source": []
  }
 ],
 "metadata": {
  "kernelspec": {
   "display_name": "Python 3",
   "language": "python",
   "name": "python3"
  },
  "language_info": {
   "codemirror_mode": {
    "name": "ipython",
    "version": 3
   },
   "file_extension": ".py",
   "mimetype": "text/x-python",
   "name": "python",
   "nbconvert_exporter": "python",
   "pygments_lexer": "ipython3",
   "version": "3.8.5"
  }
 },
 "nbformat": 4,
 "nbformat_minor": 5
}

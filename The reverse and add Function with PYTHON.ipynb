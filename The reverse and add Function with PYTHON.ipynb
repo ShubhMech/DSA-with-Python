{
 "cells": [
  {
   "cell_type": "code",
   "execution_count": 123,
   "id": "a1b2999d-14f4-4cab-a05d-8a89ff95660d",
   "metadata": {},
   "outputs": [],
   "source": [
    "def afunc(arr,n):\n",
    "    arr1= arr.copy()\n",
    "    for i in range(0,len(arr)//2):\n",
    "        arr[i],arr[n-i-1]= arr[n-i-1],arr[i]\n",
    "    if arr == arr1:\n",
    "        return True\n",
    "    else:\n",
    "        return False"
   ]
  },
  {
   "cell_type": "code",
   "execution_count": 124,
   "id": "b768fa11-da0d-423c-8e48-686fe0fe1e9b",
   "metadata": {},
   "outputs": [],
   "source": [
    "def afunc1(arr,n):\n",
    "    global arr1_\n",
    "    arr1= arr.copy()\n",
    "    for i in range(0,len(arr)//2):\n",
    "        arr[i],arr[n-i-1]= arr[n-i-1],arr[i]\n",
    "        \n",
    "    f=map(str,arr)\n",
    "    ff=(''.join(f))\n",
    "    jj=int(ff)\n",
    "#     arr11_= [int(x) for x in str(jj)]\n",
    "    \n",
    "    f2=map(str,arr1)\n",
    "    ff2=(''.join(f2))\n",
    "    jj2=int(ff2)\n",
    "#     arr12_= [int(x) for x in str(jj)]\n",
    "\n",
    "    arr1_= jj+jj2\n",
    "    arr1_= [int(x) for x in str(arr1_)]\n",
    "    \n",
    "    return afunc(arr1_,len(arr1_)), arr1_"
   ]
  },
  {
   "cell_type": "code",
   "execution_count": 169,
   "id": "8714be68-ed60-4363-9249-525bd0d2fa0b",
   "metadata": {},
   "outputs": [],
   "source": [
    "arr=[1,9,5]"
   ]
  },
  {
   "cell_type": "code",
   "execution_count": 170,
   "id": "5e274960-260e-45d2-b47a-34d3004a6251",
   "metadata": {},
   "outputs": [],
   "source": [
    "# f=map(str,arr)\n",
    "# ff=(''.join(f))\n",
    "# jj=int(ff)\n",
    "# arr= [int(x) for x in str(jj)]"
   ]
  },
  {
   "cell_type": "code",
   "execution_count": 171,
   "id": "78f33cc5-71b9-4298-9778-cf673410f1c1",
   "metadata": {},
   "outputs": [],
   "source": [
    "# ff"
   ]
  },
  {
   "cell_type": "code",
   "execution_count": 172,
   "id": "815bcf40-0d05-40a8-9af8-81e595a075c2",
   "metadata": {},
   "outputs": [],
   "source": [
    "# jj"
   ]
  },
  {
   "cell_type": "code",
   "execution_count": 173,
   "id": "581578a1-ddb6-4c81-be39-3acc1ca67273",
   "metadata": {},
   "outputs": [],
   "source": [
    "# arr"
   ]
  },
  {
   "cell_type": "code",
   "execution_count": 181,
   "id": "fc3e824e-f73f-450f-8bfd-ea325d61ceef",
   "metadata": {},
   "outputs": [],
   "source": [
    "arr=[9,3,3,9]"
   ]
  },
  {
   "cell_type": "code",
   "execution_count": 183,
   "id": "4bf18b82-c38b-49c1-93e0-1e1d052ec6bd",
   "metadata": {},
   "outputs": [
    {
     "data": {
      "text/plain": [
       "(False, [2, 3, 3, 3, 1])"
      ]
     },
     "execution_count": 183,
     "metadata": {},
     "output_type": "execute_result"
    }
   ],
   "source": [
    "afunc1(arr,len(arr))"
   ]
  },
  {
   "cell_type": "code",
   "execution_count": 184,
   "id": "3b112aa5-9a8c-487e-b86b-0d95b5e5e266",
   "metadata": {},
   "outputs": [],
   "source": [
    "def afunc2(arr,n):\n",
    "    res, arr =afunc1(arr,len(arr))\n",
    "    count= 0\n",
    "    while not res and count<=1000 :\n",
    "        res, arr =afunc1(arr,len(arr))\n",
    "#         print(arr)\n",
    "        afunc1(arr,len(arr))\n",
    "        count+=1\n",
    "    if count==1000:\n",
    "        print(\"Lanka Lag Gayi\")\n",
    "    return res,arr"
   ]
  },
  {
   "cell_type": "code",
   "execution_count": 176,
   "id": "9bdcc986-4cac-4a4b-9211-91912fccb82e",
   "metadata": {},
   "outputs": [],
   "source": [
    "# def afunc3(arr,n):\n",
    "#     res,arr= afunc2(arr,n)\n",
    "#     while not res:\n",
    "#         print(arr)\n",
    "#         afunc2(arr,len(arr),res)\n",
    "#     return arr"
   ]
  },
  {
   "cell_type": "code",
   "execution_count": 185,
   "id": "b8c1aaf7-b8ba-4a6e-ae2d-468cc60af450",
   "metadata": {
    "scrolled": true,
    "tags": []
   },
   "outputs": [],
   "source": [
    "ans=afunc2(arr,len(arr)\n",
    "      )"
   ]
  },
  {
   "cell_type": "code",
   "execution_count": 186,
   "id": "3e7a428a-8d5c-4594-a03a-4c2339769957",
   "metadata": {},
   "outputs": [
    {
     "data": {
      "text/plain": [
       "True"
      ]
     },
     "execution_count": 186,
     "metadata": {},
     "output_type": "execute_result"
    }
   ],
   "source": [
    "afunc(ans[1],len(ans[1]))"
   ]
  },
  {
   "cell_type": "code",
   "execution_count": 187,
   "id": "f889a9ba-c408-4002-8f62-a994c3248044",
   "metadata": {},
   "outputs": [
    {
     "data": {
      "text/plain": [
       "[3, 6, 6, 6, 3]"
      ]
     },
     "execution_count": 187,
     "metadata": {},
     "output_type": "execute_result"
    }
   ],
   "source": [
    "ans[1]"
   ]
  },
  {
   "cell_type": "code",
   "execution_count": null,
   "id": "96e9b13c-7d7e-4e49-9224-787a54324441",
   "metadata": {},
   "outputs": [],
   "source": []
  },
  {
   "cell_type": "code",
   "execution_count": null,
   "id": "7e06638f-bf7e-4ece-9ca2-86a50485047b",
   "metadata": {},
   "outputs": [],
   "source": []
  }
 ],
 "metadata": {
  "kernelspec": {
   "display_name": "Python 3",
   "language": "python",
   "name": "python3"
  },
  "language_info": {
   "codemirror_mode": {
    "name": "ipython",
    "version": 3
   },
   "file_extension": ".py",
   "mimetype": "text/x-python",
   "name": "python",
   "nbconvert_exporter": "python",
   "pygments_lexer": "ipython3",
   "version": "3.8.5"
  }
 },
 "nbformat": 4,
 "nbformat_minor": 5
}

{
 "cells": [
  {
   "cell_type": "code",
   "execution_count": 15,
   "id": "4d0a8d1b-0248-4bba-b42f-05ec6cbe1477",
   "metadata": {},
   "outputs": [],
   "source": [
    "class BinarySearchTreeNode:\n",
    "    def __init__(self,val=None):\n",
    "        self.val= val\n",
    "        self.left= None\n",
    "        self.right=None"
   ]
  },
  {
   "cell_type": "code",
   "execution_count": 16,
   "id": "f4869ab0-f42a-40a1-b12a-2612d54baeca",
   "metadata": {},
   "outputs": [],
   "source": [
    "root= BinarySearchTreeNode()"
   ]
  },
  {
   "cell_type": "code",
   "execution_count": 17,
   "id": "8c11ce92-85c8-4fe6-a979-a3b928038af1",
   "metadata": {},
   "outputs": [],
   "source": [
    "def insert_node(root,val):\n",
    "    if root.val==None:\n",
    "        root.val= val\n",
    "    else:\n",
    "        if root.val>= val:\n",
    "            if root.left is not None:\n",
    "                insert_node(root.left,val)\n",
    "            else:\n",
    "                root.left= BinarySearchTreeNode(val)\n",
    "        else:\n",
    "            if root.right is not None:               \n",
    "                insert_node(root.right,val)\n",
    "            else:\n",
    "                root.right= BinarySearchTreeNode(val)\n",
    "            \n",
    "            "
   ]
  },
  {
   "cell_type": "code",
   "execution_count": 18,
   "id": "2de2eadd-47c7-409a-aa84-d83a3bd4bfdd",
   "metadata": {},
   "outputs": [],
   "source": [
    "insert_node(root,5)"
   ]
  },
  {
   "cell_type": "code",
   "execution_count": 19,
   "id": "97d7e1ad-3fb2-4d47-8e60-8cad270ee43c",
   "metadata": {},
   "outputs": [
    {
     "data": {
      "text/plain": [
       "5"
      ]
     },
     "execution_count": 19,
     "metadata": {},
     "output_type": "execute_result"
    }
   ],
   "source": [
    "root.val"
   ]
  },
  {
   "cell_type": "code",
   "execution_count": 20,
   "id": "43f19464-1285-4633-b87e-b3d0e02678c8",
   "metadata": {},
   "outputs": [],
   "source": [
    "root.left"
   ]
  },
  {
   "cell_type": "code",
   "execution_count": 21,
   "id": "22ae68ca-ecfb-4014-a74e-2b7aa3ca2c98",
   "metadata": {},
   "outputs": [],
   "source": [
    "insert_node(root,10)"
   ]
  },
  {
   "cell_type": "raw",
   "id": "514bd878-7547-4e6f-80eb-854e17e790f0",
   "metadata": {},
   "source": []
  },
  {
   "cell_type": "code",
   "execution_count": 25,
   "id": "1c2e7b95-0444-4aa0-aee6-28f7a36b27fd",
   "metadata": {},
   "outputs": [],
   "source": [
    "root.left"
   ]
  },
  {
   "cell_type": "code",
   "execution_count": 24,
   "id": "c7b82852-1b8d-4f2e-a5ca-a6343a9d4e0c",
   "metadata": {},
   "outputs": [
    {
     "data": {
      "text/plain": [
       "10"
      ]
     },
     "execution_count": 24,
     "metadata": {},
     "output_type": "execute_result"
    }
   ],
   "source": [
    "root.right.val"
   ]
  },
  {
   "cell_type": "code",
   "execution_count": 26,
   "id": "2621e593-9585-4c61-bebb-334108ac8917",
   "metadata": {},
   "outputs": [],
   "source": [
    "insert_node(root,15)"
   ]
  },
  {
   "cell_type": "code",
   "execution_count": 28,
   "id": "e1b0d84c-bd8e-4351-b75d-7d661f5cfba3",
   "metadata": {},
   "outputs": [
    {
     "data": {
      "text/plain": [
       "15"
      ]
     },
     "execution_count": 28,
     "metadata": {},
     "output_type": "execute_result"
    }
   ],
   "source": [
    "root.right.right.val"
   ]
  },
  {
   "cell_type": "code",
   "execution_count": 29,
   "id": "5b916b19-aa65-4346-988b-e550180d0575",
   "metadata": {},
   "outputs": [],
   "source": [
    "insert_node(root,20)"
   ]
  },
  {
   "cell_type": "code",
   "execution_count": 30,
   "id": "359e51df-e79d-4845-bd05-d89122b83436",
   "metadata": {},
   "outputs": [],
   "source": [
    "insert_node(root,25)"
   ]
  },
  {
   "cell_type": "code",
   "execution_count": 31,
   "id": "88810c49-7d74-4e4c-875e-f6d1525ebaa5",
   "metadata": {},
   "outputs": [],
   "source": [
    "insert_node(root,30)"
   ]
  },
  {
   "cell_type": "code",
   "execution_count": 32,
   "id": "d2c332b0-459a-4b25-badd-eae48e9fa260",
   "metadata": {},
   "outputs": [],
   "source": [
    "insert_node(root,35)"
   ]
  },
  {
   "cell_type": "code",
   "execution_count": 33,
   "id": "f254b7e7-cf1b-4ae8-849b-10112661b543",
   "metadata": {},
   "outputs": [],
   "source": [
    "insert_node(root,3)"
   ]
  },
  {
   "cell_type": "code",
   "execution_count": 34,
   "id": "f331e6dc-cb77-4976-8cc4-9e0b249a97dc",
   "metadata": {},
   "outputs": [],
   "source": [
    "class Nodes:\n",
    "    def __init__(self,value):\n",
    "        self.value=value\n",
    "        self.next=None\n",
    "        \n",
    "class Linked_List:\n",
    "    def __init__(self):\n",
    "        self.head=None\n",
    "        self.tail=None\n",
    "\n",
    "class Queue:\n",
    "    def __init__(self):\n",
    "        self.items=Linked_List()\n",
    "        \n",
    "    def enqueue(self,value):\n",
    "        node=Nodes(value)\n",
    "        if self.items.head is not None:\n",
    "        \n",
    "            self.items.tail.next=node\n",
    "            self.items.tail=node\n",
    "            \n",
    "        else:\n",
    "            self.items.head=node\n",
    "            self.items.tail=node\n",
    "            \n",
    "    def is_empty(self):\n",
    "        if self.items.head is None:\n",
    "            return True\n",
    "        else:\n",
    "            return False\n",
    "    \n",
    "    \n",
    "    def dequeue(self):\n",
    "        if self.is_empty():\n",
    "            return \"Can't dequeue, dumbass!\"\n",
    "        else:\n",
    "            temp=self.items.head\n",
    "#             temp1=temp\n",
    "            \n",
    "            if self.items.head==self.items.tail:\n",
    "                \n",
    "                self.items.tail=None\n",
    "                self.items.head=None\n",
    "                \n",
    "            else:\n",
    "                self.items.head=self.items.head.next\n",
    "                \n",
    "            return temp\n",
    "    \n",
    "    def peep(self):\n",
    "        if self.is_empty():\n",
    "            return \"Can't peep, dumbass!\"\n",
    "        else:\n",
    "            return self.items.head.value\n",
    "            \n",
    "    def delete(self):\n",
    "        if self.is_empty():\n",
    "            return \"Can't delete, dumbass!\"\n",
    "        else:\n",
    "            self.items.head, self.items.tail=None\n",
    "            return self.items.head.value"
   ]
  },
  {
   "cell_type": "code",
   "execution_count": null,
   "id": "90ac1014-f260-43e6-b7a7-4528a6ea107b",
   "metadata": {},
   "outputs": [],
   "source": []
  },
  {
   "cell_type": "code",
   "execution_count": 38,
   "id": "89e57fc1-3a41-4890-9f74-77a4dde63746",
   "metadata": {},
   "outputs": [],
   "source": [
    "def level_order(root):\n",
    "    if not root:\n",
    "        return \n",
    "    else:\n",
    "        q=Queue()\n",
    "        q.enqueue(root)\n",
    "        while not q.is_empty():\n",
    "\n",
    "            root=q.dequeue()\n",
    "            print(root.value.val)\n",
    "            if root.value.left is not None:\n",
    "                q.enqueue(root.value.left)\n",
    "                \n",
    "            if root.value.right is not None:\n",
    "                q.enqueue(root.value.right)\n",
    "        "
   ]
  },
  {
   "cell_type": "code",
   "execution_count": 39,
   "id": "2691f676-c608-4de1-9d9c-1f1ee22a9ea6",
   "metadata": {},
   "outputs": [
    {
     "name": "stdout",
     "output_type": "stream",
     "text": [
      "5\n",
      "3\n",
      "10\n",
      "15\n",
      "20\n",
      "25\n",
      "30\n",
      "35\n"
     ]
    }
   ],
   "source": [
    "level_order(root)"
   ]
  },
  {
   "cell_type": "code",
   "execution_count": 42,
   "id": "420ad6d4-0382-4609-9966-e0783702ac9a",
   "metadata": {},
   "outputs": [],
   "source": [
    "def pre_order(root):\n",
    "    if not root:\n",
    "        return\n",
    "    else:\n",
    "        print(root.val)\n",
    "        pre_order(root.left)\n",
    "        pre_order(root.right)"
   ]
  },
  {
   "cell_type": "code",
   "execution_count": 43,
   "id": "bdb25d99-f5c9-4191-8c96-27316da7bca6",
   "metadata": {},
   "outputs": [
    {
     "name": "stdout",
     "output_type": "stream",
     "text": [
      "5\n",
      "3\n",
      "10\n",
      "15\n",
      "20\n",
      "25\n",
      "30\n",
      "35\n"
     ]
    }
   ],
   "source": [
    "pre_order(root)"
   ]
  },
  {
   "cell_type": "code",
   "execution_count": 44,
   "id": "39ac68de-b64a-45cc-91cb-ddcb1fafba74",
   "metadata": {},
   "outputs": [],
   "source": [
    "def post_order(root):\n",
    "    if not root:\n",
    "        return\n",
    "    else:\n",
    "        \n",
    "        pre_order(root.left)\n",
    "        pre_order(root.right)\n",
    "        print(root.val)"
   ]
  },
  {
   "cell_type": "code",
   "execution_count": null,
   "id": "3d0c0b9b-4c7b-443c-be12-d7634eb7238d",
   "metadata": {},
   "outputs": [],
   "source": []
  }
 ],
 "metadata": {
  "kernelspec": {
   "display_name": "Python 3",
   "language": "python",
   "name": "python3"
  },
  "language_info": {
   "codemirror_mode": {
    "name": "ipython",
    "version": 3
   },
   "file_extension": ".py",
   "mimetype": "text/x-python",
   "name": "python",
   "nbconvert_exporter": "python",
   "pygments_lexer": "ipython3",
   "version": "3.8.5"
  }
 },
 "nbformat": 4,
 "nbformat_minor": 5
}

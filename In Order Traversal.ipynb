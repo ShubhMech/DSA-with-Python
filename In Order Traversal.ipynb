{
 "cells": [
  {
   "cell_type": "code",
   "execution_count": 1,
   "id": "6920a81b-3a60-4296-a1ce-dc93e915308e",
   "metadata": {},
   "outputs": [],
   "source": [
    "class BinaryTree:\n",
    "    def __init__(self,val):\n",
    "        self.val= val\n",
    "        self.left=None\n",
    "        self.right=None"
   ]
  },
  {
   "cell_type": "code",
   "execution_count": 2,
   "id": "904579be-88ff-4afe-8b76-a251e23298d4",
   "metadata": {},
   "outputs": [],
   "source": [
    "root= BinaryTree(4)"
   ]
  },
  {
   "cell_type": "code",
   "execution_count": 3,
   "id": "669efe55-5d27-43dc-b424-5d31a87e383d",
   "metadata": {},
   "outputs": [
    {
     "data": {
      "text/plain": [
       "4"
      ]
     },
     "execution_count": 3,
     "metadata": {},
     "output_type": "execute_result"
    }
   ],
   "source": [
    "root.val"
   ]
  },
  {
   "cell_type": "code",
   "execution_count": 4,
   "id": "42e80c53-019c-46ab-94c3-57693cc9fe16",
   "metadata": {},
   "outputs": [],
   "source": [
    "root.left"
   ]
  },
  {
   "cell_type": "code",
   "execution_count": 5,
   "id": "c02274db-d851-4ca7-b648-81f9de8daacf",
   "metadata": {},
   "outputs": [],
   "source": [
    "lnode1= BinaryTree(2)\n",
    "rnode1= BinaryTree(6)"
   ]
  },
  {
   "cell_type": "code",
   "execution_count": 6,
   "id": "b402fc55-d700-4fb1-bd4c-e791f7e85b1d",
   "metadata": {},
   "outputs": [],
   "source": [
    "root.left= lnode1\n",
    "root.right= rnode1"
   ]
  },
  {
   "cell_type": "code",
   "execution_count": 7,
   "id": "aad7561a-2bcf-444d-ac6c-61b742eb1fd3",
   "metadata": {},
   "outputs": [],
   "source": [
    "lnode2= BinaryTree(22)\n",
    "rnode2= BinaryTree(62)\n",
    "lnode3= BinaryTree(21)\n",
    "rnode3= BinaryTree(61)"
   ]
  },
  {
   "cell_type": "code",
   "execution_count": 8,
   "id": "5a9c4526-04aa-410f-9e8e-fbcfaca75cf2",
   "metadata": {},
   "outputs": [],
   "source": [
    "lnode1.left= lnode2\n",
    "lnode1.right= lnode3"
   ]
  },
  {
   "cell_type": "code",
   "execution_count": 9,
   "id": "a4e56244-536d-4337-a1e9-fab8af92b659",
   "metadata": {},
   "outputs": [],
   "source": [
    "rnode1.left= rnode2\n",
    "rnode1.right= rnode3"
   ]
  },
  {
   "cell_type": "code",
   "execution_count": 14,
   "id": "1183213b-d7c5-487e-93ef-e571f4990128",
   "metadata": {},
   "outputs": [],
   "source": [
    "def in_order(root1):\n",
    "    if not root1:\n",
    "        return\n",
    "    \n",
    "    else:\n",
    "#         print(root.val,root1.left.val,root1.right.val)\n",
    "        in_order(root1.left)\n",
    "        print(root1.val)\n",
    "        in_order(root1.right)"
   ]
  },
  {
   "cell_type": "code",
   "execution_count": 15,
   "id": "707bc298-bdf9-4fb3-971e-b6a9b1c7ce68",
   "metadata": {},
   "outputs": [
    {
     "name": "stdout",
     "output_type": "stream",
     "text": [
      "22\n",
      "2\n",
      "21\n",
      "4\n",
      "62\n",
      "6\n",
      "61\n"
     ]
    }
   ],
   "source": [
    "in_order(root)"
   ]
  },
  {
   "cell_type": "code",
   "execution_count": null,
   "id": "5bcdf426-cf5f-444e-ae7b-9d51d6b9a186",
   "metadata": {},
   "outputs": [],
   "source": []
  },
  {
   "cell_type": "raw",
   "id": "767724d1-82b1-41ae-9f96-0b59c9a42c4c",
   "metadata": {},
   "source": [
    "root.val\n"
   ]
  },
  {
   "cell_type": "code",
   "execution_count": 36,
   "id": "09076e2e-7b12-40d2-a121-70221bf1786c",
   "metadata": {},
   "outputs": [
    {
     "data": {
      "text/plain": [
       "4"
      ]
     },
     "execution_count": 36,
     "metadata": {},
     "output_type": "execute_result"
    }
   ],
   "source": [
    "root.val\n"
   ]
  },
  {
   "cell_type": "code",
   "execution_count": null,
   "id": "ab0ab334-ce47-4f88-8017-d37770107737",
   "metadata": {},
   "outputs": [],
   "source": []
  }
 ],
 "metadata": {
  "kernelspec": {
   "display_name": "Python 3",
   "language": "python",
   "name": "python3"
  },
  "language_info": {
   "codemirror_mode": {
    "name": "ipython",
    "version": 3
   },
   "file_extension": ".py",
   "mimetype": "text/x-python",
   "name": "python",
   "nbconvert_exporter": "python",
   "pygments_lexer": "ipython3",
   "version": "3.8.5"
  }
 },
 "nbformat": 4,
 "nbformat_minor": 5
}
